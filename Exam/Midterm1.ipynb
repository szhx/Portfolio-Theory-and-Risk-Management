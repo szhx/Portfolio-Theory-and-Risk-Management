{
 "cells": [
  {
   "cell_type": "markdown",
   "metadata": {},
   "source": [
    "## Imports"
   ]
  },
  {
   "cell_type": "code",
   "execution_count": 197,
   "metadata": {},
   "outputs": [],
   "source": [
    "import pandas as pd\n",
    "import numpy as np\n",
    "import scipy.stats\n",
    "import seaborn as sns\n",
    "import statsmodels.api as sm\n",
    "from statsmodels.regression.rolling import RollingOLS\n",
    "from sklearn.linear_model import LinearRegression\n",
    "import warnings\n",
    "warnings.filterwarnings(\"ignore\")\n",
    "%matplotlib inline\n",
    "import matplotlib.pyplot as plt"
   ]
  },
  {
   "cell_type": "markdown",
   "metadata": {},
   "source": [
    "## Q1\n",
    "\n",
    "1. It is not reasonable since the portfolio is constructed not just based on the Sharpe Ratio. The portfolio takes the covariance into account and optimized itself by minimizing the volatility (covariance) to fulfill a target return. Just comparing the Sharpe Ratios does not make sense to include crypto in our profile. \n",
    "\n",
    "2. False. Mean returns have a linear relationship, so I would not say that a tiny change in the mean will affect a lot the mean variance frontier. \n",
    "\n",
    "3. The ones using normal approxiamations are better in real data. From HW3, our group showed that the normal methods give a result that is closer to the actual quantile (0.05). In addition, historical simulation requires a large data sample to estimate. If the sample is small, then there will be large standard errors on the order statistic. \n",
    "\n",
    "4. \n",
    "\n",
    "5. Classic MV Portfolio only provide the customer two options. That is if you want to have higher return with higher volatility, you may need to invest more in tangency portfolio. If you don't want risk, then invest more in the GMV. However, it does not take the betas into account like Ridge and LASSO. Therefore, we might get more information from the Ridge about the beta estimates. \n",
    "\n",
    "6. \n",
    "   HFRIFWI - Hedge fund Fund Weighted Composite Index. Index of surveyed hedge funds (2000 Holdings) designed to track the performance of the hedge market as a whole. Monthly   returns based on surveys. This can't be launched as an ETF as they need a third party index as benchmark. \n",
    "   \n",
    "   HDG - Actual tradaeble asset trying to track the MLFM-ES, by actually trading on these assets. HDG do not strictly adhere to MLFM-ES replication and would deviate from positions if they can get additional returns or reduce transaction cost. \n",
    "\n"
   ]
  },
  {
   "cell_type": "markdown",
   "metadata": {},
   "source": [
    "## Helper Functions"
   ]
  },
  {
   "cell_type": "code",
   "execution_count": 198,
   "metadata": {},
   "outputs": [],
   "source": [
    "def performance_summary(return_data, annualization = 12):\n",
    "    \"\"\" \n",
    "        Returns the Performance Stats for given set of returns\n",
    "        Inputs: \n",
    "            return_data - DataFrame with Date index and Monthly Returns for different assets/strategies.\n",
    "        Output:\n",
    "            summary_stats - DataFrame with annualized mean return, vol, sharpe ratio. Skewness, Excess Kurtosis, Var (0.5) and\n",
    "                            CVaR (0.5) and drawdown based on monthly returns. \n",
    "    \"\"\"\n",
    "    summary_stats = return_data.mean().to_frame('Mean').apply(lambda x: x*annualization)\n",
    "    summary_stats['Volatility'] = return_data.std().apply(lambda x: x*np.sqrt(annualization))\n",
    "    summary_stats['Sharpe Ratio/Mean over Volatility'] = summary_stats['Mean']/summary_stats['Volatility']\n",
    "\n",
    "    summary_stats['Skewness'] = return_data.skew()\n",
    "    summary_stats['Excess Kurtosis'] = return_data.kurtosis()\n",
    "    summary_stats['VaR (0.05)'] = return_data.quantile(.05, axis = 0)\n",
    "    summary_stats['CVaR (0.05)'] = return_data[return_data <= return_data.quantile(.05, axis = 0)].mean()\n",
    "    \n",
    "    wealth_index = 1000*(1+return_data).cumprod()\n",
    "    previous_peaks = wealth_index.cummax()\n",
    "    drawdowns = (wealth_index - previous_peaks)/previous_peaks\n",
    "\n",
    "    summary_stats['Max Drawdown'] = drawdowns.min()\n",
    "    summary_stats['Peak'] = [previous_peaks[col][:drawdowns[col].idxmin()].idxmax() for col in previous_peaks.columns]\n",
    "    summary_stats['Bottom'] = drawdowns.idxmin()\n",
    "    \n",
    "    recovery_date = []\n",
    "    for col in wealth_index.columns:\n",
    "        prev_max = previous_peaks[col][:drawdowns[col].idxmin()].max()\n",
    "        recovery_wealth = pd.DataFrame([wealth_index[col][drawdowns[col].idxmin():]]).T\n",
    "        recovery_date.append(recovery_wealth[recovery_wealth[col] >= prev_max].index.min())\n",
    "    summary_stats['Recovery'] = recovery_date\n",
    "    \n",
    "    return summary_stats"
   ]
  },
  {
   "cell_type": "code",
   "execution_count": 199,
   "metadata": {},
   "outputs": [],
   "source": [
    "def mvo_performance_stats(asset_returns,cov_matrix,port_weights, port_type,period):\n",
    "    \"\"\" \n",
    "        Returns the Annualized Performance Stats for given asset returns, portfolio weights and covariance matrix\n",
    "        Inputs: \n",
    "            asset_return - Excess return over the risk free rate for each asset (n x 1) Vector\n",
    "            cov_matrix = nxn covariance matrix for the assets\n",
    "            port_weights = weights of the assets in the portfolio (1 x n) Vector\n",
    "            port_type = Type of Portfolio | Eg - Tangency or Mean-Variance Portfolio\n",
    "            period = Monthly frequency\n",
    "    \"\"\"\n",
    "    \n",
    "    ret = np.dot(port_weights,asset_returns)*period\n",
    "    vol = np.sqrt(port_weights @ cov_matrix @ port_weights.T)*np.sqrt(period)\n",
    "    sharpe = ret/vol\n",
    "\n",
    "    stats = pd.DataFrame([[ret,vol,sharpe]],columns= [\"Annualized Return\",\"Annualized Volatility\",\"Annualized Sharpe Ratio\"], index = [port_type])\n",
    "    return stats"
   ]
  },
  {
   "cell_type": "code",
   "execution_count": 200,
   "metadata": {},
   "outputs": [],
   "source": [
    "def tangency_portfolio_rfr(asset_return,cov_matrix, cov_diagnolize = False):\n",
    "    \"\"\" \n",
    "        Returns the tangency portfolio weights in a (1 x n) vector\n",
    "        Inputs: \n",
    "            asset_return - return for each asset (n x 1) Vector\n",
    "            cov_matrix = nxn covariance matrix for the assets\n",
    "    \"\"\"\n",
    "    if cov_diagnolize:\n",
    "        asset_cov = np.diag(np.diag(cov_matrix))\n",
    "    else:\n",
    "        asset_cov = np.array(cov_matrix)\n",
    "    inverted_cov= np.linalg.inv(asset_cov)\n",
    "    one_vector = np.ones(len(cov_matrix.index))\n",
    "    \n",
    "    den = (one_vector @ inverted_cov) @ (asset_return)\n",
    "    num =  inverted_cov @ asset_return\n",
    "    return (1/den) * num"
   ]
  },
  {
   "cell_type": "code",
   "execution_count": 201,
   "metadata": {},
   "outputs": [],
   "source": [
    "def mv_portfolio_rfr(asset_return,cov_matrix,target_ret,tangency_port):\n",
    "    \"\"\" \n",
    "        Returns the Mean-Variance portfolio weights in a (1 x n) vector when a riskless assset is available\n",
    "        Inputs: \n",
    "            asset_return - Excess return over the risk free rate for each asset (n x 1) Vector\n",
    "            cov_matrix = nxn covariance matrix for the assets\n",
    "            target_ret = Target Return (Annualized)\n",
    "            tangency_port = Tangency portfolio when a riskless assset is available\n",
    "    \"\"\"\n",
    "    asset_cov = np.array(cov_matrix)\n",
    "    inverted_cov= np.linalg.inv(asset_cov)\n",
    "    one_vector = np.ones(len(cov_matrix.index))\n",
    "    \n",
    "    delta_den = (asset_return.T @ inverted_cov) @ (asset_return)\n",
    "    delta_num = (one_vector @ inverted_cov) @ (asset_return)\n",
    "    delta_tilde = (delta_num/delta_den) * target_ret\n",
    "    return (delta_tilde * tangency_port)"
   ]
  },
  {
   "cell_type": "code",
   "execution_count": 202,
   "metadata": {},
   "outputs": [],
   "source": [
    "def gmv_portfolio(asset_return,cov_matrix):\n",
    "    \"\"\" \n",
    "        Returns the Global Minimum Variance portfolio weights in a (1 x n) vector\n",
    "        Inputs: \n",
    "            asset_return - return for each asset (n x 1) Vector\n",
    "            cov_matrix = nxn covariance matrix for the assets\n",
    "    \"\"\"\n",
    "    asset_cov = np.array(cov_matrix)\n",
    "    inverted_cov= np.linalg.inv(asset_cov)\n",
    "    one_vector = np.ones(len(cov_matrix.index))\n",
    "    \n",
    "    den = (one_vector @ inverted_cov) @ (one_vector)\n",
    "    num =  inverted_cov @ one_vector\n",
    "    return (1/den) * num"
   ]
  },
  {
   "cell_type": "code",
   "execution_count": 203,
   "metadata": {},
   "outputs": [],
   "source": [
    "def mv_portfolio(asset_return,cov_matrix,target_ret,tangency_port):\n",
    "    \"\"\" \n",
    "        Returns the Mean-Variance portfolio weights in a (1 x n) vector when NOOOOO riskless assset is available\n",
    "        Inputs: \n",
    "            asset_return - total return for each asset (n x 1) Vector\n",
    "            cov_matrix = nxn covariance matrix for the assets\n",
    "            target_ret = Target Return (Not-Annualized)\n",
    "            tangency_port = Tangency portfolio\n",
    "    \"\"\"\n",
    "    omega_tan = tangency_portfolio_rfr(asset_return.mean(),cov_matrix)\n",
    "    omega_gmv = gmv_portfolio(asset_return,cov_matrix) \n",
    "    \n",
    "    mu_tan = asset_return.mean() @ omega_tan\n",
    "    mu_gmv = asset_return.mean() @ omega_gmv\n",
    "    \n",
    "    delta = (target_ret - mu_gmv)/(mu_tan - mu_gmv)\n",
    "    mv_weights = delta * omega_tan + (1-delta)*omega_gmv\n",
    "    return mv_weights"
   ]
  },
  {
   "cell_type": "code",
   "execution_count": 204,
   "metadata": {},
   "outputs": [],
   "source": [
    "def regression_based_performance(factor,fund_ret,rf,constant = True):\n",
    "    \"\"\" \n",
    "        Returns the Regression based performance Stats for given set of returns and factors\n",
    "        Inputs:\n",
    "            factor - Dataframe containing monthly returns of the regressors\n",
    "            fund_ret - Dataframe containing monthly excess returns of the regressand fund\n",
    "            rf - Monthly risk free rate of return\n",
    "        Output:\n",
    "            summary_stats - (Beta of regression, treynor ratio, information ratio, alpha). \n",
    "    \"\"\"\n",
    "    if constant:\n",
    "        X = sm.tools.add_constant(factor)\n",
    "    else:\n",
    "        X = factor\n",
    "    y=fund_ret\n",
    "    model = sm.OLS(y,X,missing='drop').fit()\n",
    "    \n",
    "    if constant:\n",
    "        beta = model.params[1:]\n",
    "        alpha = round(float(model.params['const']),6)\n",
    "        \n",
    "    else:\n",
    "        beta = model.params\n",
    "    treynor_ratio = ((fund_ret.values-rf.values).mean()*12)/beta[0]\n",
    "    tracking_error = (model.resid.std()*np.sqrt(12))\n",
    "    if constant:        \n",
    "        information_ratio = model.params[0]*12/tracking_error\n",
    "    r_squared = model.rsquared\n",
    "    if constant:\n",
    "        return (beta,treynor_ratio,information_ratio,alpha,r_squared,tracking_error)\n",
    "    else:\n",
    "        return (beta,treynor_ratio,r_squared,tracking_error)"
   ]
  },
  {
   "cell_type": "code",
   "execution_count": 205,
   "metadata": {},
   "outputs": [],
   "source": [
    "def rolling_regression_param(factor,fund_ret,roll_window = 60):\n",
    "    \"\"\" \n",
    "        Returns the Rolling Regression parameters for given set of returns and factors\n",
    "        Inputs:\n",
    "            factor - Dataframe containing monthly returns of the regressors\n",
    "            fund_ret - Dataframe containing monthly excess returns of the regressand fund\n",
    "            roll_window = rolling window for regression\n",
    "        Output:\n",
    "            params - Dataframe with time-t as the index and constant and Betas as columns\n",
    "    \"\"\"\n",
    "    X = sm.add_constant(factor)\n",
    "    y= fund_ret\n",
    "    rols = RollingOLS(y, X, window=roll_window)\n",
    "    rres = rols.fit()\n",
    "    params = rres.params.copy()\n",
    "    params.index = np.arange(1, params.shape[0] + 1)\n",
    "    return params"
   ]
  },
  {
   "cell_type": "markdown",
   "metadata": {},
   "source": [
    "## Import Data"
   ]
  },
  {
   "cell_type": "code",
   "execution_count": 206,
   "metadata": {},
   "outputs": [
    {
     "data": {
      "text/html": [
       "<div>\n",
       "<style scoped>\n",
       "    .dataframe tbody tr th:only-of-type {\n",
       "        vertical-align: middle;\n",
       "    }\n",
       "\n",
       "    .dataframe tbody tr th {\n",
       "        vertical-align: top;\n",
       "    }\n",
       "\n",
       "    .dataframe thead th {\n",
       "        text-align: right;\n",
       "    }\n",
       "</style>\n",
       "<table border=\"1\" class=\"dataframe\">\n",
       "  <thead>\n",
       "    <tr style=\"text-align: right;\">\n",
       "      <th></th>\n",
       "      <th>CL1</th>\n",
       "      <th>GC1</th>\n",
       "      <th>KC1</th>\n",
       "      <th>ES1</th>\n",
       "      <th>BP1</th>\n",
       "    </tr>\n",
       "    <tr>\n",
       "      <th>date</th>\n",
       "      <th></th>\n",
       "      <th></th>\n",
       "      <th></th>\n",
       "      <th></th>\n",
       "      <th></th>\n",
       "    </tr>\n",
       "  </thead>\n",
       "  <tbody>\n",
       "    <tr>\n",
       "      <th>2009-01-31</th>\n",
       "      <td>-0.113532</td>\n",
       "      <td>0.048627</td>\n",
       "      <td>0.061111</td>\n",
       "      <td>-0.086109</td>\n",
       "      <td>-0.007831</td>\n",
       "    </tr>\n",
       "    <tr>\n",
       "      <th>2009-02-28</th>\n",
       "      <td>0.044680</td>\n",
       "      <td>0.015187</td>\n",
       "      <td>-0.079479</td>\n",
       "      <td>-0.107294</td>\n",
       "      <td>-0.008309</td>\n",
       "    </tr>\n",
       "    <tr>\n",
       "      <th>2009-03-31</th>\n",
       "      <td>0.087892</td>\n",
       "      <td>-0.021111</td>\n",
       "      <td>0.034402</td>\n",
       "      <td>0.087209</td>\n",
       "      <td>0.001745</td>\n",
       "    </tr>\n",
       "    <tr>\n",
       "      <th>2009-04-30</th>\n",
       "      <td>-0.013826</td>\n",
       "      <td>-0.036543</td>\n",
       "      <td>-0.006491</td>\n",
       "      <td>0.094679</td>\n",
       "      <td>0.032897</td>\n",
       "    </tr>\n",
       "    <tr>\n",
       "      <th>2009-05-31</th>\n",
       "      <td>0.287437</td>\n",
       "      <td>0.098300</td>\n",
       "      <td>0.185518</td>\n",
       "      <td>0.055172</td>\n",
       "      <td>0.088934</td>\n",
       "    </tr>\n",
       "  </tbody>\n",
       "</table>\n",
       "</div>"
      ],
      "text/plain": [
       "                 CL1       GC1       KC1       ES1       BP1\n",
       "date                                                        \n",
       "2009-01-31 -0.113532  0.048627  0.061111 -0.086109 -0.007831\n",
       "2009-02-28  0.044680  0.015187 -0.079479 -0.107294 -0.008309\n",
       "2009-03-31  0.087892 -0.021111  0.034402  0.087209  0.001745\n",
       "2009-04-30 -0.013826 -0.036543 -0.006491  0.094679  0.032897\n",
       "2009-05-31  0.287437  0.098300  0.185518  0.055172  0.088934"
      ]
     },
     "execution_count": 206,
     "metadata": {},
     "output_type": "execute_result"
    }
   ],
   "source": [
    "total_ret = pd.read_excel('midterm_1.xlsx',sheet_name = 'total returns', index_col = 'date')\n",
    "total_ret.head()"
   ]
  },
  {
   "cell_type": "markdown",
   "metadata": {},
   "source": [
    "## Q2"
   ]
  },
  {
   "cell_type": "code",
   "execution_count": 207,
   "metadata": {},
   "outputs": [],
   "source": [
    "total_mean = total_ret.mean() \n",
    "total_cov = total_ret.cov() \n",
    "gmv_port = gmv_portfolio(total_mean, total_cov)\n",
    "tan_port = tangency_portfolio_rfr(total_mean, total_cov) \n",
    "gmv_port_df = pd.DataFrame(tan_port,columns= [\"GMV Portfolio Weight\"],index=total_ret.columns) \n",
    "tan_port_df = pd.DataFrame(tan_port,columns= [\"Tangency Portfolio Weight\"],index=total_ret.columns) \n"
   ]
  },
  {
   "cell_type": "code",
   "execution_count": 208,
   "metadata": {},
   "outputs": [
    {
     "data": {
      "text/html": [
       "<div>\n",
       "<style scoped>\n",
       "    .dataframe tbody tr th:only-of-type {\n",
       "        vertical-align: middle;\n",
       "    }\n",
       "\n",
       "    .dataframe tbody tr th {\n",
       "        vertical-align: top;\n",
       "    }\n",
       "\n",
       "    .dataframe thead th {\n",
       "        text-align: right;\n",
       "    }\n",
       "</style>\n",
       "<table border=\"1\" class=\"dataframe\">\n",
       "  <thead>\n",
       "    <tr style=\"text-align: right;\">\n",
       "      <th></th>\n",
       "      <th>GMV Portfolio Weight</th>\n",
       "    </tr>\n",
       "  </thead>\n",
       "  <tbody>\n",
       "    <tr>\n",
       "      <th>CL1</th>\n",
       "      <td>-0.128124</td>\n",
       "    </tr>\n",
       "    <tr>\n",
       "      <th>GC1</th>\n",
       "      <td>1.191087</td>\n",
       "    </tr>\n",
       "    <tr>\n",
       "      <th>KC1</th>\n",
       "      <td>0.097813</td>\n",
       "    </tr>\n",
       "    <tr>\n",
       "      <th>ES1</th>\n",
       "      <td>4.220019</td>\n",
       "    </tr>\n",
       "    <tr>\n",
       "      <th>BP1</th>\n",
       "      <td>-4.380796</td>\n",
       "    </tr>\n",
       "  </tbody>\n",
       "</table>\n",
       "</div>"
      ],
      "text/plain": [
       "     GMV Portfolio Weight\n",
       "CL1             -0.128124\n",
       "GC1              1.191087\n",
       "KC1              0.097813\n",
       "ES1              4.220019\n",
       "BP1             -4.380796"
      ]
     },
     "execution_count": 208,
     "metadata": {},
     "output_type": "execute_result"
    }
   ],
   "source": [
    "gmv_port_df"
   ]
  },
  {
   "cell_type": "code",
   "execution_count": 209,
   "metadata": {},
   "outputs": [
    {
     "data": {
      "text/html": [
       "<div>\n",
       "<style scoped>\n",
       "    .dataframe tbody tr th:only-of-type {\n",
       "        vertical-align: middle;\n",
       "    }\n",
       "\n",
       "    .dataframe tbody tr th {\n",
       "        vertical-align: top;\n",
       "    }\n",
       "\n",
       "    .dataframe thead th {\n",
       "        text-align: right;\n",
       "    }\n",
       "</style>\n",
       "<table border=\"1\" class=\"dataframe\">\n",
       "  <thead>\n",
       "    <tr style=\"text-align: right;\">\n",
       "      <th></th>\n",
       "      <th>Tangency Portfolio Weight</th>\n",
       "    </tr>\n",
       "  </thead>\n",
       "  <tbody>\n",
       "    <tr>\n",
       "      <th>CL1</th>\n",
       "      <td>-0.128124</td>\n",
       "    </tr>\n",
       "    <tr>\n",
       "      <th>GC1</th>\n",
       "      <td>1.191087</td>\n",
       "    </tr>\n",
       "    <tr>\n",
       "      <th>KC1</th>\n",
       "      <td>0.097813</td>\n",
       "    </tr>\n",
       "    <tr>\n",
       "      <th>ES1</th>\n",
       "      <td>4.220019</td>\n",
       "    </tr>\n",
       "    <tr>\n",
       "      <th>BP1</th>\n",
       "      <td>-4.380796</td>\n",
       "    </tr>\n",
       "  </tbody>\n",
       "</table>\n",
       "</div>"
      ],
      "text/plain": [
       "     Tangency Portfolio Weight\n",
       "CL1                  -0.128124\n",
       "GC1                   1.191087\n",
       "KC1                   0.097813\n",
       "ES1                   4.220019\n",
       "BP1                  -4.380796"
      ]
     },
     "execution_count": 209,
     "metadata": {},
     "output_type": "execute_result"
    }
   ],
   "source": [
    "tan_port_df"
   ]
  },
  {
   "cell_type": "code",
   "execution_count": 210,
   "metadata": {},
   "outputs": [
    {
     "data": {
      "text/html": [
       "<div>\n",
       "<style scoped>\n",
       "    .dataframe tbody tr th:only-of-type {\n",
       "        vertical-align: middle;\n",
       "    }\n",
       "\n",
       "    .dataframe tbody tr th {\n",
       "        vertical-align: top;\n",
       "    }\n",
       "\n",
       "    .dataframe thead th {\n",
       "        text-align: right;\n",
       "    }\n",
       "</style>\n",
       "<table border=\"1\" class=\"dataframe\">\n",
       "  <thead>\n",
       "    <tr style=\"text-align: right;\">\n",
       "      <th></th>\n",
       "      <th>Mean-Variance Portfolio Weight</th>\n",
       "    </tr>\n",
       "  </thead>\n",
       "  <tbody>\n",
       "    <tr>\n",
       "      <th>CL1</th>\n",
       "      <td>-0.031961</td>\n",
       "    </tr>\n",
       "    <tr>\n",
       "      <th>GC1</th>\n",
       "      <td>0.192479</td>\n",
       "    </tr>\n",
       "    <tr>\n",
       "      <th>KC1</th>\n",
       "      <td>-0.009207</td>\n",
       "    </tr>\n",
       "    <tr>\n",
       "      <th>ES1</th>\n",
       "      <td>0.146680</td>\n",
       "    </tr>\n",
       "    <tr>\n",
       "      <th>BP1</th>\n",
       "      <td>0.702010</td>\n",
       "    </tr>\n",
       "  </tbody>\n",
       "</table>\n",
       "</div>"
      ],
      "text/plain": [
       "     Mean-Variance Portfolio Weight\n",
       "CL1                       -0.031961\n",
       "GC1                        0.192479\n",
       "KC1                       -0.009207\n",
       "ES1                        0.146680\n",
       "BP1                        0.702010"
      ]
     },
     "execution_count": 210,
     "metadata": {},
     "output_type": "execute_result"
    }
   ],
   "source": [
    "mv_port = mv_portfolio(total_ret, total_cov, 0.02/12, tan_port) \n",
    "mv_port_df = pd.DataFrame(mv_port,columns= [\"Mean-Variance Portfolio Weight\"],index=total_ret.columns) \n",
    "mv_port_df"
   ]
  },
  {
   "cell_type": "code",
   "execution_count": 211,
   "metadata": {},
   "outputs": [
    {
     "data": {
      "text/html": [
       "<div>\n",
       "<style scoped>\n",
       "    .dataframe tbody tr th:only-of-type {\n",
       "        vertical-align: middle;\n",
       "    }\n",
       "\n",
       "    .dataframe tbody tr th {\n",
       "        vertical-align: top;\n",
       "    }\n",
       "\n",
       "    .dataframe thead th {\n",
       "        text-align: right;\n",
       "    }\n",
       "</style>\n",
       "<table border=\"1\" class=\"dataframe\">\n",
       "  <thead>\n",
       "    <tr style=\"text-align: right;\">\n",
       "      <th></th>\n",
       "      <th>Annualized Return</th>\n",
       "      <th>Annualized Volatility</th>\n",
       "      <th>Annualized Sharpe Ratio</th>\n",
       "    </tr>\n",
       "  </thead>\n",
       "  <tbody>\n",
       "    <tr>\n",
       "      <th>Mean-Variance</th>\n",
       "      <td>0.02</td>\n",
       "      <td>0.079349</td>\n",
       "      <td>0.252052</td>\n",
       "    </tr>\n",
       "  </tbody>\n",
       "</table>\n",
       "</div>"
      ],
      "text/plain": [
       "               Annualized Return  Annualized Volatility  \\\n",
       "Mean-Variance               0.02               0.079349   \n",
       "\n",
       "               Annualized Sharpe Ratio  \n",
       "Mean-Variance                 0.252052  "
      ]
     },
     "execution_count": 211,
     "metadata": {},
     "output_type": "execute_result"
    }
   ],
   "source": [
    "performance = mvo_performance_stats(total_mean, total_cov, mv_port, 'Mean-Variance', 12) \n",
    "performance"
   ]
  },
  {
   "cell_type": "markdown",
   "metadata": {},
   "source": [
    "From the performance table, you may find that the annualized volatility is 7.93%. "
   ]
  },
  {
   "cell_type": "code",
   "execution_count": 212,
   "metadata": {},
   "outputs": [
    {
     "data": {
      "text/html": [
       "<div>\n",
       "<style scoped>\n",
       "    .dataframe tbody tr th:only-of-type {\n",
       "        vertical-align: middle;\n",
       "    }\n",
       "\n",
       "    .dataframe tbody tr th {\n",
       "        vertical-align: top;\n",
       "    }\n",
       "\n",
       "    .dataframe thead th {\n",
       "        text-align: right;\n",
       "    }\n",
       "</style>\n",
       "<table border=\"1\" class=\"dataframe\">\n",
       "  <thead>\n",
       "    <tr style=\"text-align: right;\">\n",
       "      <th></th>\n",
       "      <th>Annualized Return</th>\n",
       "      <th>Annualized Volatility</th>\n",
       "      <th>Annualized Sharpe Ratio</th>\n",
       "    </tr>\n",
       "  </thead>\n",
       "  <tbody>\n",
       "    <tr>\n",
       "      <th>Mean-Variance</th>\n",
       "      <td>0.02</td>\n",
       "      <td>0.018236</td>\n",
       "      <td>1.096747</td>\n",
       "    </tr>\n",
       "  </tbody>\n",
       "</table>\n",
       "</div>"
      ],
      "text/plain": [
       "               Annualized Return  Annualized Volatility  \\\n",
       "Mean-Variance               0.02               0.018236   \n",
       "\n",
       "               Annualized Sharpe Ratio  \n",
       "Mean-Variance                 1.096747  "
      ]
     },
     "execution_count": 212,
     "metadata": {},
     "output_type": "execute_result"
    }
   ],
   "source": [
    "mv_port_rf = mv_portfolio_rfr(total_mean, total_cov, 0.02/12, tan_port) \n",
    "mv_port_rf_df = pd.DataFrame(mv_port_rf,columns= [\"Risk Free Mean-Variance Portfolio Weight\"],index=total_ret.columns) \n",
    "performance_rf = mvo_performance_stats(total_mean, total_cov, mv_port_rf, 'Mean-Variance', 12) \n",
    "performance_rf"
   ]
  },
  {
   "cell_type": "markdown",
   "metadata": {},
   "source": [
    "The solution has less volatility since investing in risk free helps us reduce it. This makes sense as the risk free asset has no risk and it represents a portion in the portfolio. "
   ]
  },
  {
   "cell_type": "markdown",
   "metadata": {},
   "source": [
    "## Q3"
   ]
  },
  {
   "cell_type": "code",
   "execution_count": 213,
   "metadata": {},
   "outputs": [
    {
     "data": {
      "text/html": [
       "<div>\n",
       "<style scoped>\n",
       "    .dataframe tbody tr th:only-of-type {\n",
       "        vertical-align: middle;\n",
       "    }\n",
       "\n",
       "    .dataframe tbody tr th {\n",
       "        vertical-align: top;\n",
       "    }\n",
       "\n",
       "    .dataframe thead th {\n",
       "        text-align: right;\n",
       "    }\n",
       "</style>\n",
       "<table border=\"1\" class=\"dataframe\">\n",
       "  <thead>\n",
       "    <tr style=\"text-align: right;\">\n",
       "      <th></th>\n",
       "      <th>const</th>\n",
       "      <th>BP1</th>\n",
       "    </tr>\n",
       "    <tr>\n",
       "      <th>date</th>\n",
       "      <th></th>\n",
       "      <th></th>\n",
       "    </tr>\n",
       "  </thead>\n",
       "  <tbody>\n",
       "    <tr>\n",
       "      <th>2022-02-28</th>\n",
       "      <td>0.013660</td>\n",
       "      <td>1.178892</td>\n",
       "    </tr>\n",
       "    <tr>\n",
       "      <th>2022-03-31</th>\n",
       "      <td>0.014433</td>\n",
       "      <td>1.144168</td>\n",
       "    </tr>\n",
       "    <tr>\n",
       "      <th>2022-04-30</th>\n",
       "      <td>0.012270</td>\n",
       "      <td>1.247557</td>\n",
       "    </tr>\n",
       "    <tr>\n",
       "      <th>2022-05-31</th>\n",
       "      <td>0.013008</td>\n",
       "      <td>1.186588</td>\n",
       "    </tr>\n",
       "    <tr>\n",
       "      <th>2022-06-30</th>\n",
       "      <td>0.010191</td>\n",
       "      <td>1.251756</td>\n",
       "    </tr>\n",
       "  </tbody>\n",
       "</table>\n",
       "</div>"
      ],
      "text/plain": [
       "               const       BP1\n",
       "date                          \n",
       "2022-02-28  0.013660  1.178892\n",
       "2022-03-31  0.014433  1.144168\n",
       "2022-04-30  0.012270  1.247557\n",
       "2022-05-31  0.013008  1.186588\n",
       "2022-06-30  0.010191  1.251756"
      ]
     },
     "execution_count": 213,
     "metadata": {},
     "output_type": "execute_result"
    }
   ],
   "source": [
    "y = total_ret['ES1']\n",
    "x = sm.add_constant(total_ret['BP1'])\n",
    "\n",
    "hedge_reg = RollingOLS(y,x,window=36).fit() \n",
    "rolling_betas = hedge_reg.params.copy()\n",
    "table = hedge_reg.params\n",
    "table.tail(5)\n",
    "    "
   ]
  },
  {
   "cell_type": "code",
   "execution_count": 214,
   "metadata": {},
   "outputs": [
    {
     "data": {
      "text/html": [
       "<div>\n",
       "<style scoped>\n",
       "    .dataframe tbody tr th:only-of-type {\n",
       "        vertical-align: middle;\n",
       "    }\n",
       "\n",
       "    .dataframe tbody tr th {\n",
       "        vertical-align: top;\n",
       "    }\n",
       "\n",
       "    .dataframe thead th {\n",
       "        text-align: right;\n",
       "    }\n",
       "</style>\n",
       "<table border=\"1\" class=\"dataframe\">\n",
       "  <thead>\n",
       "    <tr style=\"text-align: right;\">\n",
       "      <th></th>\n",
       "      <th>const</th>\n",
       "      <th>BP1</th>\n",
       "      <th>r*</th>\n",
       "    </tr>\n",
       "    <tr>\n",
       "      <th>date</th>\n",
       "      <th></th>\n",
       "      <th></th>\n",
       "      <th></th>\n",
       "    </tr>\n",
       "  </thead>\n",
       "  <tbody>\n",
       "    <tr>\n",
       "      <th>2022-02-28</th>\n",
       "      <td>0.013660</td>\n",
       "      <td>1.178892</td>\n",
       "      <td>0.010155</td>\n",
       "    </tr>\n",
       "    <tr>\n",
       "      <th>2022-03-31</th>\n",
       "      <td>0.014433</td>\n",
       "      <td>1.144168</td>\n",
       "      <td>-0.009789</td>\n",
       "    </tr>\n",
       "    <tr>\n",
       "      <th>2022-04-30</th>\n",
       "      <td>0.012270</td>\n",
       "      <td>1.247557</td>\n",
       "      <td>-0.038274</td>\n",
       "    </tr>\n",
       "    <tr>\n",
       "      <th>2022-05-31</th>\n",
       "      <td>0.013008</td>\n",
       "      <td>1.186588</td>\n",
       "      <td>0.013573</td>\n",
       "    </tr>\n",
       "    <tr>\n",
       "      <th>2022-06-30</th>\n",
       "      <td>0.010191</td>\n",
       "      <td>1.251756</td>\n",
       "      <td>-0.030127</td>\n",
       "    </tr>\n",
       "  </tbody>\n",
       "</table>\n",
       "</div>"
      ],
      "text/plain": [
       "               const       BP1        r*\n",
       "date                                    \n",
       "2022-02-28  0.013660  1.178892  0.010155\n",
       "2022-03-31  0.014433  1.144168 -0.009789\n",
       "2022-04-30  0.012270  1.247557 -0.038274\n",
       "2022-05-31  0.013008  1.186588  0.013573\n",
       "2022-06-30  0.010191  1.251756 -0.030127"
      ]
     },
     "execution_count": 214,
     "metadata": {},
     "output_type": "execute_result"
    }
   ],
   "source": [
    "r = (rolling_betas * x).sum(axis=1,skipna=False)\n",
    "table['r*'] = r\n",
    "table.tail(5)"
   ]
  },
  {
   "cell_type": "code",
   "execution_count": 215,
   "metadata": {},
   "outputs": [
    {
     "data": {
      "text/html": [
       "<div>\n",
       "<style scoped>\n",
       "    .dataframe tbody tr th:only-of-type {\n",
       "        vertical-align: middle;\n",
       "    }\n",
       "\n",
       "    .dataframe tbody tr th {\n",
       "        vertical-align: top;\n",
       "    }\n",
       "\n",
       "    .dataframe thead th {\n",
       "        text-align: right;\n",
       "    }\n",
       "</style>\n",
       "<table border=\"1\" class=\"dataframe\">\n",
       "  <thead>\n",
       "    <tr style=\"text-align: right;\">\n",
       "      <th></th>\n",
       "      <th>Mean</th>\n",
       "      <th>Volatility</th>\n",
       "      <th>Mean over Volatility</th>\n",
       "    </tr>\n",
       "  </thead>\n",
       "  <tbody>\n",
       "    <tr>\n",
       "      <th>r*</th>\n",
       "      <td>0.126333</td>\n",
       "      <td>0.062546</td>\n",
       "      <td>2.019829</td>\n",
       "    </tr>\n",
       "  </tbody>\n",
       "</table>\n",
       "</div>"
      ],
      "text/plain": [
       "        Mean  Volatility  Mean over Volatility\n",
       "r*  0.126333    0.062546              2.019829"
      ]
     },
     "execution_count": 215,
     "metadata": {},
     "output_type": "execute_result"
    }
   ],
   "source": [
    "table1 = table.dropna() \n",
    "r1 = table1.drop(columns=['const','BP1'])\n",
    "summary_stats = r1.mean().to_frame('Mean').apply(lambda x: x*12)\n",
    "summary_stats['Volatility'] = r1.std().apply(lambda x: x*np.sqrt(12))\n",
    "summary_stats['Mean over Volatility'] = summary_stats['Mean']/summary_stats['Volatility'] \n",
    "summary_stats"
   ]
  },
  {
   "cell_type": "code",
   "execution_count": 216,
   "metadata": {},
   "outputs": [
    {
     "data": {
      "text/html": [
       "<div>\n",
       "<style scoped>\n",
       "    .dataframe tbody tr th:only-of-type {\n",
       "        vertical-align: middle;\n",
       "    }\n",
       "\n",
       "    .dataframe tbody tr th {\n",
       "        vertical-align: top;\n",
       "    }\n",
       "\n",
       "    .dataframe thead th {\n",
       "        text-align: right;\n",
       "    }\n",
       "</style>\n",
       "<table border=\"1\" class=\"dataframe\">\n",
       "  <thead>\n",
       "    <tr style=\"text-align: right;\">\n",
       "      <th></th>\n",
       "      <th>r*</th>\n",
       "      <th>ES1</th>\n",
       "    </tr>\n",
       "  </thead>\n",
       "  <tbody>\n",
       "    <tr>\n",
       "      <th>r*</th>\n",
       "      <td>1.000000</td>\n",
       "      <td>0.521038</td>\n",
       "    </tr>\n",
       "    <tr>\n",
       "      <th>ES1</th>\n",
       "      <td>0.521038</td>\n",
       "      <td>1.000000</td>\n",
       "    </tr>\n",
       "  </tbody>\n",
       "</table>\n",
       "</div>"
      ],
      "text/plain": [
       "           r*       ES1\n",
       "r*   1.000000  0.521038\n",
       "ES1  0.521038  1.000000"
      ]
     },
     "execution_count": 216,
     "metadata": {},
     "output_type": "execute_result"
    }
   ],
   "source": [
    "r1['ES1'] = total_ret['ES1'] \n",
    "r1.corr()"
   ]
  },
  {
   "cell_type": "markdown",
   "metadata": {},
   "source": [
    "ES1 and r* are positively correlated. "
   ]
  },
  {
   "cell_type": "markdown",
   "metadata": {},
   "source": [
    "## Q4"
   ]
  },
  {
   "cell_type": "code",
   "execution_count": 217,
   "metadata": {},
   "outputs": [
    {
     "data": {
      "text/html": [
       "<div>\n",
       "<style scoped>\n",
       "    .dataframe tbody tr th:only-of-type {\n",
       "        vertical-align: middle;\n",
       "    }\n",
       "\n",
       "    .dataframe tbody tr th {\n",
       "        vertical-align: top;\n",
       "    }\n",
       "\n",
       "    .dataframe thead th {\n",
       "        text-align: right;\n",
       "    }\n",
       "</style>\n",
       "<table border=\"1\" class=\"dataframe\">\n",
       "  <thead>\n",
       "    <tr style=\"text-align: right;\">\n",
       "      <th></th>\n",
       "      <th>GC1</th>\n",
       "      <th>ES1</th>\n",
       "      <th>50/50</th>\n",
       "    </tr>\n",
       "    <tr>\n",
       "      <th>date</th>\n",
       "      <th></th>\n",
       "      <th></th>\n",
       "      <th></th>\n",
       "    </tr>\n",
       "  </thead>\n",
       "  <tbody>\n",
       "    <tr>\n",
       "      <th>2009-01-31</th>\n",
       "      <td>0.048627</td>\n",
       "      <td>-0.086109</td>\n",
       "      <td>-0.018741</td>\n",
       "    </tr>\n",
       "    <tr>\n",
       "      <th>2009-02-28</th>\n",
       "      <td>0.015187</td>\n",
       "      <td>-0.107294</td>\n",
       "      <td>-0.046053</td>\n",
       "    </tr>\n",
       "    <tr>\n",
       "      <th>2009-03-31</th>\n",
       "      <td>-0.021111</td>\n",
       "      <td>0.087209</td>\n",
       "      <td>0.033049</td>\n",
       "    </tr>\n",
       "    <tr>\n",
       "      <th>2009-04-30</th>\n",
       "      <td>-0.036543</td>\n",
       "      <td>0.094679</td>\n",
       "      <td>0.029068</td>\n",
       "    </tr>\n",
       "    <tr>\n",
       "      <th>2009-05-31</th>\n",
       "      <td>0.098300</td>\n",
       "      <td>0.055172</td>\n",
       "      <td>0.076736</td>\n",
       "    </tr>\n",
       "  </tbody>\n",
       "</table>\n",
       "</div>"
      ],
      "text/plain": [
       "                 GC1       ES1     50/50\n",
       "date                                    \n",
       "2009-01-31  0.048627 -0.086109 -0.018741\n",
       "2009-02-28  0.015187 -0.107294 -0.046053\n",
       "2009-03-31 -0.021111  0.087209  0.033049\n",
       "2009-04-30 -0.036543  0.094679  0.029068\n",
       "2009-05-31  0.098300  0.055172  0.076736"
      ]
     },
     "execution_count": 217,
     "metadata": {},
     "output_type": "execute_result"
    }
   ],
   "source": [
    "total_ret['50/50'] = 0.5 * total_ret['ES1'] + 0.5 * total_ret['GC1'] \n",
    "mr = total_ret.drop(columns=['CL1', 'KC1', 'BP1'])\n",
    "mr.head()"
   ]
  },
  {
   "cell_type": "code",
   "execution_count": 218,
   "metadata": {},
   "outputs": [
    {
     "data": {
      "text/html": [
       "<div>\n",
       "<style scoped>\n",
       "    .dataframe tbody tr th:only-of-type {\n",
       "        vertical-align: middle;\n",
       "    }\n",
       "\n",
       "    .dataframe tbody tr th {\n",
       "        vertical-align: top;\n",
       "    }\n",
       "\n",
       "    .dataframe thead th {\n",
       "        text-align: right;\n",
       "    }\n",
       "</style>\n",
       "<table border=\"1\" class=\"dataframe\">\n",
       "  <thead>\n",
       "    <tr style=\"text-align: right;\">\n",
       "      <th></th>\n",
       "      <th>Mean</th>\n",
       "      <th>Volatility</th>\n",
       "      <th>Sharpe Ratio/Mean over Volatility</th>\n",
       "      <th>Skewness</th>\n",
       "      <th>Excess Kurtosis</th>\n",
       "      <th>VaR (0.05)</th>\n",
       "      <th>CVaR (0.05)</th>\n",
       "      <th>Max Drawdown</th>\n",
       "      <th>Peak</th>\n",
       "      <th>Bottom</th>\n",
       "      <th>Recovery</th>\n",
       "    </tr>\n",
       "  </thead>\n",
       "  <tbody>\n",
       "    <tr>\n",
       "      <th>GC1</th>\n",
       "      <td>0.054008</td>\n",
       "      <td>0.160134</td>\n",
       "      <td>0.337267</td>\n",
       "      <td>0.113357</td>\n",
       "      <td>0.142579</td>\n",
       "      <td>-0.065664</td>\n",
       "      <td>-0.085920</td>\n",
       "      <td>-0.429597</td>\n",
       "      <td>2011-08-31</td>\n",
       "      <td>2015-12-31</td>\n",
       "      <td>NaT</td>\n",
       "    </tr>\n",
       "    <tr>\n",
       "      <th>ES1</th>\n",
       "      <td>0.129117</td>\n",
       "      <td>0.151067</td>\n",
       "      <td>0.854698</td>\n",
       "      <td>-0.439491</td>\n",
       "      <td>0.723828</td>\n",
       "      <td>-0.071244</td>\n",
       "      <td>-0.091453</td>\n",
       "      <td>-0.203174</td>\n",
       "      <td>2019-12-31</td>\n",
       "      <td>2020-03-31</td>\n",
       "      <td>2020-07-31</td>\n",
       "    </tr>\n",
       "    <tr>\n",
       "      <th>50/50</th>\n",
       "      <td>0.091562</td>\n",
       "      <td>0.114079</td>\n",
       "      <td>0.802619</td>\n",
       "      <td>0.109368</td>\n",
       "      <td>0.253804</td>\n",
       "      <td>-0.045782</td>\n",
       "      <td>-0.058951</td>\n",
       "      <td>-0.120982</td>\n",
       "      <td>2022-03-31</td>\n",
       "      <td>2022-06-30</td>\n",
       "      <td>NaT</td>\n",
       "    </tr>\n",
       "  </tbody>\n",
       "</table>\n",
       "</div>"
      ],
      "text/plain": [
       "           Mean  Volatility  Sharpe Ratio/Mean over Volatility  Skewness  \\\n",
       "GC1    0.054008    0.160134                           0.337267  0.113357   \n",
       "ES1    0.129117    0.151067                           0.854698 -0.439491   \n",
       "50/50  0.091562    0.114079                           0.802619  0.109368   \n",
       "\n",
       "       Excess Kurtosis  VaR (0.05)  CVaR (0.05)  Max Drawdown       Peak  \\\n",
       "GC1           0.142579   -0.065664    -0.085920     -0.429597 2011-08-31   \n",
       "ES1           0.723828   -0.071244    -0.091453     -0.203174 2019-12-31   \n",
       "50/50         0.253804   -0.045782    -0.058951     -0.120982 2022-03-31   \n",
       "\n",
       "          Bottom   Recovery  \n",
       "GC1   2015-12-31        NaT  \n",
       "ES1   2020-03-31 2020-07-31  \n",
       "50/50 2022-06-30        NaT  "
      ]
     },
     "execution_count": 218,
     "metadata": {},
     "output_type": "execute_result"
    }
   ],
   "source": [
    "performance_mr = performance_summary(mr)\n",
    "performance_mr"
   ]
  },
  {
   "cell_type": "markdown",
   "metadata": {},
   "source": [
    "From the table, ES1 has the highest Mean, 50/50 has the lowest volatility, ES1 has the highest mean/vol, but 50/50 has the best Max Drawdown. "
   ]
  },
  {
   "cell_type": "markdown",
   "metadata": {},
   "source": [
    "This is not what we want from the portfolio theory as the ES1 has the best performance by itself except for the Max Drawdown. Simple mixing of two portfolios does not give better performance. It only reduces the chance of the portfolio to behave really bad. "
   ]
  },
  {
   "cell_type": "code",
   "execution_count": 219,
   "metadata": {},
   "outputs": [],
   "source": [
    "normal_1_z = scipy.stats.norm().ppf(0.01)\n",
    "normal_1_pdf = scipy.stats.norm().pdf(normal_1_z)\n",
    "data = mr['50/50']"
   ]
  },
  {
   "cell_type": "code",
   "execution_count": 220,
   "metadata": {},
   "outputs": [
    {
     "data": {
      "text/plain": [
       "-0.08777058366877924"
      ]
     },
     "execution_count": 220,
     "metadata": {},
     "output_type": "execute_result"
    }
   ],
   "source": [
    "cvar_full = -normal_1_pdf/0.01*data.std()\n",
    "cvar_full"
   ]
  },
  {
   "cell_type": "code",
   "execution_count": 221,
   "metadata": {},
   "outputs": [
    {
     "data": {
      "text/html": [
       "<div>\n",
       "<style scoped>\n",
       "    .dataframe tbody tr th:only-of-type {\n",
       "        vertical-align: middle;\n",
       "    }\n",
       "\n",
       "    .dataframe tbody tr th {\n",
       "        vertical-align: top;\n",
       "    }\n",
       "\n",
       "    .dataframe thead th {\n",
       "        text-align: right;\n",
       "    }\n",
       "</style>\n",
       "<table border=\"1\" class=\"dataframe\">\n",
       "  <thead>\n",
       "    <tr style=\"text-align: right;\">\n",
       "      <th></th>\n",
       "      <th>50/50</th>\n",
       "    </tr>\n",
       "    <tr>\n",
       "      <th>date</th>\n",
       "      <th></th>\n",
       "    </tr>\n",
       "  </thead>\n",
       "  <tbody>\n",
       "    <tr>\n",
       "      <th>2022-02-28</th>\n",
       "      <td>-0.108114</td>\n",
       "    </tr>\n",
       "    <tr>\n",
       "      <th>2022-03-31</th>\n",
       "      <td>-0.102707</td>\n",
       "    </tr>\n",
       "    <tr>\n",
       "      <th>2022-04-30</th>\n",
       "      <td>-0.094743</td>\n",
       "    </tr>\n",
       "    <tr>\n",
       "      <th>2022-05-31</th>\n",
       "      <td>-0.091618</td>\n",
       "    </tr>\n",
       "    <tr>\n",
       "      <th>2022-06-30</th>\n",
       "      <td>-0.091609</td>\n",
       "    </tr>\n",
       "  </tbody>\n",
       "</table>\n",
       "</div>"
      ],
      "text/plain": [
       "               50/50\n",
       "date                \n",
       "2022-02-28 -0.108114\n",
       "2022-03-31 -0.102707\n",
       "2022-04-30 -0.094743\n",
       "2022-05-31 -0.091618\n",
       "2022-06-30 -0.091609"
      ]
     },
     "execution_count": 221,
     "metadata": {},
     "output_type": "execute_result"
    }
   ],
   "source": [
    "std = data.rolling(24,min_periods=24).std().shift(1).to_frame()\n",
    "cvar_rolling = (-normal_1_pdf/0.01*std)\n",
    "cvar_rolling.dropna().tail()"
   ]
  },
  {
   "cell_type": "markdown",
   "metadata": {},
   "source": [
    "To get that ES1 out perform 50/50, we are actually calculate P(R[ES1] > R[50/50])."
   ]
  },
  {
   "cell_type": "code",
   "execution_count": 222,
   "metadata": {},
   "outputs": [],
   "source": [
    "def find_prob(mean, vol, periods):\n",
    "    prob = pd.Series(scipy.stats.norm.cdf(-np.sqrt(periods)*mean/vol))\n",
    "    prob.index = periods\n",
    "    return prob"
   ]
  },
  {
   "cell_type": "code",
   "execution_count": 223,
   "metadata": {},
   "outputs": [
    {
     "data": {
      "text/plain": [
       "0.03229975374488571"
      ]
     },
     "execution_count": 223,
     "metadata": {},
     "output_type": "execute_result"
    }
   ],
   "source": [
    "log_mr = np.log(1+mr)\n",
    "\n",
    "mr_ex = log_mr['ES1'] - log_mr['50/50'] \n",
    "mean = mr_ex.mean()*12 \n",
    "vol = mr_ex.std()*np.sqrt(12)\n",
    "mean"
   ]
  },
  {
   "cell_type": "code",
   "execution_count": 224,
   "metadata": {},
   "outputs": [
    {
     "data": {
      "text/plain": [
       "10    0.168365\n",
       "dtype: float64"
      ]
     },
     "execution_count": 224,
     "metadata": {},
     "output_type": "execute_result"
    }
   ],
   "source": [
    "prob_data = find_prob(mean, vol, np.array([10]))\n",
    "prob_data"
   ]
  },
  {
   "cell_type": "markdown",
   "metadata": {},
   "source": [
    "This shows that we have 17% of the chance that ES1 will underperform 50/50 which is reasonable, since we expect that ES1 itself will perform better in reality. "
   ]
  }
 ],
 "metadata": {
  "kernelspec": {
   "display_name": "Python 3.9.12 ('base')",
   "language": "python",
   "name": "python3"
  },
  "language_info": {
   "codemirror_mode": {
    "name": "ipython",
    "version": 3
   },
   "file_extension": ".py",
   "mimetype": "text/x-python",
   "name": "python",
   "nbconvert_exporter": "python",
   "pygments_lexer": "ipython3",
   "version": "3.9.12"
  },
  "orig_nbformat": 4,
  "vscode": {
   "interpreter": {
    "hash": "a71391375be2dac210dad05811dc4f7c8d6999b7d96e27484516d89849182552"
   }
  }
 },
 "nbformat": 4,
 "nbformat_minor": 2
}
