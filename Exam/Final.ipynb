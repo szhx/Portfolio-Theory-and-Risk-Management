{
 "cells": [
  {
   "cell_type": "code",
   "execution_count": 2,
   "metadata": {},
   "outputs": [],
   "source": [
    "import pandas as pd\n",
    "import numpy as np\n",
    "import matplotlib.pyplot as plt\n",
    "import statsmodels.api as sm\n",
    "from sklearn import linear_model\n",
    "import scipy.stats as stats\n",
    "from scipy.stats import norm\n",
    "import seaborn as sns\n",
    "import warnings\n",
    "warnings.filterwarnings(\"ignore\")\n",
    "pd.set_option(\"display.precision\", 4)"
   ]
  },
  {
   "cell_type": "code",
   "execution_count": 14,
   "metadata": {},
   "outputs": [
    {
     "data": {
      "text/plain": [
       "0.11999735789901245"
      ]
     },
     "execution_count": 14,
     "metadata": {},
     "output_type": "execute_result"
    }
   ],
   "source": [
    "norm.cdf(-1.175)"
   ]
  },
  {
   "cell_type": "markdown",
   "metadata": {},
   "source": [
    "## Helpers"
   ]
  },
  {
   "cell_type": "code",
   "execution_count": 287,
   "metadata": {},
   "outputs": [],
   "source": [
    "def performance_summary(return_data, annualization = 12):\n",
    "    \"\"\" \n",
    "        Returns the Performance Stats for given set of returns\n",
    "        Inputs: \n",
    "            return_data - DataFrame with Date index and Monthly Returns for different assets/strategies.\n",
    "        Output:\n",
    "            summary_stats - DataFrame with annualized mean return, vol, sharpe ratio. Skewness, Excess Kurtosis, Var (0.5) and\n",
    "                            CVaR (0.5) and drawdown based on monthly returns. \n",
    "    \"\"\"\n",
    "    summary_stats = return_data.mean().to_frame('Mean').apply(lambda x: x*annualization)\n",
    "    summary_stats['Volatility'] = return_data.std().apply(lambda x: x*np.sqrt(annualization))\n",
    "    summary_stats['Sharpe Ratio'] = summary_stats['Mean']/summary_stats['Volatility']\n",
    "\n",
    "    summary_stats['Skewness'] = return_data.skew()\n",
    "    summary_stats['Excess Kurtosis'] = return_data.kurtosis()\n",
    "    summary_stats['VaR (0.05)'] = return_data.quantile(.05, axis = 0)\n",
    "    summary_stats['CVaR (0.05)'] = return_data[return_data <= return_data.quantile(.05, axis = 0)].mean()\n",
    "    \n",
    "    wealth_index = 1000*(1+return_data).cumprod()\n",
    "    previous_peaks = wealth_index.cummax()\n",
    "    drawdowns = (wealth_index - previous_peaks)/previous_peaks\n",
    "\n",
    "    summary_stats['Max Drawdown'] = drawdowns.min()\n",
    "    summary_stats['Peak'] = [previous_peaks[col][:drawdowns[col].idxmin()].idxmax() for col in previous_peaks.columns]\n",
    "    summary_stats['Bottom'] = drawdowns.idxmin()\n",
    "    \n",
    "    recovery_date = []\n",
    "    for col in wealth_index.columns:\n",
    "        prev_max = previous_peaks[col][:drawdowns[col].idxmin()].max()\n",
    "        recovery_wealth = pd.DataFrame([wealth_index[col][drawdowns[col].idxmin():]]).T\n",
    "        recovery_date.append(recovery_wealth[recovery_wealth[col] >= prev_max].index.min())\n",
    "    summary_stats['Recovery'] = recovery_date\n",
    "    \n",
    "    return summary_stats"
   ]
  },
  {
   "cell_type": "markdown",
   "metadata": {},
   "source": [
    "## Q1 "
   ]
  },
  {
   "cell_type": "markdown",
   "metadata": {},
   "source": [
    "1. Using multiple momentum factors will increase the trading cost since we need to manage more assets over the period. Selling and buying increase this cost and also more tax burden. However, this gives us more chance to hold the assets with high momentum by updating the portfolio. \n",
    "\n",
    "2. The Quadratic Market Factor, does lead to slight improvement in the R-Squared of the regression, but the value still remains fairly low, to indicate any relation between LTCM and the market returns. The increased R-Squared could also be just a factor of multicolinearity, as the alpha in the regression also increases, meaning there is more unexplained returns on adding the quadratic market factor. The huge negative beta on SPY^2 is a feature of the factor. The monthly returns are small, thus the squared returns are even smaller, thus the beta has to be larger in magnitude to fir these small returns properly.\n",
    "\n",
    "3. We have the ineffincient mv frontier which indicates the generated portfolio combinations are not robust. Also, in order to get the tangency portfolio, we require the existence of a risk free asset. We can use the upper side of the mv frontier to choose the portfolio that we desire. \n",
    "\n",
    "4. TS: The regression sample size will be from Jan 2001 to Dec 2022 (22 * 12). We will perform 40 linear regressions for each portfolio. The return of the portfolio over time will be our y and the parameters of the pricing model will be our x's. \n",
    "    CS: The regression sample is 40 since we will have 40 groups of betas generated from the TS regressions. We only need to do 1 regression for CS and that is using the mean of 40 portfolios regressing on the 40 betas. \n",
    "\n",
    "5. This means that GMO believed that the prices would revert to fundamental value over time. In specific, at times of high prices GMO would have a contrarian view of expected returns being low. For GMWAX, the fund has been quite successful relative to the benchmark, with returns almost double the benchmark and a Sharpe ratio more than double. However, we don't have a long enough series of returns to do a more involved statistical analysis of the performance. That is we can NOT see the significance of the GMO property. \n",
    "\n",
    "6. Harvard places bounds on the portfolio allocation rather than implementing whatever numbers come out of the MV optimization problem along with a long only constraint on non-cash assets. The solution is numerical (rather than an explicit formula,) due to the inequality constraints. While the solution is computationally easy, it leads to the need for many boundary parameters, which greatly influence the solution. Thus, the solution may be overparameterized with little guide on how to set the parameters, or the motive to parameterize the problem to achieve a certain solution. (This is actually the question in mid1) \n",
    "\n",
    "7. The model for convergence in the long-run was based on i.i.d.log returns. So to the extent that means and volatilities change over time, the model would need to be adjusted to capture these conditional statistics. This means that the SR will be different between short run and long run. \n",
    "\n",
    "8. CIP will imply UIP from my view as the future contracts in reality is conceptually the expectation of the exchange rate return for the next period. Therefore, CIP is accurate with no doubt. UIP, on the other hand is just the concept and we can do the linear regression between the difference of exchange rate and the excess risk free rate of two currencies to see if UIP holds. \n",
    "\n",
    "9. The reason could be due to high volatility of the data as its payoffs could be non-linear. This makes it hard to find betas, correlations. Also, measuring the tail of a distribution is considerably hard and thus, estimation will overestimate excess returns, underestimate risk.\n",
    "\n",
    "10. Do a simple linear regression of ri with respect to SPY. The beta generated will be the hedge ratio. If beta is positive, we long ri with the according amount otherwise we short. "
   ]
  },
  {
   "cell_type": "markdown",
   "metadata": {},
   "source": [
    "## Q2"
   ]
  },
  {
   "cell_type": "code",
   "execution_count": 288,
   "metadata": {},
   "outputs": [
    {
     "data": {
      "text/html": [
       "<div>\n",
       "<style scoped>\n",
       "    .dataframe tbody tr th:only-of-type {\n",
       "        vertical-align: middle;\n",
       "    }\n",
       "\n",
       "    .dataframe tbody tr th {\n",
       "        vertical-align: top;\n",
       "    }\n",
       "\n",
       "    .dataframe thead th {\n",
       "        text-align: right;\n",
       "    }\n",
       "</style>\n",
       "<table border=\"1\" class=\"dataframe\">\n",
       "  <thead>\n",
       "    <tr style=\"text-align: right;\">\n",
       "      <th></th>\n",
       "      <th>GLD</th>\n",
       "      <th>Tbill rate</th>\n",
       "      <th>Tbill change</th>\n",
       "    </tr>\n",
       "    <tr>\n",
       "      <th>Date</th>\n",
       "      <th></th>\n",
       "      <th></th>\n",
       "      <th></th>\n",
       "    </tr>\n",
       "  </thead>\n",
       "  <tbody>\n",
       "    <tr>\n",
       "      <th>2009-04-19</th>\n",
       "      <td>-0.0126</td>\n",
       "      <td>0.130</td>\n",
       "      <td>-0.045</td>\n",
       "    </tr>\n",
       "    <tr>\n",
       "      <th>2009-04-26</th>\n",
       "      <td>0.0528</td>\n",
       "      <td>0.095</td>\n",
       "      <td>-0.035</td>\n",
       "    </tr>\n",
       "    <tr>\n",
       "      <th>2009-05-03</th>\n",
       "      <td>-0.0309</td>\n",
       "      <td>0.145</td>\n",
       "      <td>0.050</td>\n",
       "    </tr>\n",
       "    <tr>\n",
       "      <th>2009-05-10</th>\n",
       "      <td>0.0348</td>\n",
       "      <td>0.165</td>\n",
       "      <td>0.020</td>\n",
       "    </tr>\n",
       "    <tr>\n",
       "      <th>2009-05-17</th>\n",
       "      <td>0.0174</td>\n",
       "      <td>0.155</td>\n",
       "      <td>-0.010</td>\n",
       "    </tr>\n",
       "  </tbody>\n",
       "</table>\n",
       "</div>"
      ],
      "text/plain": [
       "               GLD  Tbill rate  Tbill change\n",
       "Date                                        \n",
       "2009-04-19 -0.0126       0.130        -0.045\n",
       "2009-04-26  0.0528       0.095        -0.035\n",
       "2009-05-03 -0.0309       0.145         0.050\n",
       "2009-05-10  0.0348       0.165         0.020\n",
       "2009-05-17  0.0174       0.155        -0.010"
      ]
     },
     "execution_count": 288,
     "metadata": {},
     "output_type": "execute_result"
    }
   ],
   "source": [
    "fore = pd.read_excel('final_exam_data.xlsx',sheet_name = 'forecasting (weekly)', index_col = 'Date')\n",
    "fore.head()"
   ]
  },
  {
   "cell_type": "code",
   "execution_count": 289,
   "metadata": {},
   "outputs": [
    {
     "data": {
      "text/html": [
       "<div>\n",
       "<style scoped>\n",
       "    .dataframe tbody tr th:only-of-type {\n",
       "        vertical-align: middle;\n",
       "    }\n",
       "\n",
       "    .dataframe tbody tr th {\n",
       "        vertical-align: top;\n",
       "    }\n",
       "\n",
       "    .dataframe thead th {\n",
       "        text-align: right;\n",
       "    }\n",
       "</style>\n",
       "<table border=\"1\" class=\"dataframe\">\n",
       "  <thead>\n",
       "    <tr style=\"text-align: right;\">\n",
       "      <th></th>\n",
       "      <th>VaR (0.05)</th>\n",
       "      <th>CVaR (0.05)</th>\n",
       "    </tr>\n",
       "  </thead>\n",
       "  <tbody>\n",
       "    <tr>\n",
       "      <th>GLD</th>\n",
       "      <td>-0.0333</td>\n",
       "      <td>-0.0471</td>\n",
       "    </tr>\n",
       "  </tbody>\n",
       "</table>\n",
       "</div>"
      ],
      "text/plain": [
       "     VaR (0.05)  CVaR (0.05)\n",
       "GLD     -0.0333      -0.0471"
      ]
     },
     "execution_count": 289,
     "metadata": {},
     "output_type": "execute_result"
    }
   ],
   "source": [
    "data = fore[['GLD']]\n",
    "p1 = performance_summary(data) \n",
    "p1[['VaR (0.05)', 'CVaR (0.05)']]"
   ]
  },
  {
   "cell_type": "code",
   "execution_count": 290,
   "metadata": {},
   "outputs": [
    {
     "data": {
      "text/html": [
       "<div>\n",
       "<style scoped>\n",
       "    .dataframe tbody tr th:only-of-type {\n",
       "        vertical-align: middle;\n",
       "    }\n",
       "\n",
       "    .dataframe tbody tr th {\n",
       "        vertical-align: top;\n",
       "    }\n",
       "\n",
       "    .dataframe thead th {\n",
       "        text-align: right;\n",
       "    }\n",
       "</style>\n",
       "<table border=\"1\" class=\"dataframe\">\n",
       "  <thead>\n",
       "    <tr style=\"text-align: right;\">\n",
       "      <th></th>\n",
       "      <th>Full Sample Var</th>\n",
       "    </tr>\n",
       "  </thead>\n",
       "  <tbody>\n",
       "    <tr>\n",
       "      <th>GLD</th>\n",
       "      <td>-0.0347</td>\n",
       "    </tr>\n",
       "  </tbody>\n",
       "</table>\n",
       "</div>"
      ],
      "text/plain": [
       "     Full Sample Var\n",
       "GLD          -0.0347"
      ]
     },
     "execution_count": 290,
     "metadata": {},
     "output_type": "execute_result"
    }
   ],
   "source": [
    "VaR_full_sample = (norm.ppf(0.05) * data.std())\n",
    "VaR_full_sample.to_frame('Full Sample Var')  "
   ]
  },
  {
   "cell_type": "code",
   "execution_count": 291,
   "metadata": {},
   "outputs": [
    {
     "data": {
      "text/html": [
       "<div>\n",
       "<style scoped>\n",
       "    .dataframe tbody tr th:only-of-type {\n",
       "        vertical-align: middle;\n",
       "    }\n",
       "\n",
       "    .dataframe tbody tr th {\n",
       "        vertical-align: top;\n",
       "    }\n",
       "\n",
       "    .dataframe thead th {\n",
       "        text-align: right;\n",
       "    }\n",
       "</style>\n",
       "<table border=\"1\" class=\"dataframe\">\n",
       "  <thead>\n",
       "    <tr style=\"text-align: right;\">\n",
       "      <th></th>\n",
       "      <th>GLD</th>\n",
       "    </tr>\n",
       "    <tr>\n",
       "      <th>Date</th>\n",
       "      <th></th>\n",
       "    </tr>\n",
       "  </thead>\n",
       "  <tbody>\n",
       "    <tr>\n",
       "      <th>2022-12-04</th>\n",
       "      <td>-0.038</td>\n",
       "    </tr>\n",
       "  </tbody>\n",
       "</table>\n",
       "</div>"
      ],
      "text/plain": [
       "              GLD\n",
       "Date             \n",
       "2022-12-04 -0.038"
      ]
     },
     "execution_count": 291,
     "metadata": {},
     "output_type": "execute_result"
    }
   ],
   "source": [
    "sigma_rolling = data.shift(1).rolling(150).std().dropna()\n",
    "rolling_var = (norm.ppf(0.05) * sigma_rolling)\n",
    "rolling_var.rename(columns={'ES1-GC1 50-50 Returns':'Rolling CVaR'},inplace =True)\n",
    "rolling_var.tail(1)"
   ]
  },
  {
   "cell_type": "markdown",
   "metadata": {},
   "source": [
    "3. We judge the method that working best by simply comparing the number of the actual data under VaR to the value of VaR. A good estimation will be the one that the actual number is equal or less than as VaR shows. We may prefer the empirical method as the normal estimation is assuming mu(mean) to be zero."
   ]
  },
  {
   "cell_type": "markdown",
   "metadata": {},
   "source": [
    "## Q3"
   ]
  },
  {
   "cell_type": "code",
   "execution_count": 292,
   "metadata": {},
   "outputs": [
    {
     "data": {
      "text/html": [
       "<div>\n",
       "<style scoped>\n",
       "    .dataframe tbody tr th:only-of-type {\n",
       "        vertical-align: middle;\n",
       "    }\n",
       "\n",
       "    .dataframe tbody tr th {\n",
       "        vertical-align: top;\n",
       "    }\n",
       "\n",
       "    .dataframe thead th {\n",
       "        text-align: right;\n",
       "    }\n",
       "</style>\n",
       "<table border=\"1\" class=\"dataframe\">\n",
       "  <thead>\n",
       "    <tr style=\"text-align: right;\">\n",
       "      <th></th>\n",
       "      <th>MKT</th>\n",
       "      <th>UMD</th>\n",
       "    </tr>\n",
       "    <tr>\n",
       "      <th>Date</th>\n",
       "      <th></th>\n",
       "      <th></th>\n",
       "    </tr>\n",
       "  </thead>\n",
       "  <tbody>\n",
       "    <tr>\n",
       "      <th>2021-02-28</th>\n",
       "      <td>0.0278</td>\n",
       "      <td>-0.0789</td>\n",
       "    </tr>\n",
       "    <tr>\n",
       "      <th>2021-03-31</th>\n",
       "      <td>0.0308</td>\n",
       "      <td>-0.0614</td>\n",
       "    </tr>\n",
       "    <tr>\n",
       "      <th>2021-04-30</th>\n",
       "      <td>0.0493</td>\n",
       "      <td>0.0110</td>\n",
       "    </tr>\n",
       "    <tr>\n",
       "      <th>2021-05-31</th>\n",
       "      <td>0.0029</td>\n",
       "      <td>0.0088</td>\n",
       "    </tr>\n",
       "    <tr>\n",
       "      <th>2021-06-30</th>\n",
       "      <td>0.0275</td>\n",
       "      <td>0.0219</td>\n",
       "    </tr>\n",
       "  </tbody>\n",
       "</table>\n",
       "</div>"
      ],
      "text/plain": [
       "               MKT     UMD\n",
       "Date                      \n",
       "2021-02-28  0.0278 -0.0789\n",
       "2021-03-31  0.0308 -0.0614\n",
       "2021-04-30  0.0493  0.0110\n",
       "2021-05-31  0.0029  0.0088\n",
       "2021-06-30  0.0275  0.0219"
      ]
     },
     "execution_count": 292,
     "metadata": {},
     "output_type": "execute_result"
    }
   ],
   "source": [
    "factors = pd.read_excel('final_exam_data.xlsx',sheet_name = 'factors (excess returns)', index_col = 'Date')\n",
    "factors.tail()"
   ]
  },
  {
   "cell_type": "code",
   "execution_count": 293,
   "metadata": {},
   "outputs": [
    {
     "data": {
      "text/html": [
       "<div>\n",
       "<style scoped>\n",
       "    .dataframe tbody tr th:only-of-type {\n",
       "        vertical-align: middle;\n",
       "    }\n",
       "\n",
       "    .dataframe tbody tr th {\n",
       "        vertical-align: top;\n",
       "    }\n",
       "\n",
       "    .dataframe thead th {\n",
       "        text-align: right;\n",
       "    }\n",
       "</style>\n",
       "<table border=\"1\" class=\"dataframe\">\n",
       "  <thead>\n",
       "    <tr style=\"text-align: right;\">\n",
       "      <th></th>\n",
       "      <th>NG1</th>\n",
       "      <th>KC1</th>\n",
       "      <th>CC1</th>\n",
       "      <th>LB1</th>\n",
       "      <th>CT1</th>\n",
       "      <th>SB1</th>\n",
       "      <th>LC1</th>\n",
       "      <th>W1</th>\n",
       "      <th>S1</th>\n",
       "      <th>C1</th>\n",
       "      <th>GC1</th>\n",
       "      <th>SI1</th>\n",
       "      <th>HG1</th>\n",
       "      <th>PA1</th>\n",
       "    </tr>\n",
       "    <tr>\n",
       "      <th>Date</th>\n",
       "      <th></th>\n",
       "      <th></th>\n",
       "      <th></th>\n",
       "      <th></th>\n",
       "      <th></th>\n",
       "      <th></th>\n",
       "      <th></th>\n",
       "      <th></th>\n",
       "      <th></th>\n",
       "      <th></th>\n",
       "      <th></th>\n",
       "      <th></th>\n",
       "      <th></th>\n",
       "      <th></th>\n",
       "    </tr>\n",
       "  </thead>\n",
       "  <tbody>\n",
       "    <tr>\n",
       "      <th>2021-02-28</th>\n",
       "      <td>0.0807</td>\n",
       "      <td>0.1131</td>\n",
       "      <td>0.0672</td>\n",
       "      <td>0.1224</td>\n",
       "      <td>0.0890</td>\n",
       "      <td>0.0392</td>\n",
       "      <td>-0.0169</td>\n",
       "      <td>-0.0121</td>\n",
       "      <td>0.0257</td>\n",
       "      <td>0.0155</td>\n",
       "      <td>-0.0654</td>\n",
       "      <td>-0.0190</td>\n",
       "      <td>0.1458</td>\n",
       "      <td>0.0424</td>\n",
       "    </tr>\n",
       "    <tr>\n",
       "      <th>2021-03-31</th>\n",
       "      <td>-0.0588</td>\n",
       "      <td>-0.0976</td>\n",
       "      <td>-0.1307</td>\n",
       "      <td>0.0136</td>\n",
       "      <td>-0.0790</td>\n",
       "      <td>-0.1021</td>\n",
       "      <td>0.0696</td>\n",
       "      <td>-0.0565</td>\n",
       "      <td>0.0224</td>\n",
       "      <td>0.0158</td>\n",
       "      <td>-0.0092</td>\n",
       "      <td>-0.0722</td>\n",
       "      <td>-0.0223</td>\n",
       "      <td>0.1324</td>\n",
       "    </tr>\n",
       "    <tr>\n",
       "      <th>2021-04-30</th>\n",
       "      <td>0.1238</td>\n",
       "      <td>0.1332</td>\n",
       "      <td>-0.0026</td>\n",
       "      <td>0.4870</td>\n",
       "      <td>0.0810</td>\n",
       "      <td>0.1496</td>\n",
       "      <td>-0.0411</td>\n",
       "      <td>0.2015</td>\n",
       "      <td>0.0934</td>\n",
       "      <td>0.3115</td>\n",
       "      <td>0.0304</td>\n",
       "      <td>0.0538</td>\n",
       "      <td>0.1189</td>\n",
       "      <td>0.1274</td>\n",
       "    </tr>\n",
       "    <tr>\n",
       "      <th>2021-05-31</th>\n",
       "      <td>0.0188</td>\n",
       "      <td>0.1601</td>\n",
       "      <td>0.0299</td>\n",
       "      <td>0.0437</td>\n",
       "      <td>-0.0607</td>\n",
       "      <td>0.0224</td>\n",
       "      <td>-0.0011</td>\n",
       "      <td>-0.1064</td>\n",
       "      <td>-0.0258</td>\n",
       "      <td>-0.1125</td>\n",
       "      <td>0.0763</td>\n",
       "      <td>0.0836</td>\n",
       "      <td>0.0454</td>\n",
       "      <td>-0.0438</td>\n",
       "    </tr>\n",
       "    <tr>\n",
       "      <th>2021-06-30</th>\n",
       "      <td>0.2157</td>\n",
       "      <td>-0.0163</td>\n",
       "      <td>-0.0211</td>\n",
       "      <td>0.0000</td>\n",
       "      <td>0.0532</td>\n",
       "      <td>-0.0075</td>\n",
       "      <td>0.0576</td>\n",
       "      <td>-0.0358</td>\n",
       "      <td>-0.1116</td>\n",
       "      <td>0.0575</td>\n",
       "      <td>-0.0730</td>\n",
       "      <td>-0.0765</td>\n",
       "      <td>-0.0867</td>\n",
       "      <td>-0.0454</td>\n",
       "    </tr>\n",
       "  </tbody>\n",
       "</table>\n",
       "</div>"
      ],
      "text/plain": [
       "               NG1     KC1     CC1     LB1     CT1     SB1     LC1      W1  \\\n",
       "Date                                                                         \n",
       "2021-02-28  0.0807  0.1131  0.0672  0.1224  0.0890  0.0392 -0.0169 -0.0121   \n",
       "2021-03-31 -0.0588 -0.0976 -0.1307  0.0136 -0.0790 -0.1021  0.0696 -0.0565   \n",
       "2021-04-30  0.1238  0.1332 -0.0026  0.4870  0.0810  0.1496 -0.0411  0.2015   \n",
       "2021-05-31  0.0188  0.1601  0.0299  0.0437 -0.0607  0.0224 -0.0011 -0.1064   \n",
       "2021-06-30  0.2157 -0.0163 -0.0211  0.0000  0.0532 -0.0075  0.0576 -0.0358   \n",
       "\n",
       "                S1      C1     GC1     SI1     HG1     PA1  \n",
       "Date                                                        \n",
       "2021-02-28  0.0257  0.0155 -0.0654 -0.0190  0.1458  0.0424  \n",
       "2021-03-31  0.0224  0.0158 -0.0092 -0.0722 -0.0223  0.1324  \n",
       "2021-04-30  0.0934  0.3115  0.0304  0.0538  0.1189  0.1274  \n",
       "2021-05-31 -0.0258 -0.1125  0.0763  0.0836  0.0454 -0.0438  \n",
       "2021-06-30 -0.1116  0.0575 -0.0730 -0.0765 -0.0867 -0.0454  "
      ]
     },
     "execution_count": 293,
     "metadata": {},
     "output_type": "execute_result"
    }
   ],
   "source": [
    "\n",
    "futures = pd.read_excel('final_exam_data.xlsx',sheet_name = 'futures (excess returns)', index_col = 'Date')\n",
    "futures.tail()"
   ]
  },
  {
   "cell_type": "code",
   "execution_count": 294,
   "metadata": {},
   "outputs": [
    {
     "data": {
      "text/html": [
       "<div>\n",
       "<style scoped>\n",
       "    .dataframe tbody tr th:only-of-type {\n",
       "        vertical-align: middle;\n",
       "    }\n",
       "\n",
       "    .dataframe tbody tr th {\n",
       "        vertical-align: top;\n",
       "    }\n",
       "\n",
       "    .dataframe thead th {\n",
       "        text-align: right;\n",
       "    }\n",
       "</style>\n",
       "<table border=\"1\" class=\"dataframe\">\n",
       "  <thead>\n",
       "    <tr style=\"text-align: right;\">\n",
       "      <th></th>\n",
       "      <th>a</th>\n",
       "      <th>MKT</th>\n",
       "      <th>UMD</th>\n",
       "      <th>R^2</th>\n",
       "    </tr>\n",
       "  </thead>\n",
       "  <tbody>\n",
       "    <tr>\n",
       "      <th>NG1</th>\n",
       "      <td>0.112</td>\n",
       "      <td>0.3541</td>\n",
       "      <td>0.3812</td>\n",
       "      <td>0.0173</td>\n",
       "    </tr>\n",
       "    <tr>\n",
       "      <th>KC1</th>\n",
       "      <td>0.0232</td>\n",
       "      <td>0.3151</td>\n",
       "      <td>-0.0275</td>\n",
       "      <td>0.0259</td>\n",
       "    </tr>\n",
       "    <tr>\n",
       "      <th>CC1</th>\n",
       "      <td>0.0708</td>\n",
       "      <td>0.2073</td>\n",
       "      <td>-0.0358</td>\n",
       "      <td>0.012</td>\n",
       "    </tr>\n",
       "    <tr>\n",
       "      <th>LB1</th>\n",
       "      <td>0.0645</td>\n",
       "      <td>0.9421</td>\n",
       "      <td>-0.0048</td>\n",
       "      <td>0.1368</td>\n",
       "    </tr>\n",
       "    <tr>\n",
       "      <th>CT1</th>\n",
       "      <td>0.0249</td>\n",
       "      <td>0.5042</td>\n",
       "      <td>-0.1786</td>\n",
       "      <td>0.099</td>\n",
       "    </tr>\n",
       "    <tr>\n",
       "      <th>SB1</th>\n",
       "      <td>0.0931</td>\n",
       "      <td>0.058</td>\n",
       "      <td>-0.3192</td>\n",
       "      <td>0.0327</td>\n",
       "    </tr>\n",
       "    <tr>\n",
       "      <th>LC1</th>\n",
       "      <td>0.0154</td>\n",
       "      <td>0.1831</td>\n",
       "      <td>0.0661</td>\n",
       "      <td>0.02</td>\n",
       "    </tr>\n",
       "    <tr>\n",
       "      <th>W1</th>\n",
       "      <td>0.0545</td>\n",
       "      <td>0.2989</td>\n",
       "      <td>0.0224</td>\n",
       "      <td>0.0213</td>\n",
       "    </tr>\n",
       "    <tr>\n",
       "      <th>S1</th>\n",
       "      <td>0.0425</td>\n",
       "      <td>0.3995</td>\n",
       "      <td>0.0273</td>\n",
       "      <td>0.0529</td>\n",
       "    </tr>\n",
       "    <tr>\n",
       "      <th>C1</th>\n",
       "      <td>0.0609</td>\n",
       "      <td>0.3404</td>\n",
       "      <td>0.062</td>\n",
       "      <td>0.0282</td>\n",
       "    </tr>\n",
       "    <tr>\n",
       "      <th>GC1</th>\n",
       "      <td>0.0705</td>\n",
       "      <td>0.1316</td>\n",
       "      <td>0.1487</td>\n",
       "      <td>0.0274</td>\n",
       "    </tr>\n",
       "    <tr>\n",
       "      <th>SI1</th>\n",
       "      <td>0.0655</td>\n",
       "      <td>0.5118</td>\n",
       "      <td>0.1444</td>\n",
       "      <td>0.0584</td>\n",
       "    </tr>\n",
       "    <tr>\n",
       "      <th>HG1</th>\n",
       "      <td>0.0478</td>\n",
       "      <td>0.6906</td>\n",
       "      <td>-0.1388</td>\n",
       "      <td>0.2147</td>\n",
       "    </tr>\n",
       "    <tr>\n",
       "      <th>PA1</th>\n",
       "      <td>0.0792</td>\n",
       "      <td>0.6645</td>\n",
       "      <td>0.1733</td>\n",
       "      <td>0.0756</td>\n",
       "    </tr>\n",
       "  </tbody>\n",
       "</table>\n",
       "</div>"
      ],
      "text/plain": [
       "          a     MKT     UMD     R^2\n",
       "NG1   0.112  0.3541  0.3812  0.0173\n",
       "KC1  0.0232  0.3151 -0.0275  0.0259\n",
       "CC1  0.0708  0.2073 -0.0358   0.012\n",
       "LB1  0.0645  0.9421 -0.0048  0.1368\n",
       "CT1  0.0249  0.5042 -0.1786   0.099\n",
       "SB1  0.0931   0.058 -0.3192  0.0327\n",
       "LC1  0.0154  0.1831  0.0661    0.02\n",
       "W1   0.0545  0.2989  0.0224  0.0213\n",
       "S1   0.0425  0.3995  0.0273  0.0529\n",
       "C1   0.0609  0.3404   0.062  0.0282\n",
       "GC1  0.0705  0.1316  0.1487  0.0274\n",
       "SI1  0.0655  0.5118  0.1444  0.0584\n",
       "HG1  0.0478  0.6906 -0.1388  0.2147\n",
       "PA1  0.0792  0.6645  0.1733  0.0756"
      ]
     },
     "execution_count": 294,
     "metadata": {},
     "output_type": "execute_result"
    }
   ],
   "source": [
    "ts = pd.DataFrame(data = None, index = futures.columns, columns = ['a', 'MKT', 'UMD', 'R^2'])\n",
    "\n",
    "for a in ts.index:\n",
    "    y = futures[a]\n",
    "    X = sm.add_constant(factors[['MKT','UMD']])\n",
    "    reg = sm.OLS(y, X).fit()\n",
    "    ts.loc[a] = [reg.params[0] * 12, reg.params[1], reg.params[2], reg.rsquared]\n",
    "    \n",
    "ts"
   ]
  },
  {
   "cell_type": "code",
   "execution_count": 295,
   "metadata": {},
   "outputs": [
    {
     "name": "stdout",
     "output_type": "stream",
     "text": [
      "MAE = 5.89 %\n"
     ]
    }
   ],
   "source": [
    "MAE_alpha = (100 * ts['a']).abs().mean()\n",
    "print('MAE = {:.2f} %'.format(MAE_alpha))"
   ]
  },
  {
   "cell_type": "code",
   "execution_count": 296,
   "metadata": {},
   "outputs": [
    {
     "data": {
      "text/plain": [
       "0.058747179429465106"
      ]
     },
     "execution_count": 296,
     "metadata": {},
     "output_type": "execute_result"
    }
   ],
   "source": [
    "r2_mean = ts['R^2'].mean() \n",
    "r2_mean"
   ]
  },
  {
   "cell_type": "markdown",
   "metadata": {},
   "source": [
    "1.b. If the model works perfectly, alpha and MAE should be zero. To be clear, these would be zero in population, and for any given sample they may be non-zero but by a statistically insignificant amount. Nothing could be said about the R-Squared as in the TimeSeries test we do not care about high R-Squared. Thus, the average R-Squared statistic would be unrestricted. Nothing needs to be said about the regression beta, as they would vary with the exposure to the respective factor and would vary with each asset. "
   ]
  },
  {
   "cell_type": "code",
   "execution_count": 297,
   "metadata": {},
   "outputs": [],
   "source": [
    "y = pd.DataFrame(futures.mean(), index=futures.columns, columns = ['Mean'])\n",
    "X = sm.add_constant(ts[['MKT', 'UMD']].astype(float))\n",
    "reg = sm.OLS(y,X,missing='drop').fit() "
   ]
  },
  {
   "cell_type": "code",
   "execution_count": 298,
   "metadata": {},
   "outputs": [
    {
     "data": {
      "text/plain": [
       "0.0611209101800308"
      ]
     },
     "execution_count": 298,
     "metadata": {},
     "output_type": "execute_result"
    }
   ],
   "source": [
    "reg.params[0] * 12 "
   ]
  },
  {
   "cell_type": "code",
   "execution_count": 299,
   "metadata": {},
   "outputs": [
    {
     "data": {
      "text/plain": [
       "MKT    0.0620\n",
       "UMD    0.0735\n",
       "dtype: float64"
      ]
     },
     "execution_count": 299,
     "metadata": {},
     "output_type": "execute_result"
    }
   ],
   "source": [
    "reg.params[1:] * 12"
   ]
  },
  {
   "cell_type": "code",
   "execution_count": 300,
   "metadata": {},
   "outputs": [
    {
     "data": {
      "text/plain": [
       "0.39137127926546056"
      ]
     },
     "execution_count": 300,
     "metadata": {},
     "output_type": "execute_result"
    }
   ],
   "source": [
    "reg.rsquared"
   ]
  },
  {
   "cell_type": "code",
   "execution_count": 301,
   "metadata": {},
   "outputs": [
    {
     "name": "stdout",
     "output_type": "stream",
     "text": [
      "MAE = 1.80 %\n"
     ]
    }
   ],
   "source": [
    "pred_cs = reg.params[0] + ts[['MKT', 'UMD']] @ reg.params[1:] \n",
    "mae = (futures.mean() - pred_cs).abs().mean() \n",
    "print('MAE = {:.2f} %'.format(mae*12*100))"
   ]
  },
  {
   "cell_type": "markdown",
   "metadata": {},
   "source": [
    "2.b. The R-Squared should be 1 as we expect the factors to explain all of the expected returns of the portfolios. MAE should also be zero. We would expect the Alpha for the cross-sectional regression to be zero. A non-zero cross-sectional intercept means the model pricing is off by a fixed amount, potentially due to risk-free rate mismeasurment. We cannot say anything specific about the factor premia (Beta of CS) as the cross-sectional regression provides the freedom for the factor premia to be anything and is derived as the regression coefficient. "
   ]
  },
  {
   "cell_type": "code",
   "execution_count": 302,
   "metadata": {},
   "outputs": [
    {
     "data": {
      "text/plain": [
       "MKT    0.4001\n",
       "UMD    0.0229\n",
       "dtype: float64"
      ]
     },
     "execution_count": 302,
     "metadata": {},
     "output_type": "execute_result"
    }
   ],
   "source": [
    "ts[['MKT','UMD']].mean() #TS"
   ]
  },
  {
   "cell_type": "code",
   "execution_count": 303,
   "metadata": {},
   "outputs": [
    {
     "data": {
      "text/plain": [
       "MKT    0.0620\n",
       "UMD    0.0735\n",
       "dtype: float64"
      ]
     },
     "execution_count": 303,
     "metadata": {},
     "output_type": "execute_result"
    }
   ],
   "source": [
    "reg.params[1:] * 12 #CS"
   ]
  },
  {
   "cell_type": "markdown",
   "metadata": {},
   "source": [
    "3. It looks like under TS, the market risk premia is high than it in the CS. Also, the UMD risk premia is lower in TS than in CS. Also, the difference of risk premias in TS is very large while in CS two factors give very similar risk premias. "
   ]
  },
  {
   "cell_type": "markdown",
   "metadata": {},
   "source": [
    "## Q4"
   ]
  },
  {
   "cell_type": "code",
   "execution_count": 304,
   "metadata": {},
   "outputs": [
    {
     "data": {
      "text/html": [
       "<div>\n",
       "<style scoped>\n",
       "    .dataframe tbody tr th:only-of-type {\n",
       "        vertical-align: middle;\n",
       "    }\n",
       "\n",
       "    .dataframe tbody tr th {\n",
       "        vertical-align: top;\n",
       "    }\n",
       "\n",
       "    .dataframe thead th {\n",
       "        text-align: right;\n",
       "    }\n",
       "</style>\n",
       "<table border=\"1\" class=\"dataframe\">\n",
       "  <thead>\n",
       "    <tr style=\"text-align: right;\">\n",
       "      <th></th>\n",
       "      <th>GLD</th>\n",
       "      <th>Tbill rate</th>\n",
       "      <th>Tbill change</th>\n",
       "    </tr>\n",
       "    <tr>\n",
       "      <th>Date</th>\n",
       "      <th></th>\n",
       "      <th></th>\n",
       "      <th></th>\n",
       "    </tr>\n",
       "  </thead>\n",
       "  <tbody>\n",
       "    <tr>\n",
       "      <th>2009-04-19</th>\n",
       "      <td>-0.0126</td>\n",
       "      <td>0.130</td>\n",
       "      <td>-0.045</td>\n",
       "    </tr>\n",
       "    <tr>\n",
       "      <th>2009-04-26</th>\n",
       "      <td>0.0528</td>\n",
       "      <td>0.095</td>\n",
       "      <td>-0.035</td>\n",
       "    </tr>\n",
       "    <tr>\n",
       "      <th>2009-05-03</th>\n",
       "      <td>-0.0309</td>\n",
       "      <td>0.145</td>\n",
       "      <td>0.050</td>\n",
       "    </tr>\n",
       "    <tr>\n",
       "      <th>2009-05-10</th>\n",
       "      <td>0.0348</td>\n",
       "      <td>0.165</td>\n",
       "      <td>0.020</td>\n",
       "    </tr>\n",
       "    <tr>\n",
       "      <th>2009-05-17</th>\n",
       "      <td>0.0174</td>\n",
       "      <td>0.155</td>\n",
       "      <td>-0.010</td>\n",
       "    </tr>\n",
       "    <tr>\n",
       "      <th>...</th>\n",
       "      <td>...</td>\n",
       "      <td>...</td>\n",
       "      <td>...</td>\n",
       "    </tr>\n",
       "    <tr>\n",
       "      <th>2022-11-06</th>\n",
       "      <td>0.0216</td>\n",
       "      <td>4.013</td>\n",
       "      <td>0.043</td>\n",
       "    </tr>\n",
       "    <tr>\n",
       "      <th>2022-11-13</th>\n",
       "      <td>0.0517</td>\n",
       "      <td>4.063</td>\n",
       "      <td>0.050</td>\n",
       "    </tr>\n",
       "    <tr>\n",
       "      <th>2022-11-20</th>\n",
       "      <td>-0.0108</td>\n",
       "      <td>4.135</td>\n",
       "      <td>0.072</td>\n",
       "    </tr>\n",
       "    <tr>\n",
       "      <th>2022-11-27</th>\n",
       "      <td>0.0026</td>\n",
       "      <td>4.175</td>\n",
       "      <td>0.040</td>\n",
       "    </tr>\n",
       "    <tr>\n",
       "      <th>2022-12-04</th>\n",
       "      <td>-0.0030</td>\n",
       "      <td>4.253</td>\n",
       "      <td>0.078</td>\n",
       "    </tr>\n",
       "  </tbody>\n",
       "</table>\n",
       "<p>712 rows × 3 columns</p>\n",
       "</div>"
      ],
      "text/plain": [
       "               GLD  Tbill rate  Tbill change\n",
       "Date                                        \n",
       "2009-04-19 -0.0126       0.130        -0.045\n",
       "2009-04-26  0.0528       0.095        -0.035\n",
       "2009-05-03 -0.0309       0.145         0.050\n",
       "2009-05-10  0.0348       0.165         0.020\n",
       "2009-05-17  0.0174       0.155        -0.010\n",
       "...            ...         ...           ...\n",
       "2022-11-06  0.0216       4.013         0.043\n",
       "2022-11-13  0.0517       4.063         0.050\n",
       "2022-11-20 -0.0108       4.135         0.072\n",
       "2022-11-27  0.0026       4.175         0.040\n",
       "2022-12-04 -0.0030       4.253         0.078\n",
       "\n",
       "[712 rows x 3 columns]"
      ]
     },
     "execution_count": 304,
     "metadata": {},
     "output_type": "execute_result"
    }
   ],
   "source": [
    "fore1 = pd.read_excel('final_exam_data.xlsx',sheet_name = 'forecasting (weekly)', index_col = 'Date')\n",
    "fore1"
   ]
  },
  {
   "cell_type": "code",
   "execution_count": 305,
   "metadata": {},
   "outputs": [
    {
     "data": {
      "text/html": [
       "<div>\n",
       "<style scoped>\n",
       "    .dataframe tbody tr th:only-of-type {\n",
       "        vertical-align: middle;\n",
       "    }\n",
       "\n",
       "    .dataframe tbody tr th {\n",
       "        vertical-align: top;\n",
       "    }\n",
       "\n",
       "    .dataframe thead th {\n",
       "        text-align: right;\n",
       "    }\n",
       "</style>\n",
       "<table border=\"1\" class=\"dataframe\">\n",
       "  <thead>\n",
       "    <tr style=\"text-align: right;\">\n",
       "      <th></th>\n",
       "      <th>GLD</th>\n",
       "      <th>Tbill rate</th>\n",
       "      <th>Tbill change</th>\n",
       "      <th>Tr_lag</th>\n",
       "      <th>Tc_lag</th>\n",
       "    </tr>\n",
       "    <tr>\n",
       "      <th>Date</th>\n",
       "      <th></th>\n",
       "      <th></th>\n",
       "      <th></th>\n",
       "      <th></th>\n",
       "      <th></th>\n",
       "    </tr>\n",
       "  </thead>\n",
       "  <tbody>\n",
       "    <tr>\n",
       "      <th>2009-04-26</th>\n",
       "      <td>0.0528</td>\n",
       "      <td>0.095</td>\n",
       "      <td>-0.035</td>\n",
       "      <td>0.130</td>\n",
       "      <td>-0.045</td>\n",
       "    </tr>\n",
       "    <tr>\n",
       "      <th>2009-05-03</th>\n",
       "      <td>-0.0309</td>\n",
       "      <td>0.145</td>\n",
       "      <td>0.050</td>\n",
       "      <td>0.095</td>\n",
       "      <td>-0.035</td>\n",
       "    </tr>\n",
       "    <tr>\n",
       "      <th>2009-05-10</th>\n",
       "      <td>0.0348</td>\n",
       "      <td>0.165</td>\n",
       "      <td>0.020</td>\n",
       "      <td>0.145</td>\n",
       "      <td>0.050</td>\n",
       "    </tr>\n",
       "    <tr>\n",
       "      <th>2009-05-17</th>\n",
       "      <td>0.0174</td>\n",
       "      <td>0.155</td>\n",
       "      <td>-0.010</td>\n",
       "      <td>0.165</td>\n",
       "      <td>0.020</td>\n",
       "    </tr>\n",
       "    <tr>\n",
       "      <th>2009-05-24</th>\n",
       "      <td>0.0284</td>\n",
       "      <td>0.175</td>\n",
       "      <td>0.020</td>\n",
       "      <td>0.155</td>\n",
       "      <td>-0.010</td>\n",
       "    </tr>\n",
       "    <tr>\n",
       "      <th>...</th>\n",
       "      <td>...</td>\n",
       "      <td>...</td>\n",
       "      <td>...</td>\n",
       "      <td>...</td>\n",
       "      <td>...</td>\n",
       "    </tr>\n",
       "    <tr>\n",
       "      <th>2022-11-06</th>\n",
       "      <td>0.0216</td>\n",
       "      <td>4.013</td>\n",
       "      <td>0.043</td>\n",
       "      <td>3.970</td>\n",
       "      <td>0.085</td>\n",
       "    </tr>\n",
       "    <tr>\n",
       "      <th>2022-11-13</th>\n",
       "      <td>0.0517</td>\n",
       "      <td>4.063</td>\n",
       "      <td>0.050</td>\n",
       "      <td>4.013</td>\n",
       "      <td>0.043</td>\n",
       "    </tr>\n",
       "    <tr>\n",
       "      <th>2022-11-20</th>\n",
       "      <td>-0.0108</td>\n",
       "      <td>4.135</td>\n",
       "      <td>0.072</td>\n",
       "      <td>4.063</td>\n",
       "      <td>0.050</td>\n",
       "    </tr>\n",
       "    <tr>\n",
       "      <th>2022-11-27</th>\n",
       "      <td>0.0026</td>\n",
       "      <td>4.175</td>\n",
       "      <td>0.040</td>\n",
       "      <td>4.135</td>\n",
       "      <td>0.072</td>\n",
       "    </tr>\n",
       "    <tr>\n",
       "      <th>2022-12-04</th>\n",
       "      <td>-0.0030</td>\n",
       "      <td>4.253</td>\n",
       "      <td>0.078</td>\n",
       "      <td>4.175</td>\n",
       "      <td>0.040</td>\n",
       "    </tr>\n",
       "  </tbody>\n",
       "</table>\n",
       "<p>711 rows × 5 columns</p>\n",
       "</div>"
      ],
      "text/plain": [
       "               GLD  Tbill rate  Tbill change  Tr_lag  Tc_lag\n",
       "Date                                                        \n",
       "2009-04-26  0.0528       0.095        -0.035   0.130  -0.045\n",
       "2009-05-03 -0.0309       0.145         0.050   0.095  -0.035\n",
       "2009-05-10  0.0348       0.165         0.020   0.145   0.050\n",
       "2009-05-17  0.0174       0.155        -0.010   0.165   0.020\n",
       "2009-05-24  0.0284       0.175         0.020   0.155  -0.010\n",
       "...            ...         ...           ...     ...     ...\n",
       "2022-11-06  0.0216       4.013         0.043   3.970   0.085\n",
       "2022-11-13  0.0517       4.063         0.050   4.013   0.043\n",
       "2022-11-20 -0.0108       4.135         0.072   4.063   0.050\n",
       "2022-11-27  0.0026       4.175         0.040   4.135   0.072\n",
       "2022-12-04 -0.0030       4.253         0.078   4.175   0.040\n",
       "\n",
       "[711 rows x 5 columns]"
      ]
     },
     "execution_count": 305,
     "metadata": {},
     "output_type": "execute_result"
    }
   ],
   "source": [
    "fore1['Tr_lag'] = fore1['Tbill rate'].shift() \n",
    "fore1['Tc_lag'] = fore1['Tbill change'].shift()  \n",
    "forecast = fore1.dropna()\n",
    "forecast"
   ]
  },
  {
   "cell_type": "code",
   "execution_count": 306,
   "metadata": {},
   "outputs": [
    {
     "data": {
      "text/plain": [
       "const     0.0010\n",
       "Tr_lag    0.0003\n",
       "Tc_lag    0.0005\n",
       "dtype: float64"
      ]
     },
     "execution_count": 306,
     "metadata": {},
     "output_type": "execute_result"
    }
   ],
   "source": [
    "y = forecast['GLD']\n",
    "x = sm.add_constant(forecast[['Tr_lag', 'Tc_lag']]) \n",
    "reg1 = sm.OLS(y, x).fit() \n",
    "reg1.params"
   ]
  },
  {
   "cell_type": "code",
   "execution_count": 307,
   "metadata": {},
   "outputs": [
    {
     "data": {
      "text/plain": [
       "0.00010651991509946779"
      ]
     },
     "execution_count": 307,
     "metadata": {},
     "output_type": "execute_result"
    }
   ],
   "source": [
    "reg1.rsquared"
   ]
  },
  {
   "cell_type": "code",
   "execution_count": 308,
   "metadata": {},
   "outputs": [
    {
     "data": {
      "text/plain": [
       "Date\n",
       "2009-04-26    0.2804\n",
       "2009-05-03    0.2800\n",
       "2009-05-10    0.2841\n",
       "2009-05-17    0.2834\n",
       "2009-05-24    0.2821\n",
       "               ...  \n",
       "2022-11-06    0.3620\n",
       "2022-11-13    0.3613\n",
       "2022-11-20    0.3626\n",
       "2022-11-27    0.3648\n",
       "2022-12-04    0.3644\n",
       "Length: 711, dtype: float64"
      ]
     },
     "execution_count": 308,
     "metadata": {},
     "output_type": "execute_result"
    }
   ],
   "source": [
    "wt = 0.2 + 80 * reg1.fittedvalues\n",
    "wt"
   ]
  },
  {
   "cell_type": "code",
   "execution_count": 309,
   "metadata": {},
   "outputs": [
    {
     "data": {
      "text/plain": [
       "Date\n",
       "2009-04-26    0.0148\n",
       "2009-05-03   -0.0086\n",
       "2009-05-10    0.0099\n",
       "2009-05-17    0.0049\n",
       "2009-05-24    0.0080\n",
       "               ...  \n",
       "2022-11-06    0.0078\n",
       "2022-11-13    0.0187\n",
       "2022-11-20   -0.0039\n",
       "2022-11-27    0.0010\n",
       "2022-12-04   -0.0011\n",
       "Length: 711, dtype: float64"
      ]
     },
     "execution_count": 309,
     "metadata": {},
     "output_type": "execute_result"
    }
   ],
   "source": [
    "rx = (wt.T * y).T\n",
    "rx"
   ]
  },
  {
   "cell_type": "code",
   "execution_count": 310,
   "metadata": {},
   "outputs": [
    {
     "data": {
      "text/html": [
       "<div>\n",
       "<style scoped>\n",
       "    .dataframe tbody tr th:only-of-type {\n",
       "        vertical-align: middle;\n",
       "    }\n",
       "\n",
       "    .dataframe tbody tr th {\n",
       "        vertical-align: top;\n",
       "    }\n",
       "\n",
       "    .dataframe thead th {\n",
       "        text-align: right;\n",
       "    }\n",
       "</style>\n",
       "<table border=\"1\" class=\"dataframe\">\n",
       "  <thead>\n",
       "    <tr style=\"text-align: right;\">\n",
       "      <th></th>\n",
       "      <th>Mean</th>\n",
       "      <th>Volatility</th>\n",
       "      <th>Sharpe Ratio</th>\n",
       "      <th>Skewness</th>\n",
       "      <th>Excess Kurtosis</th>\n",
       "      <th>VaR (0.05)</th>\n",
       "      <th>CVaR (0.05)</th>\n",
       "      <th>Max Drawdown</th>\n",
       "      <th>Peak</th>\n",
       "      <th>Bottom</th>\n",
       "      <th>Recovery</th>\n",
       "    </tr>\n",
       "  </thead>\n",
       "  <tbody>\n",
       "    <tr>\n",
       "      <th>GLD</th>\n",
       "      <td>0.059</td>\n",
       "      <td>0.1523</td>\n",
       "      <td>0.387</td>\n",
       "      <td>-0.2566</td>\n",
       "      <td>1.4907</td>\n",
       "      <td>-0.0333</td>\n",
       "      <td>-0.0471</td>\n",
       "      <td>-0.4474</td>\n",
       "      <td>2011-09-04</td>\n",
       "      <td>2015-11-29</td>\n",
       "      <td>2020-08-02</td>\n",
       "    </tr>\n",
       "  </tbody>\n",
       "</table>\n",
       "</div>"
      ],
      "text/plain": [
       "      Mean  Volatility  Sharpe Ratio  Skewness  Excess Kurtosis  VaR (0.05)  \\\n",
       "GLD  0.059      0.1523         0.387   -0.2566           1.4907     -0.0333   \n",
       "\n",
       "     CVaR (0.05)  Max Drawdown       Peak     Bottom   Recovery  \n",
       "GLD      -0.0471       -0.4474 2011-09-04 2015-11-29 2020-08-02  "
      ]
     },
     "execution_count": 310,
     "metadata": {},
     "output_type": "execute_result"
    }
   ],
   "source": [
    "performance_summary(forecast[['GLD']], annualization=52)"
   ]
  },
  {
   "cell_type": "code",
   "execution_count": 311,
   "metadata": {},
   "outputs": [
    {
     "data": {
      "text/html": [
       "<div>\n",
       "<style scoped>\n",
       "    .dataframe tbody tr th:only-of-type {\n",
       "        vertical-align: middle;\n",
       "    }\n",
       "\n",
       "    .dataframe tbody tr th {\n",
       "        vertical-align: top;\n",
       "    }\n",
       "\n",
       "    .dataframe thead th {\n",
       "        text-align: right;\n",
       "    }\n",
       "</style>\n",
       "<table border=\"1\" class=\"dataframe\">\n",
       "  <thead>\n",
       "    <tr style=\"text-align: right;\">\n",
       "      <th></th>\n",
       "      <th>Mean</th>\n",
       "      <th>Volatility</th>\n",
       "      <th>Sharpe Ratio</th>\n",
       "      <th>Skewness</th>\n",
       "      <th>Excess Kurtosis</th>\n",
       "      <th>VaR (0.05)</th>\n",
       "      <th>CVaR (0.05)</th>\n",
       "      <th>Max Drawdown</th>\n",
       "      <th>Peak</th>\n",
       "      <th>Bottom</th>\n",
       "      <th>Recovery</th>\n",
       "    </tr>\n",
       "  </thead>\n",
       "  <tbody>\n",
       "    <tr>\n",
       "      <th>0</th>\n",
       "      <td>0.0173</td>\n",
       "      <td>0.0436</td>\n",
       "      <td>0.3979</td>\n",
       "      <td>-0.2144</td>\n",
       "      <td>1.1954</td>\n",
       "      <td>-0.0097</td>\n",
       "      <td>-0.0133</td>\n",
       "      <td>-0.1426</td>\n",
       "      <td>2011-09-04</td>\n",
       "      <td>2015-11-29</td>\n",
       "      <td>2020-05-17</td>\n",
       "    </tr>\n",
       "  </tbody>\n",
       "</table>\n",
       "</div>"
      ],
      "text/plain": [
       "     Mean  Volatility  Sharpe Ratio  Skewness  Excess Kurtosis  VaR (0.05)  \\\n",
       "0  0.0173      0.0436        0.3979   -0.2144           1.1954     -0.0097   \n",
       "\n",
       "   CVaR (0.05)  Max Drawdown       Peak     Bottom   Recovery  \n",
       "0      -0.0133       -0.1426 2011-09-04 2015-11-29 2020-05-17  "
      ]
     },
     "execution_count": 311,
     "metadata": {},
     "output_type": "execute_result"
    }
   ],
   "source": [
    "performance_summary(rx.to_frame(), annualization=52)"
   ]
  },
  {
   "cell_type": "code",
   "execution_count": 312,
   "metadata": {},
   "outputs": [
    {
     "data": {
      "text/plain": [
       "0.0004985357096263617"
      ]
     },
     "execution_count": 312,
     "metadata": {},
     "output_type": "execute_result"
    }
   ],
   "source": [
    "data = sm.add_constant(forecast[['GLD']])\n",
    "lfd = sm.OLS(rx, data).fit()\n",
    "lfd.params[0]*52"
   ]
  },
  {
   "cell_type": "code",
   "execution_count": 313,
   "metadata": {},
   "outputs": [
    {
     "data": {
      "text/plain": [
       "14.851159557898223"
      ]
     },
     "execution_count": 313,
     "metadata": {},
     "output_type": "execute_result"
    }
   ],
   "source": [
    "lfd.params[1]*52"
   ]
  },
  {
   "cell_type": "code",
   "execution_count": 314,
   "metadata": {},
   "outputs": [
    {
     "data": {
      "text/plain": [
       "0.21349311946966631"
      ]
     },
     "execution_count": 314,
     "metadata": {},
     "output_type": "execute_result"
    }
   ],
   "source": [
    "tracking_error = (lfd.resid.std()*np.sqrt(52)) \n",
    "information_ratio = lfd.params[0]*52/tracking_error \n",
    "information_ratio"
   ]
  },
  {
   "cell_type": "markdown",
   "metadata": {},
   "source": [
    "5. These two factors could behave very similar as their betas are close to each other."
   ]
  },
  {
   "cell_type": "code",
   "execution_count": 315,
   "metadata": {},
   "outputs": [
    {
     "data": {
      "text/html": [
       "<div>\n",
       "<style scoped>\n",
       "    .dataframe tbody tr th:only-of-type {\n",
       "        vertical-align: middle;\n",
       "    }\n",
       "\n",
       "    .dataframe tbody tr th {\n",
       "        vertical-align: top;\n",
       "    }\n",
       "\n",
       "    .dataframe thead th {\n",
       "        text-align: right;\n",
       "    }\n",
       "</style>\n",
       "<table border=\"1\" class=\"dataframe\">\n",
       "  <thead>\n",
       "    <tr style=\"text-align: right;\">\n",
       "      <th></th>\n",
       "      <th>Mean</th>\n",
       "      <th>Forecast</th>\n",
       "    </tr>\n",
       "    <tr>\n",
       "      <th>Date</th>\n",
       "      <th></th>\n",
       "      <th></th>\n",
       "    </tr>\n",
       "  </thead>\n",
       "  <tbody>\n",
       "    <tr>\n",
       "      <th>2017-01-01</th>\n",
       "      <td>0.0008</td>\n",
       "      <td>0.0043</td>\n",
       "    </tr>\n",
       "    <tr>\n",
       "      <th>2017-01-08</th>\n",
       "      <td>0.0009</td>\n",
       "      <td>0.0083</td>\n",
       "    </tr>\n",
       "    <tr>\n",
       "      <th>2017-01-15</th>\n",
       "      <td>0.0009</td>\n",
       "      <td>0.0045</td>\n",
       "    </tr>\n",
       "    <tr>\n",
       "      <th>2017-01-22</th>\n",
       "      <td>0.0010</td>\n",
       "      <td>0.0069</td>\n",
       "    </tr>\n",
       "    <tr>\n",
       "      <th>2017-01-29</th>\n",
       "      <td>0.0010</td>\n",
       "      <td>0.0110</td>\n",
       "    </tr>\n",
       "    <tr>\n",
       "      <th>...</th>\n",
       "      <td>...</td>\n",
       "      <td>...</td>\n",
       "    </tr>\n",
       "    <tr>\n",
       "      <th>2022-11-06</th>\n",
       "      <td>0.0011</td>\n",
       "      <td>0.0006</td>\n",
       "    </tr>\n",
       "    <tr>\n",
       "      <th>2022-11-13</th>\n",
       "      <td>0.0011</td>\n",
       "      <td>0.0011</td>\n",
       "    </tr>\n",
       "    <tr>\n",
       "      <th>2022-11-20</th>\n",
       "      <td>0.0012</td>\n",
       "      <td>0.0025</td>\n",
       "    </tr>\n",
       "    <tr>\n",
       "      <th>2022-11-27</th>\n",
       "      <td>0.0011</td>\n",
       "      <td>0.0022</td>\n",
       "    </tr>\n",
       "    <tr>\n",
       "      <th>2022-12-04</th>\n",
       "      <td>0.0011</td>\n",
       "      <td>0.0022</td>\n",
       "    </tr>\n",
       "  </tbody>\n",
       "</table>\n",
       "<p>310 rows × 2 columns</p>\n",
       "</div>"
      ],
      "text/plain": [
       "              Mean  Forecast\n",
       "Date                        \n",
       "2017-01-01  0.0008    0.0043\n",
       "2017-01-08  0.0009    0.0083\n",
       "2017-01-15  0.0009    0.0045\n",
       "2017-01-22  0.0010    0.0069\n",
       "2017-01-29  0.0010    0.0110\n",
       "...            ...       ...\n",
       "2022-11-06  0.0011    0.0006\n",
       "2022-11-13  0.0011    0.0011\n",
       "2022-11-20  0.0012    0.0025\n",
       "2022-11-27  0.0011    0.0022\n",
       "2022-12-04  0.0011    0.0022\n",
       "\n",
       "[310 rows x 2 columns]"
      ]
     },
     "execution_count": 315,
     "metadata": {},
     "output_type": "execute_result"
    }
   ],
   "source": [
    "START_PREDICT = pd.to_datetime('2016-12-25')\n",
    "\n",
    "forecasts_OOS = pd.DataFrame(columns=['Forecast'],index=forecast.index, dtype='float64')\n",
    "\n",
    "est = linear_model.LinearRegression()\n",
    "\n",
    "Xlag = forecast[['Tr_lag', 'Tc_lag']]\n",
    "X = forecast[['Tbill rate', 'Tbill change']]\n",
    "y = forecast[['GLD']]\n",
    "forecast_err = [] \n",
    "null_err = []\n",
    "\n",
    "for t in forecast.loc[START_PREDICT:,:].index:\n",
    "    yt = y.loc[:t].values.reshape(-1,1)\n",
    "    Xlag_t = Xlag.loc[:t,:].values\n",
    "    x_t = X.loc[t,:].values.reshape(1,-1)\n",
    "    est.fit(Xlag_t,yt);\n",
    "    predval = est.predict(x_t)[0,0]\n",
    "\n",
    "    # this timing is assigning forecast to datestamp of info used to make the forecast\n",
    "    forecasts_OOS.loc[t,'Forecast'] = predval\n",
    "    null_forecast = yt.mean()\n",
    "    actual = y.loc[t]\n",
    "    forecast_err.append(predval - actual)\n",
    "    null_err.append(null_forecast - actual)\n",
    "\n",
    "# make sure expanded mean (baseline forecast) uses all spy data, (spy, not spy_aligned)\n",
    "forecasts_OOS.insert(0,'Mean', y.expanding().mean().dropna())\n",
    "\n",
    "# more convenient to have datestamp reflect date of the forecasted value\n",
    "forecasts_OOS = forecasts_OOS.shift(1).dropna()\n",
    "forecasts_OOS"
   ]
  },
  {
   "cell_type": "code",
   "execution_count": 316,
   "metadata": {},
   "outputs": [
    {
     "data": {
      "text/plain": [
       "0.04453971803404222"
      ]
     },
     "execution_count": 316,
     "metadata": {},
     "output_type": "execute_result"
    }
   ],
   "source": [
    "RSS = (np.array(forecast_err)**2).sum()\n",
    "TSS = (np.array(null_err)**2).sum()\n",
    "1 - RSS/TSS # R^2\n",
    "# It seems that if I try to compute the OOS R^2 directly, the result is not the same as using the exact same function from last year's final. "
   ]
  },
  {
   "cell_type": "code",
   "execution_count": 317,
   "metadata": {},
   "outputs": [],
   "source": [
    "def oos_rsquared(data,forecasts,null=None):\n",
    "    data = data.copy()\n",
    "    forecasts = forecasts.copy()\n",
    "    null = null.copy()\n",
    "    \n",
    "    # if no Null forecast given, use expanding mean\n",
    "    if null is None:\n",
    "        null = data.expanding().mean().shift()\n",
    "\n",
    "    # label Data and Null accordingly--input may be series or dataframe\n",
    "    if isinstance(null, pd.DataFrame):\n",
    "        null.columns = ['Null']\n",
    "    elif isinstance(null,pd.Series):\n",
    "        null.name = 'Null'\n",
    "    if isinstance(data, pd.DataFrame):\n",
    "        data.columns = ['Data']\n",
    "    elif isinstance(data,pd.Series):\n",
    "        data.name = 'Data'\n",
    "\n",
    "    # double check data is aligned and no NaN (null will have NaN in first value by default)\n",
    "    alldata = forecasts.join(data,how='inner',rsuffix='_Data').join(null,how='inner',rsuffix='_Null').dropna(axis=0)\n",
    "    null = alldata[['Null']]\n",
    "    data = alldata[['Data']]\n",
    "    forecasts = alldata.drop(columns=['Data','Null'])\n",
    "\n",
    "\n",
    "    # Forecast MSE\n",
    "    err_forecast = forecasts.subtract(data.values)\n",
    "    mse_forecast = (err_forecast**2).sum()\n",
    "\n",
    "    # Null MSE\n",
    "    err_null = null.subtract(data.values)\n",
    "    mse_null = (err_null**2).sum()\n",
    "\n",
    "    # OOS R-squared\n",
    "    r2oos = (1 - mse_forecast/mse_null.values).to_frame().T\n",
    "    r2oos.index = ['OOS-Rsquared']\n",
    "\n",
    "    return r2oos"
   ]
  },
  {
   "cell_type": "code",
   "execution_count": 318,
   "metadata": {},
   "outputs": [
    {
     "data": {
      "text/html": [
       "<div>\n",
       "<style scoped>\n",
       "    .dataframe tbody tr th:only-of-type {\n",
       "        vertical-align: middle;\n",
       "    }\n",
       "\n",
       "    .dataframe tbody tr th {\n",
       "        vertical-align: top;\n",
       "    }\n",
       "\n",
       "    .dataframe thead th {\n",
       "        text-align: right;\n",
       "    }\n",
       "</style>\n",
       "<table border=\"1\" class=\"dataframe\">\n",
       "  <thead>\n",
       "    <tr style=\"text-align: right;\">\n",
       "      <th></th>\n",
       "      <th>Mean</th>\n",
       "      <th>Forecast</th>\n",
       "    </tr>\n",
       "  </thead>\n",
       "  <tbody>\n",
       "    <tr>\n",
       "      <th>OOS-Rsquared</th>\n",
       "      <td>0.0</td>\n",
       "      <td>-0.145</td>\n",
       "    </tr>\n",
       "  </tbody>\n",
       "</table>\n",
       "</div>"
      ],
      "text/plain": [
       "              Mean  Forecast\n",
       "OOS-Rsquared   0.0    -0.145"
      ]
     },
     "execution_count": 318,
     "metadata": {},
     "output_type": "execute_result"
    }
   ],
   "source": [
    "GLD_OOS, _ = forecast[['GLD']].align(forecasts_OOS, join='right', axis=0)\n",
    "\n",
    "oos_rsquared(GLD_OOS,forecasts_OOS,forecasts_OOS[['Mean']])"
   ]
  },
  {
   "cell_type": "code",
   "execution_count": 319,
   "metadata": {},
   "outputs": [
    {
     "data": {
      "text/html": [
       "<div>\n",
       "<style scoped>\n",
       "    .dataframe tbody tr th:only-of-type {\n",
       "        vertical-align: middle;\n",
       "    }\n",
       "\n",
       "    .dataframe tbody tr th {\n",
       "        vertical-align: top;\n",
       "    }\n",
       "\n",
       "    .dataframe thead th {\n",
       "        text-align: right;\n",
       "    }\n",
       "</style>\n",
       "<table border=\"1\" class=\"dataframe\">\n",
       "  <thead>\n",
       "    <tr style=\"text-align: right;\">\n",
       "      <th></th>\n",
       "      <th>GLD</th>\n",
       "    </tr>\n",
       "    <tr>\n",
       "      <th>Date</th>\n",
       "      <th></th>\n",
       "    </tr>\n",
       "  </thead>\n",
       "  <tbody>\n",
       "    <tr>\n",
       "      <th>2017-01-01</th>\n",
       "      <td>0.0156</td>\n",
       "    </tr>\n",
       "    <tr>\n",
       "      <th>2017-01-08</th>\n",
       "      <td>0.0195</td>\n",
       "    </tr>\n",
       "    <tr>\n",
       "      <th>2017-01-15</th>\n",
       "      <td>0.0220</td>\n",
       "    </tr>\n",
       "    <tr>\n",
       "      <th>2017-01-22</th>\n",
       "      <td>0.0074</td>\n",
       "    </tr>\n",
       "    <tr>\n",
       "      <th>2017-01-29</th>\n",
       "      <td>-0.0136</td>\n",
       "    </tr>\n",
       "    <tr>\n",
       "      <th>...</th>\n",
       "      <td>...</td>\n",
       "    </tr>\n",
       "    <tr>\n",
       "      <th>2022-11-06</th>\n",
       "      <td>0.0216</td>\n",
       "    </tr>\n",
       "    <tr>\n",
       "      <th>2022-11-13</th>\n",
       "      <td>0.0517</td>\n",
       "    </tr>\n",
       "    <tr>\n",
       "      <th>2022-11-20</th>\n",
       "      <td>-0.0108</td>\n",
       "    </tr>\n",
       "    <tr>\n",
       "      <th>2022-11-27</th>\n",
       "      <td>0.0026</td>\n",
       "    </tr>\n",
       "    <tr>\n",
       "      <th>2022-12-04</th>\n",
       "      <td>-0.0030</td>\n",
       "    </tr>\n",
       "  </tbody>\n",
       "</table>\n",
       "<p>310 rows × 1 columns</p>\n",
       "</div>"
      ],
      "text/plain": [
       "               GLD\n",
       "Date              \n",
       "2017-01-01  0.0156\n",
       "2017-01-08  0.0195\n",
       "2017-01-15  0.0220\n",
       "2017-01-22  0.0074\n",
       "2017-01-29 -0.0136\n",
       "...            ...\n",
       "2022-11-06  0.0216\n",
       "2022-11-13  0.0517\n",
       "2022-11-20 -0.0108\n",
       "2022-11-27  0.0026\n",
       "2022-12-04 -0.0030\n",
       "\n",
       "[310 rows x 1 columns]"
      ]
     },
     "execution_count": 319,
     "metadata": {},
     "output_type": "execute_result"
    }
   ],
   "source": [
    "GLD_OOS"
   ]
  },
  {
   "cell_type": "code",
   "execution_count": 320,
   "metadata": {},
   "outputs": [
    {
     "data": {
      "text/html": [
       "<div>\n",
       "<style scoped>\n",
       "    .dataframe tbody tr th:only-of-type {\n",
       "        vertical-align: middle;\n",
       "    }\n",
       "\n",
       "    .dataframe tbody tr th {\n",
       "        vertical-align: top;\n",
       "    }\n",
       "\n",
       "    .dataframe thead th {\n",
       "        text-align: right;\n",
       "    }\n",
       "</style>\n",
       "<table border=\"1\" class=\"dataframe\">\n",
       "  <thead>\n",
       "    <tr style=\"text-align: right;\">\n",
       "      <th></th>\n",
       "      <th>Corr. to SPY</th>\n",
       "    </tr>\n",
       "  </thead>\n",
       "  <tbody>\n",
       "    <tr>\n",
       "      <th>Mean</th>\n",
       "      <td>-0.1055</td>\n",
       "    </tr>\n",
       "    <tr>\n",
       "      <th>Forecast</th>\n",
       "      <td>-0.1952</td>\n",
       "    </tr>\n",
       "  </tbody>\n",
       "</table>\n",
       "</div>"
      ],
      "text/plain": [
       "          Corr. to SPY\n",
       "Mean           -0.1055\n",
       "Forecast       -0.1952"
      ]
     },
     "execution_count": 320,
     "metadata": {},
     "output_type": "execute_result"
    }
   ],
   "source": [
    "corr_val = forecasts_OOS.corrwith(GLD_OOS['GLD'])\n",
    "corr_val.to_frame('Corr. to SPY')"
   ]
  },
  {
   "cell_type": "markdown",
   "metadata": {},
   "source": [
    "8. None of the baseline forecast and the actual forecast is positively correlated to the actual GLD. This forecast is not informative to me as the R^2 is negative and the forecasts does not follow the actual values as the correlation shows. "
   ]
  },
  {
   "cell_type": "code",
   "execution_count": 321,
   "metadata": {},
   "outputs": [
    {
     "data": {
      "text/html": [
       "<div>\n",
       "<style scoped>\n",
       "    .dataframe tbody tr th:only-of-type {\n",
       "        vertical-align: middle;\n",
       "    }\n",
       "\n",
       "    .dataframe tbody tr th {\n",
       "        vertical-align: top;\n",
       "    }\n",
       "\n",
       "    .dataframe thead th {\n",
       "        text-align: right;\n",
       "    }\n",
       "</style>\n",
       "<table border=\"1\" class=\"dataframe\">\n",
       "  <thead>\n",
       "    <tr style=\"text-align: right;\">\n",
       "      <th></th>\n",
       "      <th>Mean</th>\n",
       "      <th>Forecast</th>\n",
       "    </tr>\n",
       "    <tr>\n",
       "      <th>Date</th>\n",
       "      <th></th>\n",
       "      <th></th>\n",
       "    </tr>\n",
       "  </thead>\n",
       "  <tbody>\n",
       "    <tr>\n",
       "      <th>2017-01-01</th>\n",
       "      <td>0.2678</td>\n",
       "      <td>0.5458</td>\n",
       "    </tr>\n",
       "    <tr>\n",
       "      <th>2017-01-08</th>\n",
       "      <td>0.2708</td>\n",
       "      <td>0.8638</td>\n",
       "    </tr>\n",
       "    <tr>\n",
       "      <th>2017-01-15</th>\n",
       "      <td>0.2745</td>\n",
       "      <td>0.5631</td>\n",
       "    </tr>\n",
       "    <tr>\n",
       "      <th>2017-01-22</th>\n",
       "      <td>0.2786</td>\n",
       "      <td>0.7502</td>\n",
       "    </tr>\n",
       "    <tr>\n",
       "      <th>2017-01-29</th>\n",
       "      <td>0.2799</td>\n",
       "      <td>1.0791</td>\n",
       "    </tr>\n",
       "    <tr>\n",
       "      <th>...</th>\n",
       "      <td>...</td>\n",
       "      <td>...</td>\n",
       "    </tr>\n",
       "    <tr>\n",
       "      <th>2022-11-06</th>\n",
       "      <td>0.2843</td>\n",
       "      <td>0.2446</td>\n",
       "    </tr>\n",
       "    <tr>\n",
       "      <th>2022-11-13</th>\n",
       "      <td>0.2866</td>\n",
       "      <td>0.2890</td>\n",
       "    </tr>\n",
       "    <tr>\n",
       "      <th>2022-11-20</th>\n",
       "      <td>0.2923</td>\n",
       "      <td>0.4017</td>\n",
       "    </tr>\n",
       "    <tr>\n",
       "      <th>2022-11-27</th>\n",
       "      <td>0.2910</td>\n",
       "      <td>0.3750</td>\n",
       "    </tr>\n",
       "    <tr>\n",
       "      <th>2022-12-04</th>\n",
       "      <td>0.2912</td>\n",
       "      <td>0.3759</td>\n",
       "    </tr>\n",
       "  </tbody>\n",
       "</table>\n",
       "<p>310 rows × 2 columns</p>\n",
       "</div>"
      ],
      "text/plain": [
       "              Mean  Forecast\n",
       "Date                        \n",
       "2017-01-01  0.2678    0.5458\n",
       "2017-01-08  0.2708    0.8638\n",
       "2017-01-15  0.2745    0.5631\n",
       "2017-01-22  0.2786    0.7502\n",
       "2017-01-29  0.2799    1.0791\n",
       "...            ...       ...\n",
       "2022-11-06  0.2843    0.2446\n",
       "2022-11-13  0.2866    0.2890\n",
       "2022-11-20  0.2923    0.4017\n",
       "2022-11-27  0.2910    0.3750\n",
       "2022-12-04  0.2912    0.3759\n",
       "\n",
       "[310 rows x 2 columns]"
      ]
     },
     "execution_count": 321,
     "metadata": {},
     "output_type": "execute_result"
    }
   ],
   "source": [
    "wt_OOS = 0.2 + 80 * forecasts_OOS\n",
    "wt_OOS"
   ]
  },
  {
   "cell_type": "code",
   "execution_count": 322,
   "metadata": {},
   "outputs": [
    {
     "data": {
      "text/html": [
       "<div>\n",
       "<style scoped>\n",
       "    .dataframe tbody tr th:only-of-type {\n",
       "        vertical-align: middle;\n",
       "    }\n",
       "\n",
       "    .dataframe tbody tr th {\n",
       "        vertical-align: top;\n",
       "    }\n",
       "\n",
       "    .dataframe thead th {\n",
       "        text-align: right;\n",
       "    }\n",
       "</style>\n",
       "<table border=\"1\" class=\"dataframe\">\n",
       "  <thead>\n",
       "    <tr style=\"text-align: right;\">\n",
       "      <th></th>\n",
       "      <th>Mean</th>\n",
       "      <th>Forecast</th>\n",
       "    </tr>\n",
       "    <tr>\n",
       "      <th>Date</th>\n",
       "      <th></th>\n",
       "      <th></th>\n",
       "    </tr>\n",
       "  </thead>\n",
       "  <tbody>\n",
       "    <tr>\n",
       "      <th>2017-01-01</th>\n",
       "      <td>0.0042</td>\n",
       "      <td>0.0085</td>\n",
       "    </tr>\n",
       "    <tr>\n",
       "      <th>2017-01-08</th>\n",
       "      <td>0.0053</td>\n",
       "      <td>0.0169</td>\n",
       "    </tr>\n",
       "    <tr>\n",
       "      <th>2017-01-15</th>\n",
       "      <td>0.0060</td>\n",
       "      <td>0.0124</td>\n",
       "    </tr>\n",
       "    <tr>\n",
       "      <th>2017-01-22</th>\n",
       "      <td>0.0020</td>\n",
       "      <td>0.0055</td>\n",
       "    </tr>\n",
       "    <tr>\n",
       "      <th>2017-01-29</th>\n",
       "      <td>-0.0038</td>\n",
       "      <td>-0.0146</td>\n",
       "    </tr>\n",
       "    <tr>\n",
       "      <th>...</th>\n",
       "      <td>...</td>\n",
       "      <td>...</td>\n",
       "    </tr>\n",
       "    <tr>\n",
       "      <th>2022-11-06</th>\n",
       "      <td>0.0061</td>\n",
       "      <td>0.0053</td>\n",
       "    </tr>\n",
       "    <tr>\n",
       "      <th>2022-11-13</th>\n",
       "      <td>0.0148</td>\n",
       "      <td>0.0149</td>\n",
       "    </tr>\n",
       "    <tr>\n",
       "      <th>2022-11-20</th>\n",
       "      <td>-0.0031</td>\n",
       "      <td>-0.0043</td>\n",
       "    </tr>\n",
       "    <tr>\n",
       "      <th>2022-11-27</th>\n",
       "      <td>0.0008</td>\n",
       "      <td>0.0010</td>\n",
       "    </tr>\n",
       "    <tr>\n",
       "      <th>2022-12-04</th>\n",
       "      <td>-0.0009</td>\n",
       "      <td>-0.0011</td>\n",
       "    </tr>\n",
       "  </tbody>\n",
       "</table>\n",
       "<p>310 rows × 2 columns</p>\n",
       "</div>"
      ],
      "text/plain": [
       "              Mean  Forecast\n",
       "Date                        \n",
       "2017-01-01  0.0042    0.0085\n",
       "2017-01-08  0.0053    0.0169\n",
       "2017-01-15  0.0060    0.0124\n",
       "2017-01-22  0.0020    0.0055\n",
       "2017-01-29 -0.0038   -0.0146\n",
       "...            ...       ...\n",
       "2022-11-06  0.0061    0.0053\n",
       "2022-11-13  0.0148    0.0149\n",
       "2022-11-20 -0.0031   -0.0043\n",
       "2022-11-27  0.0008    0.0010\n",
       "2022-12-04 -0.0009   -0.0011\n",
       "\n",
       "[310 rows x 2 columns]"
      ]
     },
     "execution_count": 322,
     "metadata": {},
     "output_type": "execute_result"
    }
   ],
   "source": [
    "df = wt_OOS * GLD_OOS.values\n",
    "df"
   ]
  },
  {
   "cell_type": "code",
   "execution_count": 323,
   "metadata": {},
   "outputs": [
    {
     "data": {
      "text/html": [
       "<div>\n",
       "<style scoped>\n",
       "    .dataframe tbody tr th:only-of-type {\n",
       "        vertical-align: middle;\n",
       "    }\n",
       "\n",
       "    .dataframe tbody tr th {\n",
       "        vertical-align: top;\n",
       "    }\n",
       "\n",
       "    .dataframe thead th {\n",
       "        text-align: right;\n",
       "    }\n",
       "</style>\n",
       "<table border=\"1\" class=\"dataframe\">\n",
       "  <thead>\n",
       "    <tr style=\"text-align: right;\">\n",
       "      <th></th>\n",
       "      <th>Mean</th>\n",
       "      <th>Volatility</th>\n",
       "      <th>Sharpe Ratio</th>\n",
       "      <th>Skewness</th>\n",
       "      <th>Excess Kurtosis</th>\n",
       "      <th>VaR (0.05)</th>\n",
       "      <th>CVaR (0.05)</th>\n",
       "      <th>Max Drawdown</th>\n",
       "      <th>Peak</th>\n",
       "      <th>Bottom</th>\n",
       "      <th>Recovery</th>\n",
       "    </tr>\n",
       "  </thead>\n",
       "  <tbody>\n",
       "    <tr>\n",
       "      <th>Mean</th>\n",
       "      <td>0.0213</td>\n",
       "      <td>0.0406</td>\n",
       "      <td>0.526</td>\n",
       "      <td>-0.2494</td>\n",
       "      <td>3.2217</td>\n",
       "      <td>-0.009</td>\n",
       "      <td>-0.0126</td>\n",
       "      <td>-0.0635</td>\n",
       "      <td>2020-08-09</td>\n",
       "      <td>2022-09-25</td>\n",
       "      <td>NaT</td>\n",
       "    </tr>\n",
       "  </tbody>\n",
       "</table>\n",
       "</div>"
      ],
      "text/plain": [
       "        Mean  Volatility  Sharpe Ratio  Skewness  Excess Kurtosis  VaR (0.05)  \\\n",
       "Mean  0.0213      0.0406         0.526   -0.2494           3.2217      -0.009   \n",
       "\n",
       "      CVaR (0.05)  Max Drawdown       Peak     Bottom Recovery  \n",
       "Mean      -0.0126       -0.0635 2020-08-09 2022-09-25      NaT  "
      ]
     },
     "execution_count": 323,
     "metadata": {},
     "output_type": "execute_result"
    }
   ],
   "source": [
    "performance_summary(df[['Mean']],52)"
   ]
  },
  {
   "cell_type": "code",
   "execution_count": 324,
   "metadata": {},
   "outputs": [
    {
     "data": {
      "text/html": [
       "<div>\n",
       "<style scoped>\n",
       "    .dataframe tbody tr th:only-of-type {\n",
       "        vertical-align: middle;\n",
       "    }\n",
       "\n",
       "    .dataframe tbody tr th {\n",
       "        vertical-align: top;\n",
       "    }\n",
       "\n",
       "    .dataframe thead th {\n",
       "        text-align: right;\n",
       "    }\n",
       "</style>\n",
       "<table border=\"1\" class=\"dataframe\">\n",
       "  <thead>\n",
       "    <tr style=\"text-align: right;\">\n",
       "      <th></th>\n",
       "      <th>Mean</th>\n",
       "      <th>Volatility</th>\n",
       "      <th>Sharpe Ratio</th>\n",
       "      <th>Skewness</th>\n",
       "      <th>Excess Kurtosis</th>\n",
       "      <th>VaR (0.05)</th>\n",
       "      <th>CVaR (0.05)</th>\n",
       "      <th>Max Drawdown</th>\n",
       "      <th>Peak</th>\n",
       "      <th>Bottom</th>\n",
       "      <th>Recovery</th>\n",
       "    </tr>\n",
       "  </thead>\n",
       "  <tbody>\n",
       "    <tr>\n",
       "      <th>Forecast</th>\n",
       "      <td>-0.0345</td>\n",
       "      <td>0.1874</td>\n",
       "      <td>-0.1838</td>\n",
       "      <td>-14.2605</td>\n",
       "      <td>236.5081</td>\n",
       "      <td>-0.0125</td>\n",
       "      <td>-0.0439</td>\n",
       "      <td>-0.45</td>\n",
       "      <td>2020-03-08</td>\n",
       "      <td>2022-10-16</td>\n",
       "      <td>NaT</td>\n",
       "    </tr>\n",
       "  </tbody>\n",
       "</table>\n",
       "</div>"
      ],
      "text/plain": [
       "            Mean  Volatility  Sharpe Ratio  Skewness  Excess Kurtosis  \\\n",
       "Forecast -0.0345      0.1874       -0.1838  -14.2605         236.5081   \n",
       "\n",
       "          VaR (0.05)  CVaR (0.05)  Max Drawdown       Peak     Bottom Recovery  \n",
       "Forecast     -0.0125      -0.0439         -0.45 2020-03-08 2022-10-16      NaT  "
      ]
     },
     "execution_count": 324,
     "metadata": {},
     "output_type": "execute_result"
    }
   ],
   "source": [
    "performance_summary(df[['Forecast']], 52)"
   ]
  },
  {
   "cell_type": "code",
   "execution_count": 325,
   "metadata": {},
   "outputs": [
    {
     "data": {
      "text/plain": [
       "-0.0019172427471378646"
      ]
     },
     "execution_count": 325,
     "metadata": {},
     "output_type": "execute_result"
    }
   ],
   "source": [
    "data = sm.add_constant(GLD_OOS)\n",
    "lfd1 = sm.OLS(df[['Mean']], data).fit()\n",
    "lfd1.params[0]*52"
   ]
  },
  {
   "cell_type": "code",
   "execution_count": 326,
   "metadata": {},
   "outputs": [
    {
     "data": {
      "text/plain": [
       "15.460511123396993"
      ]
     },
     "execution_count": 326,
     "metadata": {},
     "output_type": "execute_result"
    }
   ],
   "source": [
    "lfd1.params[1]*52"
   ]
  },
  {
   "cell_type": "code",
   "execution_count": 327,
   "metadata": {},
   "outputs": [
    {
     "data": {
      "text/plain": [
       "-1.0359595374735697"
      ]
     },
     "execution_count": 327,
     "metadata": {},
     "output_type": "execute_result"
    }
   ],
   "source": [
    "tracking_error = (lfd1.resid.std()*np.sqrt(52)) \n",
    "information_ratio = lfd1.params[0]*52/tracking_error \n",
    "information_ratio"
   ]
  },
  {
   "cell_type": "code",
   "execution_count": 328,
   "metadata": {},
   "outputs": [
    {
     "data": {
      "text/plain": [
       "-0.08899021013239446"
      ]
     },
     "execution_count": 328,
     "metadata": {},
     "output_type": "execute_result"
    }
   ],
   "source": [
    "data = sm.add_constant(GLD_OOS)\n",
    "lfd2 = sm.OLS(df[['Forecast']], data).fit()\n",
    "lfd2.params[0]*52"
   ]
  },
  {
   "cell_type": "code",
   "execution_count": 329,
   "metadata": {},
   "outputs": [
    {
     "data": {
      "text/plain": [
       "36.269181714953255"
      ]
     },
     "execution_count": 329,
     "metadata": {},
     "output_type": "execute_result"
    }
   ],
   "source": [
    "lfd2.params[1]*52"
   ]
  },
  {
   "cell_type": "code",
   "execution_count": 330,
   "metadata": {},
   "outputs": [
    {
     "data": {
      "text/plain": [
       "-0.5507928525330712"
      ]
     },
     "execution_count": 330,
     "metadata": {},
     "output_type": "execute_result"
    }
   ],
   "source": [
    "tracking_error = (lfd2.resid.std()*np.sqrt(52)) \n",
    "information_ratio = lfd2.params[0]*52/tracking_error \n",
    "information_ratio"
   ]
  },
  {
   "cell_type": "markdown",
   "metadata": {},
   "source": [
    "## Q5"
   ]
  },
  {
   "cell_type": "code",
   "execution_count": 331,
   "metadata": {},
   "outputs": [
    {
     "data": {
      "text/html": [
       "<div>\n",
       "<style scoped>\n",
       "    .dataframe tbody tr th:only-of-type {\n",
       "        vertical-align: middle;\n",
       "    }\n",
       "\n",
       "    .dataframe tbody tr th {\n",
       "        vertical-align: top;\n",
       "    }\n",
       "\n",
       "    .dataframe thead th {\n",
       "        text-align: right;\n",
       "    }\n",
       "</style>\n",
       "<table border=\"1\" class=\"dataframe\">\n",
       "  <thead>\n",
       "    <tr style=\"text-align: right;\">\n",
       "      <th></th>\n",
       "      <th>GBP</th>\n",
       "      <th>SOFR</th>\n",
       "      <th>SONIA</th>\n",
       "    </tr>\n",
       "    <tr>\n",
       "      <th>DATE</th>\n",
       "      <th></th>\n",
       "      <th></th>\n",
       "      <th></th>\n",
       "    </tr>\n",
       "  </thead>\n",
       "  <tbody>\n",
       "    <tr>\n",
       "      <th>2022-11-18</th>\n",
       "      <td>1.1902</td>\n",
       "      <td>0.0380</td>\n",
       "      <td>0.0293</td>\n",
       "    </tr>\n",
       "    <tr>\n",
       "      <th>2022-11-21</th>\n",
       "      <td>1.1785</td>\n",
       "      <td>0.0380</td>\n",
       "      <td>0.0293</td>\n",
       "    </tr>\n",
       "    <tr>\n",
       "      <th>2022-11-22</th>\n",
       "      <td>1.1880</td>\n",
       "      <td>0.0380</td>\n",
       "      <td>0.0293</td>\n",
       "    </tr>\n",
       "    <tr>\n",
       "      <th>2022-11-23</th>\n",
       "      <td>1.2040</td>\n",
       "      <td>0.0379</td>\n",
       "      <td>0.0293</td>\n",
       "    </tr>\n",
       "    <tr>\n",
       "      <th>2022-11-25</th>\n",
       "      <td>1.2102</td>\n",
       "      <td>0.0380</td>\n",
       "      <td>0.0293</td>\n",
       "    </tr>\n",
       "  </tbody>\n",
       "</table>\n",
       "</div>"
      ],
      "text/plain": [
       "               GBP    SOFR   SONIA\n",
       "DATE                              \n",
       "2022-11-18  1.1902  0.0380  0.0293\n",
       "2022-11-21  1.1785  0.0380  0.0293\n",
       "2022-11-22  1.1880  0.0380  0.0293\n",
       "2022-11-23  1.2040  0.0379  0.0293\n",
       "2022-11-25  1.2102  0.0380  0.0293"
      ]
     },
     "execution_count": 331,
     "metadata": {},
     "output_type": "execute_result"
    }
   ],
   "source": [
    "fx = pd.read_excel('final_exam_data.xlsx',sheet_name = 'fx (daily)', index_col = 'DATE')\n",
    "fx.tail()"
   ]
  },
  {
   "cell_type": "code",
   "execution_count": 332,
   "metadata": {},
   "outputs": [
    {
     "data": {
      "text/html": [
       "<div>\n",
       "<style scoped>\n",
       "    .dataframe tbody tr th:only-of-type {\n",
       "        vertical-align: middle;\n",
       "    }\n",
       "\n",
       "    .dataframe tbody tr th {\n",
       "        vertical-align: top;\n",
       "    }\n",
       "\n",
       "    .dataframe thead th {\n",
       "        text-align: right;\n",
       "    }\n",
       "</style>\n",
       "<table border=\"1\" class=\"dataframe\">\n",
       "  <thead>\n",
       "    <tr style=\"text-align: right;\">\n",
       "      <th></th>\n",
       "      <th>GBP</th>\n",
       "      <th>rf_USD</th>\n",
       "      <th>rf_GBP</th>\n",
       "    </tr>\n",
       "    <tr>\n",
       "      <th>DATE</th>\n",
       "      <th></th>\n",
       "      <th></th>\n",
       "      <th></th>\n",
       "    </tr>\n",
       "  </thead>\n",
       "  <tbody>\n",
       "    <tr>\n",
       "      <th>2018-04-03</th>\n",
       "      <td>0.3413</td>\n",
       "      <td>0.0181</td>\n",
       "      <td>0.0046</td>\n",
       "    </tr>\n",
       "    <tr>\n",
       "      <th>2018-04-04</th>\n",
       "      <td>0.3419</td>\n",
       "      <td>0.0173</td>\n",
       "      <td>0.0046</td>\n",
       "    </tr>\n",
       "    <tr>\n",
       "      <th>2018-04-05</th>\n",
       "      <td>0.3358</td>\n",
       "      <td>0.0173</td>\n",
       "      <td>0.0046</td>\n",
       "    </tr>\n",
       "    <tr>\n",
       "      <th>2018-04-06</th>\n",
       "      <td>0.3427</td>\n",
       "      <td>0.0173</td>\n",
       "      <td>0.0047</td>\n",
       "    </tr>\n",
       "    <tr>\n",
       "      <th>2018-04-09</th>\n",
       "      <td>0.3461</td>\n",
       "      <td>0.0173</td>\n",
       "      <td>0.0046</td>\n",
       "    </tr>\n",
       "    <tr>\n",
       "      <th>...</th>\n",
       "      <td>...</td>\n",
       "      <td>...</td>\n",
       "      <td>...</td>\n",
       "    </tr>\n",
       "    <tr>\n",
       "      <th>2022-11-18</th>\n",
       "      <td>0.1741</td>\n",
       "      <td>0.0373</td>\n",
       "      <td>0.0289</td>\n",
       "    </tr>\n",
       "    <tr>\n",
       "      <th>2022-11-21</th>\n",
       "      <td>0.1642</td>\n",
       "      <td>0.0373</td>\n",
       "      <td>0.0289</td>\n",
       "    </tr>\n",
       "    <tr>\n",
       "      <th>2022-11-22</th>\n",
       "      <td>0.1723</td>\n",
       "      <td>0.0373</td>\n",
       "      <td>0.0289</td>\n",
       "    </tr>\n",
       "    <tr>\n",
       "      <th>2022-11-23</th>\n",
       "      <td>0.1856</td>\n",
       "      <td>0.0372</td>\n",
       "      <td>0.0289</td>\n",
       "    </tr>\n",
       "    <tr>\n",
       "      <th>2022-11-25</th>\n",
       "      <td>0.1908</td>\n",
       "      <td>0.0373</td>\n",
       "      <td>0.0289</td>\n",
       "    </tr>\n",
       "  </tbody>\n",
       "</table>\n",
       "<p>1129 rows × 3 columns</p>\n",
       "</div>"
      ],
      "text/plain": [
       "               GBP  rf_USD  rf_GBP\n",
       "DATE                              \n",
       "2018-04-03  0.3413  0.0181  0.0046\n",
       "2018-04-04  0.3419  0.0173  0.0046\n",
       "2018-04-05  0.3358  0.0173  0.0046\n",
       "2018-04-06  0.3427  0.0173  0.0047\n",
       "2018-04-09  0.3461  0.0173  0.0046\n",
       "...            ...     ...     ...\n",
       "2022-11-18  0.1741  0.0373  0.0289\n",
       "2022-11-21  0.1642  0.0373  0.0289\n",
       "2022-11-22  0.1723  0.0373  0.0289\n",
       "2022-11-23  0.1856  0.0372  0.0289\n",
       "2022-11-25  0.1908  0.0373  0.0289\n",
       "\n",
       "[1129 rows x 3 columns]"
      ]
     },
     "execution_count": 332,
     "metadata": {},
     "output_type": "execute_result"
    }
   ],
   "source": [
    "rf_ex = pd.DataFrame() \n",
    "rf_ex['GBP'] = np.log(fx['GBP'])\n",
    "rf_ex['rf_USD'] = np.log(1+fx['SOFR'])\n",
    "rf_ex['rf_GBP'] = np.log(1+fx['SONIA'])\n",
    "rf_ex"
   ]
  },
  {
   "cell_type": "markdown",
   "metadata": {},
   "source": [
    "2. UIP states that the mean return of these currencies positions should be zero as the change in the spot fx rate is completely explained by the changes in risk free rates. "
   ]
  },
  {
   "cell_type": "code",
   "execution_count": 333,
   "metadata": {},
   "outputs": [
    {
     "data": {
      "text/html": [
       "<div>\n",
       "<style scoped>\n",
       "    .dataframe tbody tr th:only-of-type {\n",
       "        vertical-align: middle;\n",
       "    }\n",
       "\n",
       "    .dataframe tbody tr th {\n",
       "        vertical-align: top;\n",
       "    }\n",
       "\n",
       "    .dataframe thead th {\n",
       "        text-align: right;\n",
       "    }\n",
       "</style>\n",
       "<table border=\"1\" class=\"dataframe\">\n",
       "  <thead>\n",
       "    <tr style=\"text-align: right;\">\n",
       "      <th></th>\n",
       "      <th>GBP</th>\n",
       "      <th>rf_USD</th>\n",
       "      <th>rf_GBP</th>\n",
       "      <th>ex_rf</th>\n",
       "      <th>ret</th>\n",
       "      <th>ex_ret</th>\n",
       "    </tr>\n",
       "    <tr>\n",
       "      <th>DATE</th>\n",
       "      <th></th>\n",
       "      <th></th>\n",
       "      <th></th>\n",
       "      <th></th>\n",
       "      <th></th>\n",
       "      <th></th>\n",
       "    </tr>\n",
       "  </thead>\n",
       "  <tbody>\n",
       "    <tr>\n",
       "      <th>2018-04-04</th>\n",
       "      <td>0.3419</td>\n",
       "      <td>0.0173</td>\n",
       "      <td>0.0046</td>\n",
       "      <td>0.0135</td>\n",
       "      <td>0.0006</td>\n",
       "      <td>-0.0129</td>\n",
       "    </tr>\n",
       "    <tr>\n",
       "      <th>2018-04-05</th>\n",
       "      <td>0.3358</td>\n",
       "      <td>0.0173</td>\n",
       "      <td>0.0046</td>\n",
       "      <td>0.0126</td>\n",
       "      <td>-0.0061</td>\n",
       "      <td>-0.0187</td>\n",
       "    </tr>\n",
       "    <tr>\n",
       "      <th>2018-04-06</th>\n",
       "      <td>0.3427</td>\n",
       "      <td>0.0173</td>\n",
       "      <td>0.0047</td>\n",
       "      <td>0.0127</td>\n",
       "      <td>0.0069</td>\n",
       "      <td>-0.0058</td>\n",
       "    </tr>\n",
       "    <tr>\n",
       "      <th>2018-04-09</th>\n",
       "      <td>0.3461</td>\n",
       "      <td>0.0173</td>\n",
       "      <td>0.0046</td>\n",
       "      <td>0.0127</td>\n",
       "      <td>0.0034</td>\n",
       "      <td>-0.0093</td>\n",
       "    </tr>\n",
       "    <tr>\n",
       "      <th>2018-04-10</th>\n",
       "      <td>0.3479</td>\n",
       "      <td>0.0173</td>\n",
       "      <td>0.0047</td>\n",
       "      <td>0.0127</td>\n",
       "      <td>0.0018</td>\n",
       "      <td>-0.0109</td>\n",
       "    </tr>\n",
       "    <tr>\n",
       "      <th>...</th>\n",
       "      <td>...</td>\n",
       "      <td>...</td>\n",
       "      <td>...</td>\n",
       "      <td>...</td>\n",
       "      <td>...</td>\n",
       "      <td>...</td>\n",
       "    </tr>\n",
       "    <tr>\n",
       "      <th>2022-11-18</th>\n",
       "      <td>0.1741</td>\n",
       "      <td>0.0373</td>\n",
       "      <td>0.0289</td>\n",
       "      <td>0.0084</td>\n",
       "      <td>0.0076</td>\n",
       "      <td>-0.0009</td>\n",
       "    </tr>\n",
       "    <tr>\n",
       "      <th>2022-11-21</th>\n",
       "      <td>0.1642</td>\n",
       "      <td>0.0373</td>\n",
       "      <td>0.0289</td>\n",
       "      <td>0.0084</td>\n",
       "      <td>-0.0099</td>\n",
       "      <td>-0.0183</td>\n",
       "    </tr>\n",
       "    <tr>\n",
       "      <th>2022-11-22</th>\n",
       "      <td>0.1723</td>\n",
       "      <td>0.0373</td>\n",
       "      <td>0.0289</td>\n",
       "      <td>0.0084</td>\n",
       "      <td>0.0080</td>\n",
       "      <td>-0.0004</td>\n",
       "    </tr>\n",
       "    <tr>\n",
       "      <th>2022-11-23</th>\n",
       "      <td>0.1856</td>\n",
       "      <td>0.0372</td>\n",
       "      <td>0.0289</td>\n",
       "      <td>0.0084</td>\n",
       "      <td>0.0134</td>\n",
       "      <td>0.0049</td>\n",
       "    </tr>\n",
       "    <tr>\n",
       "      <th>2022-11-25</th>\n",
       "      <td>0.1908</td>\n",
       "      <td>0.0373</td>\n",
       "      <td>0.0289</td>\n",
       "      <td>0.0083</td>\n",
       "      <td>0.0051</td>\n",
       "      <td>-0.0032</td>\n",
       "    </tr>\n",
       "  </tbody>\n",
       "</table>\n",
       "<p>1128 rows × 6 columns</p>\n",
       "</div>"
      ],
      "text/plain": [
       "               GBP  rf_USD  rf_GBP   ex_rf     ret  ex_ret\n",
       "DATE                                                      \n",
       "2018-04-04  0.3419  0.0173  0.0046  0.0135  0.0006 -0.0129\n",
       "2018-04-05  0.3358  0.0173  0.0046  0.0126 -0.0061 -0.0187\n",
       "2018-04-06  0.3427  0.0173  0.0047  0.0127  0.0069 -0.0058\n",
       "2018-04-09  0.3461  0.0173  0.0046  0.0127  0.0034 -0.0093\n",
       "2018-04-10  0.3479  0.0173  0.0047  0.0127  0.0018 -0.0109\n",
       "...            ...     ...     ...     ...     ...     ...\n",
       "2022-11-18  0.1741  0.0373  0.0289  0.0084  0.0076 -0.0009\n",
       "2022-11-21  0.1642  0.0373  0.0289  0.0084 -0.0099 -0.0183\n",
       "2022-11-22  0.1723  0.0373  0.0289  0.0084  0.0080 -0.0004\n",
       "2022-11-23  0.1856  0.0372  0.0289  0.0084  0.0134  0.0049\n",
       "2022-11-25  0.1908  0.0373  0.0289  0.0083  0.0051 -0.0032\n",
       "\n",
       "[1128 rows x 6 columns]"
      ]
     },
     "execution_count": 333,
     "metadata": {},
     "output_type": "execute_result"
    }
   ],
   "source": [
    "rf_ex['ex_rf'] = (rf_ex['rf_USD'] - rf_ex['rf_GBP']).shift()\n",
    "rf_ex['ret'] = rf_ex['GBP'].diff(1) \n",
    "rf_ex['ex_ret'] = rf_ex['ret'] - rf_ex['ex_rf']\n",
    "rf_ex.dropna()"
   ]
  },
  {
   "cell_type": "code",
   "execution_count": 334,
   "metadata": {},
   "outputs": [
    {
     "data": {
      "text/html": [
       "<div>\n",
       "<style scoped>\n",
       "    .dataframe tbody tr th:only-of-type {\n",
       "        vertical-align: middle;\n",
       "    }\n",
       "\n",
       "    .dataframe tbody tr th {\n",
       "        vertical-align: top;\n",
       "    }\n",
       "\n",
       "    .dataframe thead th {\n",
       "        text-align: right;\n",
       "    }\n",
       "</style>\n",
       "<table border=\"1\" class=\"dataframe\">\n",
       "  <thead>\n",
       "    <tr style=\"text-align: right;\">\n",
       "      <th></th>\n",
       "      <th>Mean</th>\n",
       "      <th>Volatility</th>\n",
       "      <th>Sharpe Ratio</th>\n",
       "      <th>Skewness</th>\n",
       "      <th>Excess Kurtosis</th>\n",
       "      <th>VaR (0.05)</th>\n",
       "      <th>CVaR (0.05)</th>\n",
       "      <th>Max Drawdown</th>\n",
       "      <th>Peak</th>\n",
       "      <th>Bottom</th>\n",
       "      <th>Recovery</th>\n",
       "    </tr>\n",
       "  </thead>\n",
       "  <tbody>\n",
       "    <tr>\n",
       "      <th>ex_ret</th>\n",
       "      <td>-0.0741</td>\n",
       "      <td>0.0328</td>\n",
       "      <td>-2.2585</td>\n",
       "      <td>-0.1669</td>\n",
       "      <td>-0.056</td>\n",
       "      <td>-0.0213</td>\n",
       "      <td>-0.025</td>\n",
       "      <td>-0.9991</td>\n",
       "      <td>2018-04-04</td>\n",
       "      <td>2022-11-22</td>\n",
       "      <td>NaT</td>\n",
       "    </tr>\n",
       "  </tbody>\n",
       "</table>\n",
       "</div>"
      ],
      "text/plain": [
       "          Mean  Volatility  Sharpe Ratio  Skewness  Excess Kurtosis  \\\n",
       "ex_ret -0.0741      0.0328       -2.2585   -0.1669           -0.056   \n",
       "\n",
       "        VaR (0.05)  CVaR (0.05)  Max Drawdown       Peak     Bottom Recovery  \n",
       "ex_ret     -0.0213       -0.025       -0.9991 2018-04-04 2022-11-22      NaT  "
      ]
     },
     "execution_count": 334,
     "metadata": {},
     "output_type": "execute_result"
    }
   ],
   "source": [
    "performance_summary(rf_ex[['ex_ret']])"
   ]
  },
  {
   "cell_type": "code",
   "execution_count": 335,
   "metadata": {},
   "outputs": [
    {
     "data": {
      "text/plain": [
       "0.006042283356448891"
      ]
     },
     "execution_count": 335,
     "metadata": {},
     "output_type": "execute_result"
    }
   ],
   "source": [
    "rf_ex['ex_rf'].mean()"
   ]
  },
  {
   "cell_type": "code",
   "execution_count": 336,
   "metadata": {},
   "outputs": [
    {
     "data": {
      "text/plain": [
       "-0.0001334503425634808"
      ]
     },
     "execution_count": 336,
     "metadata": {},
     "output_type": "execute_result"
    }
   ],
   "source": [
    "rf_ex['ret'].mean()"
   ]
  },
  {
   "cell_type": "markdown",
   "metadata": {},
   "source": [
    "4. The interest spread is positive, which means it will decrease the overall estimation and hence NOT help the excess return of GBP over this sample. \n",
    "\n",
    "    The FX growth is negative over the sample, that indicates the depreciation on GBP and hence Appreciation for USD. "
   ]
  },
  {
   "cell_type": "code",
   "execution_count": 337,
   "metadata": {},
   "outputs": [
    {
     "name": "stdout",
     "output_type": "stream",
     "text": [
      "100.0%\n"
     ]
    }
   ],
   "source": [
    "data = rf_ex[['ex_ret']]\n",
    "prob_rx = norm.cdf(-np.sqrt(5*252)*(data.mean()/data.std()))[0]\n",
    "print(str(prob_rx * 100) + '%')"
   ]
  },
  {
   "cell_type": "code",
   "execution_count": 338,
   "metadata": {},
   "outputs": [
    {
     "data": {
      "text/plain": [
       "const   -6.9182e-05\n",
       "ex_rf   -1.0636e-02\n",
       "dtype: float64"
      ]
     },
     "execution_count": 338,
     "metadata": {},
     "output_type": "execute_result"
    }
   ],
   "source": [
    "y = rf_ex[['ret']] \n",
    "x = sm.add_constant(rf_ex[['ex_rf']]) \n",
    "reg = sm.OLS(y, x, missing='drop').fit() \n",
    "reg.params"
   ]
  },
  {
   "cell_type": "code",
   "execution_count": 339,
   "metadata": {},
   "outputs": [
    {
     "data": {
      "text/plain": [
       "0.00016217295905862628"
      ]
     },
     "execution_count": 339,
     "metadata": {},
     "output_type": "execute_result"
    }
   ],
   "source": [
    "reg.rsquared"
   ]
  },
  {
   "cell_type": "markdown",
   "metadata": {},
   "source": [
    "7. From Lecture 8 silde 19, UIP implies alpha to be 0 and beta to be 1. UIP has no implication for R^2. "
   ]
  },
  {
   "cell_type": "markdown",
   "metadata": {},
   "source": [
    "8. If interest rate of GBP increases, the risk free rate spread will decrease. That will lead to appreciation of GBP if other factors stay the same. Therefore, USD will be weaker and depreciate. "
   ]
  },
  {
   "cell_type": "markdown",
   "metadata": {},
   "source": [
    "9. By CIP, we know that the forward premium should be equal to the risk free rate of USD minus risk free rate of GBP. Therefore, if the risk free rate of USD increases relative to GBP, we will definitely expect forward exchange rate to be higher than spot exchange rate. "
   ]
  },
  {
   "cell_type": "code",
   "execution_count": 340,
   "metadata": {},
   "outputs": [
    {
     "data": {
      "text/html": [
       "<div>\n",
       "<style scoped>\n",
       "    .dataframe tbody tr th:only-of-type {\n",
       "        vertical-align: middle;\n",
       "    }\n",
       "\n",
       "    .dataframe tbody tr th {\n",
       "        vertical-align: top;\n",
       "    }\n",
       "\n",
       "    .dataframe thead th {\n",
       "        text-align: right;\n",
       "    }\n",
       "</style>\n",
       "<table border=\"1\" class=\"dataframe\">\n",
       "  <thead>\n",
       "    <tr style=\"text-align: right;\">\n",
       "      <th></th>\n",
       "      <th>pred_ret</th>\n",
       "      <th>pred_ex_ret</th>\n",
       "    </tr>\n",
       "    <tr>\n",
       "      <th>DATE</th>\n",
       "      <th></th>\n",
       "      <th></th>\n",
       "    </tr>\n",
       "  </thead>\n",
       "  <tbody>\n",
       "    <tr>\n",
       "      <th>2018-04-04</th>\n",
       "      <td>-0.0002</td>\n",
       "      <td>-0.0137</td>\n",
       "    </tr>\n",
       "    <tr>\n",
       "      <th>2018-04-05</th>\n",
       "      <td>-0.0002</td>\n",
       "      <td>-0.0128</td>\n",
       "    </tr>\n",
       "    <tr>\n",
       "      <th>2018-04-06</th>\n",
       "      <td>-0.0002</td>\n",
       "      <td>-0.0129</td>\n",
       "    </tr>\n",
       "    <tr>\n",
       "      <th>2018-04-09</th>\n",
       "      <td>-0.0002</td>\n",
       "      <td>-0.0129</td>\n",
       "    </tr>\n",
       "    <tr>\n",
       "      <th>2018-04-10</th>\n",
       "      <td>-0.0002</td>\n",
       "      <td>-0.0129</td>\n",
       "    </tr>\n",
       "    <tr>\n",
       "      <th>...</th>\n",
       "      <td>...</td>\n",
       "      <td>...</td>\n",
       "    </tr>\n",
       "    <tr>\n",
       "      <th>2022-11-18</th>\n",
       "      <td>-0.0002</td>\n",
       "      <td>-0.0086</td>\n",
       "    </tr>\n",
       "    <tr>\n",
       "      <th>2022-11-21</th>\n",
       "      <td>-0.0002</td>\n",
       "      <td>-0.0086</td>\n",
       "    </tr>\n",
       "    <tr>\n",
       "      <th>2022-11-22</th>\n",
       "      <td>-0.0002</td>\n",
       "      <td>-0.0086</td>\n",
       "    </tr>\n",
       "    <tr>\n",
       "      <th>2022-11-23</th>\n",
       "      <td>-0.0002</td>\n",
       "      <td>-0.0086</td>\n",
       "    </tr>\n",
       "    <tr>\n",
       "      <th>2022-11-25</th>\n",
       "      <td>-0.0002</td>\n",
       "      <td>-0.0085</td>\n",
       "    </tr>\n",
       "  </tbody>\n",
       "</table>\n",
       "<p>1128 rows × 2 columns</p>\n",
       "</div>"
      ],
      "text/plain": [
       "            pred_ret  pred_ex_ret\n",
       "DATE                             \n",
       "2018-04-04   -0.0002      -0.0137\n",
       "2018-04-05   -0.0002      -0.0128\n",
       "2018-04-06   -0.0002      -0.0129\n",
       "2018-04-09   -0.0002      -0.0129\n",
       "2018-04-10   -0.0002      -0.0129\n",
       "...              ...          ...\n",
       "2022-11-18   -0.0002      -0.0086\n",
       "2022-11-21   -0.0002      -0.0086\n",
       "2022-11-22   -0.0002      -0.0086\n",
       "2022-11-23   -0.0002      -0.0086\n",
       "2022-11-25   -0.0002      -0.0085\n",
       "\n",
       "[1128 rows x 2 columns]"
      ]
     },
     "execution_count": 340,
     "metadata": {},
     "output_type": "execute_result"
    }
   ],
   "source": [
    "rf_ex['pred_ret'] = reg.params[0] + reg.params[1] * rf_ex['ex_rf']\n",
    "rf_ex['pred_ex_ret'] = rf_ex['pred_ret'] - rf_ex['ex_rf'] \n",
    "rf_ex[['pred_ret', 'pred_ex_ret']].dropna()"
   ]
  }
 ],
 "metadata": {
  "kernelspec": {
   "display_name": "Python 3.9.12 ('base')",
   "language": "python",
   "name": "python3"
  },
  "language_info": {
   "codemirror_mode": {
    "name": "ipython",
    "version": 3
   },
   "file_extension": ".py",
   "mimetype": "text/x-python",
   "name": "python",
   "nbconvert_exporter": "python",
   "pygments_lexer": "ipython3",
   "version": "3.9.12"
  },
  "orig_nbformat": 4,
  "vscode": {
   "interpreter": {
    "hash": "a71391375be2dac210dad05811dc4f7c8d6999b7d96e27484516d89849182552"
   }
  }
 },
 "nbformat": 4,
 "nbformat_minor": 2
}
