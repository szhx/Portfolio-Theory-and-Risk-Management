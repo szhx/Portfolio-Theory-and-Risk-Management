{
 "cells": [
  {
   "cell_type": "code",
   "execution_count": 59,
   "metadata": {},
   "outputs": [],
   "source": [
    "import pandas as pd\n",
    "import numpy as np\n",
    "import matplotlib.pyplot as plt\n",
    "import statsmodels.api as sm\n",
    "from sklearn import linear_model\n",
    "import scipy.stats as stats\n",
    "import seaborn as sns\n",
    "import warnings\n",
    "warnings.filterwarnings(\"ignore\")\n",
    "pd.set_option(\"display.precision\", 4)"
   ]
  },
  {
   "cell_type": "markdown",
   "metadata": {},
   "source": [
    "## Q1"
   ]
  },
  {
   "cell_type": "markdown",
   "metadata": {},
   "source": [
    "1. Value factor(HML) takes a long position on firms with high book-to-market and a short position on firms with low book-to-market. This reduces its corr to MKT by identifying a specific characteristic of the stocks and utilize it. It is also different to Size factor, since size factor(SMB) takes a long position on firms with small market capitalizations and a short position on firms with large market capitalizations. The classification of small and large can be based on percentiles,quintiles or deciles. \n",
    "\n",
    "2. Even if Value has underperformed the market in these subsamples, it's imperfect correlation with the market could lead to diversification benefits as we saw in the MV optimization. This imperfect correlation can lead to risk reduction at the margin for any investor completely invested in funds tracking the broader equity index. \n",
    "\n",
    "3. All these style factors can come in handy for both a linear factor decomposition and in a linear pricing model, as long as the combination of these factors do not posit heavy correlations. All the factors have posted positive risk premia for a longer duration, but due regime changes and changes in market microstructure resulting from advancing technologies and changing investor behavior, some factors might now prove to be redundant or might not display positive risk premia for a longer duration. \n",
    "\n",
    "4. False for TR and True for SR. The Treynor Ratio for all securities are equal to the market excess return. The market TR is also equal to that since the market beta is 1. The Sharpe Ratio of any security is equal to its correlation to the market factor times the market SR. Therefore, the market SR is the largest as its correlation to itself is 1. \n",
    "\n",
    "5. The biggest difference between long-only and long-short is that long-only is highly correlated to the Market factor while long-short is NOT. That is the reason we don't want to invest in long-only although its mean and SR are good sometimes. \n",
    "\n",
    "6. From class, I think we can take advantage of this small beta and R^2. Since beta indicates a small autocorrelation, small AR times large returns will give sizable returns in the following period and we can magnify this by shorting the losers. Also we can hold a lot of stocks to do diversification based on small R^2. \n",
    "\n",
    "7. Size and Value factors has a positive exposure while the market and Momentum factors should have 0 exposure. \n",
    "\n",
    "8. The residuals are uncorrelated across regressions so that we can diversify the idiosyncratic risks. Also, there has to be no arbitrage. The factors must describes expected returns across assets. \n",
    "\n",
    "9. From the class, we know that APT gives conditions for a LFD of return variation implies LFPM for risk premia. That means LFPM has more restriction than LFD in order to work. Therefore, we would expect that if LFPM fits perfectly, LFD should also fit well. "
   ]
  },
  {
   "cell_type": "markdown",
   "metadata": {},
   "source": [
    "## Q2"
   ]
  },
  {
   "cell_type": "code",
   "execution_count": 104,
   "metadata": {},
   "outputs": [
    {
     "data": {
      "text/html": [
       "<div>\n",
       "<style scoped>\n",
       "    .dataframe tbody tr th:only-of-type {\n",
       "        vertical-align: middle;\n",
       "    }\n",
       "\n",
       "    .dataframe tbody tr th {\n",
       "        vertical-align: top;\n",
       "    }\n",
       "\n",
       "    .dataframe thead th {\n",
       "        text-align: right;\n",
       "    }\n",
       "</style>\n",
       "<table border=\"1\" class=\"dataframe\">\n",
       "  <thead>\n",
       "    <tr style=\"text-align: right;\">\n",
       "      <th></th>\n",
       "      <th>MKT</th>\n",
       "      <th>RMW</th>\n",
       "    </tr>\n",
       "    <tr>\n",
       "      <th>Date</th>\n",
       "      <th></th>\n",
       "      <th></th>\n",
       "    </tr>\n",
       "  </thead>\n",
       "  <tbody>\n",
       "    <tr>\n",
       "      <th>2022-05-31</th>\n",
       "      <td>-0.0034</td>\n",
       "      <td>0.0144</td>\n",
       "    </tr>\n",
       "    <tr>\n",
       "      <th>2022-06-30</th>\n",
       "      <td>-0.0843</td>\n",
       "      <td>0.0185</td>\n",
       "    </tr>\n",
       "    <tr>\n",
       "      <th>2022-07-31</th>\n",
       "      <td>0.0957</td>\n",
       "      <td>0.0068</td>\n",
       "    </tr>\n",
       "    <tr>\n",
       "      <th>2022-08-31</th>\n",
       "      <td>-0.0378</td>\n",
       "      <td>-0.0480</td>\n",
       "    </tr>\n",
       "    <tr>\n",
       "      <th>2022-09-30</th>\n",
       "      <td>-0.0936</td>\n",
       "      <td>-0.0140</td>\n",
       "    </tr>\n",
       "  </tbody>\n",
       "</table>\n",
       "</div>"
      ],
      "text/plain": [
       "               MKT     RMW\n",
       "Date                      \n",
       "2022-05-31 -0.0034  0.0144\n",
       "2022-06-30 -0.0843  0.0185\n",
       "2022-07-31  0.0957  0.0068\n",
       "2022-08-31 -0.0378 -0.0480\n",
       "2022-09-30 -0.0936 -0.0140"
      ]
     },
     "execution_count": 104,
     "metadata": {},
     "output_type": "execute_result"
    }
   ],
   "source": [
    "factors = pd.read_excel('midterm_2.xlsx',sheet_name = 'factors (excess returns)', index_col = 'Date')\n",
    "factors.tail()"
   ]
  },
  {
   "cell_type": "code",
   "execution_count": 105,
   "metadata": {},
   "outputs": [
    {
     "data": {
      "text/html": [
       "<div>\n",
       "<style scoped>\n",
       "    .dataframe tbody tr th:only-of-type {\n",
       "        vertical-align: middle;\n",
       "    }\n",
       "\n",
       "    .dataframe tbody tr th {\n",
       "        vertical-align: top;\n",
       "    }\n",
       "\n",
       "    .dataframe thead th {\n",
       "        text-align: right;\n",
       "    }\n",
       "</style>\n",
       "<table border=\"1\" class=\"dataframe\">\n",
       "  <thead>\n",
       "    <tr style=\"text-align: right;\">\n",
       "      <th></th>\n",
       "      <th>BWX</th>\n",
       "      <th>DBC</th>\n",
       "      <th>EEM</th>\n",
       "      <th>EFA</th>\n",
       "      <th>HYG</th>\n",
       "      <th>IEF</th>\n",
       "      <th>IYR</th>\n",
       "      <th>PSP</th>\n",
       "      <th>QAI</th>\n",
       "      <th>SPY</th>\n",
       "      <th>TIP</th>\n",
       "    </tr>\n",
       "    <tr>\n",
       "      <th>Date</th>\n",
       "      <th></th>\n",
       "      <th></th>\n",
       "      <th></th>\n",
       "      <th></th>\n",
       "      <th></th>\n",
       "      <th></th>\n",
       "      <th></th>\n",
       "      <th></th>\n",
       "      <th></th>\n",
       "      <th></th>\n",
       "      <th></th>\n",
       "    </tr>\n",
       "  </thead>\n",
       "  <tbody>\n",
       "    <tr>\n",
       "      <th>2022-05-31</th>\n",
       "      <td>0.0048</td>\n",
       "      <td>0.0455</td>\n",
       "      <td>0.0055</td>\n",
       "      <td>0.0193</td>\n",
       "      <td>0.0156</td>\n",
       "      <td>0.0055</td>\n",
       "      <td>-0.0451</td>\n",
       "      <td>0.0144</td>\n",
       "      <td>-0.0047</td>\n",
       "      <td>0.0016</td>\n",
       "      <td>-0.0106</td>\n",
       "    </tr>\n",
       "    <tr>\n",
       "      <th>2022-06-30</th>\n",
       "      <td>-0.0457</td>\n",
       "      <td>-0.0742</td>\n",
       "      <td>-0.0508</td>\n",
       "      <td>-0.0869</td>\n",
       "      <td>-0.0697</td>\n",
       "      <td>-0.0079</td>\n",
       "      <td>-0.0682</td>\n",
       "      <td>-0.1317</td>\n",
       "      <td>-0.0329</td>\n",
       "      <td>-0.0817</td>\n",
       "      <td>-0.0304</td>\n",
       "    </tr>\n",
       "    <tr>\n",
       "      <th>2022-07-31</th>\n",
       "      <td>0.0196</td>\n",
       "      <td>-0.0208</td>\n",
       "      <td>-0.0044</td>\n",
       "      <td>0.0508</td>\n",
       "      <td>0.0661</td>\n",
       "      <td>0.0287</td>\n",
       "      <td>0.0877</td>\n",
       "      <td>0.1081</td>\n",
       "      <td>0.0179</td>\n",
       "      <td>0.0912</td>\n",
       "      <td>0.0422</td>\n",
       "    </tr>\n",
       "    <tr>\n",
       "      <th>2022-08-31</th>\n",
       "      <td>-0.0575</td>\n",
       "      <td>-0.0162</td>\n",
       "      <td>-0.0145</td>\n",
       "      <td>-0.0625</td>\n",
       "      <td>-0.0444</td>\n",
       "      <td>-0.0398</td>\n",
       "      <td>-0.0599</td>\n",
       "      <td>-0.0848</td>\n",
       "      <td>-0.0129</td>\n",
       "      <td>-0.0421</td>\n",
       "      <td>-0.0283</td>\n",
       "    </tr>\n",
       "    <tr>\n",
       "      <th>2022-09-30</th>\n",
       "      <td>-0.0636</td>\n",
       "      <td>-0.0707</td>\n",
       "      <td>-0.1157</td>\n",
       "      <td>-0.0925</td>\n",
       "      <td>-0.0377</td>\n",
       "      <td>-0.0476</td>\n",
       "      <td>-0.1274</td>\n",
       "      <td>-0.1466</td>\n",
       "      <td>-0.0401</td>\n",
       "      <td>-0.0927</td>\n",
       "      <td>-0.0676</td>\n",
       "    </tr>\n",
       "  </tbody>\n",
       "</table>\n",
       "</div>"
      ],
      "text/plain": [
       "               BWX     DBC     EEM     EFA     HYG     IEF     IYR     PSP  \\\n",
       "Date                                                                         \n",
       "2022-05-31  0.0048  0.0455  0.0055  0.0193  0.0156  0.0055 -0.0451  0.0144   \n",
       "2022-06-30 -0.0457 -0.0742 -0.0508 -0.0869 -0.0697 -0.0079 -0.0682 -0.1317   \n",
       "2022-07-31  0.0196 -0.0208 -0.0044  0.0508  0.0661  0.0287  0.0877  0.1081   \n",
       "2022-08-31 -0.0575 -0.0162 -0.0145 -0.0625 -0.0444 -0.0398 -0.0599 -0.0848   \n",
       "2022-09-30 -0.0636 -0.0707 -0.1157 -0.0925 -0.0377 -0.0476 -0.1274 -0.1466   \n",
       "\n",
       "               QAI     SPY     TIP  \n",
       "Date                                \n",
       "2022-05-31 -0.0047  0.0016 -0.0106  \n",
       "2022-06-30 -0.0329 -0.0817 -0.0304  \n",
       "2022-07-31  0.0179  0.0912  0.0422  \n",
       "2022-08-31 -0.0129 -0.0421 -0.0283  \n",
       "2022-09-30 -0.0401 -0.0927 -0.0676  "
      ]
     },
     "execution_count": 105,
     "metadata": {},
     "output_type": "execute_result"
    }
   ],
   "source": [
    "assets = pd.read_excel('midterm_2.xlsx',sheet_name = 'assets (excess returns)', index_col = 'Date') \n",
    "assets.tail()"
   ]
  },
  {
   "cell_type": "markdown",
   "metadata": {},
   "source": [
    "Time Series Test"
   ]
  },
  {
   "cell_type": "code",
   "execution_count": 107,
   "metadata": {},
   "outputs": [
    {
     "data": {
      "text/html": [
       "<div>\n",
       "<style scoped>\n",
       "    .dataframe tbody tr th:only-of-type {\n",
       "        vertical-align: middle;\n",
       "    }\n",
       "\n",
       "    .dataframe tbody tr th {\n",
       "        vertical-align: top;\n",
       "    }\n",
       "\n",
       "    .dataframe thead th {\n",
       "        text-align: right;\n",
       "    }\n",
       "</style>\n",
       "<table border=\"1\" class=\"dataframe\">\n",
       "  <thead>\n",
       "    <tr style=\"text-align: right;\">\n",
       "      <th></th>\n",
       "      <th>a</th>\n",
       "      <th>MKT</th>\n",
       "      <th>RMW</th>\n",
       "      <th>R^2</th>\n",
       "    </tr>\n",
       "  </thead>\n",
       "  <tbody>\n",
       "    <tr>\n",
       "      <th>BWX</th>\n",
       "      <td>-0.0406</td>\n",
       "      <td>0.2363</td>\n",
       "      <td>0.1024</td>\n",
       "      <td>0.2047</td>\n",
       "    </tr>\n",
       "    <tr>\n",
       "      <th>DBC</th>\n",
       "      <td>-0.052</td>\n",
       "      <td>0.5932</td>\n",
       "      <td>-0.1086</td>\n",
       "      <td>0.2568</td>\n",
       "    </tr>\n",
       "    <tr>\n",
       "      <th>EEM</th>\n",
       "      <td>-0.0689</td>\n",
       "      <td>0.9436</td>\n",
       "      <td>-0.0948</td>\n",
       "      <td>0.5601</td>\n",
       "    </tr>\n",
       "    <tr>\n",
       "      <th>EFA</th>\n",
       "      <td>-0.0582</td>\n",
       "      <td>0.9313</td>\n",
       "      <td>-0.0775</td>\n",
       "      <td>0.7622</td>\n",
       "    </tr>\n",
       "    <tr>\n",
       "      <th>HYG</th>\n",
       "      <td>-0.0004</td>\n",
       "      <td>0.4532</td>\n",
       "      <td>0.0362</td>\n",
       "      <td>0.5886</td>\n",
       "    </tr>\n",
       "    <tr>\n",
       "      <th>IEF</th>\n",
       "      <td>0.024</td>\n",
       "      <td>-0.0818</td>\n",
       "      <td>0.1693</td>\n",
       "      <td>0.082</td>\n",
       "    </tr>\n",
       "    <tr>\n",
       "      <th>IYR</th>\n",
       "      <td>0.001</td>\n",
       "      <td>0.9134</td>\n",
       "      <td>0.2731</td>\n",
       "      <td>0.5514</td>\n",
       "    </tr>\n",
       "    <tr>\n",
       "      <th>PSP</th>\n",
       "      <td>-0.0659</td>\n",
       "      <td>1.3408</td>\n",
       "      <td>-0.1098</td>\n",
       "      <td>0.8393</td>\n",
       "    </tr>\n",
       "    <tr>\n",
       "      <th>QAI</th>\n",
       "      <td>-0.0237</td>\n",
       "      <td>0.2782</td>\n",
       "      <td>0.0028</td>\n",
       "      <td>0.7174</td>\n",
       "    </tr>\n",
       "    <tr>\n",
       "      <th>SPY</th>\n",
       "      <td>0.0006</td>\n",
       "      <td>0.9629</td>\n",
       "      <td>0.1259</td>\n",
       "      <td>0.9924</td>\n",
       "    </tr>\n",
       "    <tr>\n",
       "      <th>TIP</th>\n",
       "      <td>0.0069</td>\n",
       "      <td>0.093</td>\n",
       "      <td>0.1756</td>\n",
       "      <td>0.1158</td>\n",
       "    </tr>\n",
       "  </tbody>\n",
       "</table>\n",
       "</div>"
      ],
      "text/plain": [
       "          a     MKT     RMW     R^2\n",
       "BWX -0.0406  0.2363  0.1024  0.2047\n",
       "DBC  -0.052  0.5932 -0.1086  0.2568\n",
       "EEM -0.0689  0.9436 -0.0948  0.5601\n",
       "EFA -0.0582  0.9313 -0.0775  0.7622\n",
       "HYG -0.0004  0.4532  0.0362  0.5886\n",
       "IEF   0.024 -0.0818  0.1693   0.082\n",
       "IYR   0.001  0.9134  0.2731  0.5514\n",
       "PSP -0.0659  1.3408 -0.1098  0.8393\n",
       "QAI -0.0237  0.2782  0.0028  0.7174\n",
       "SPY  0.0006  0.9629  0.1259  0.9924\n",
       "TIP  0.0069   0.093  0.1756  0.1158"
      ]
     },
     "execution_count": 107,
     "metadata": {},
     "output_type": "execute_result"
    }
   ],
   "source": [
    "ts = pd.DataFrame(data = None, index = assets.columns, columns = ['a', 'MKT', 'RMW', 'R^2'])\n",
    "\n",
    "for asset in ts.index:\n",
    "    y = assets[asset]\n",
    "    X = sm.add_constant(factors[['MKT','RMW']])\n",
    "    reg = sm.OLS(y, X).fit()\n",
    "    ts.loc[asset] = [reg.params[0] * 12, reg.params[1], reg.params[2], reg.rsquared]\n",
    "    \n",
    "ts"
   ]
  },
  {
   "cell_type": "code",
   "execution_count": 108,
   "metadata": {},
   "outputs": [
    {
     "name": "stdout",
     "output_type": "stream",
     "text": [
      "MAE = 3.11 %\n"
     ]
    }
   ],
   "source": [
    "MAE_alpha = (100 * ts['a']).abs().mean()\n",
    "print('MAE = {:.2f} %'.format(MAE_alpha))"
   ]
  },
  {
   "cell_type": "code",
   "execution_count": 109,
   "metadata": {},
   "outputs": [
    {
     "data": {
      "text/plain": [
       "0.515513116322"
      ]
     },
     "execution_count": 109,
     "metadata": {},
     "output_type": "execute_result"
    }
   ],
   "source": [
    "r2_mean = ts['R^2'].mean() \n",
    "r2_mean"
   ]
  },
  {
   "cell_type": "markdown",
   "metadata": {},
   "source": [
    "1. (b) Under CAPM, alpha should be 0, and therefore MAE should also be 0. Beta should be on the SML. We should know nothing from R^2 of the time series test and nothing from the mean of R^2 as well.   "
   ]
  },
  {
   "cell_type": "code",
   "execution_count": 111,
   "metadata": {},
   "outputs": [
    {
     "data": {
      "text/plain": [
       "BWX   -0.0051\n",
       "DBC    0.0272\n",
       "EEM    0.0592\n",
       "EFA    0.0687\n",
       "HYG    0.0633\n",
       "IEF    0.0172\n",
       "IYR    0.1349\n",
       "PSP    0.1168\n",
       "QAI    0.0149\n",
       "SPY    0.1373\n",
       "TIP    0.0245\n",
       "dtype: float64"
      ]
     },
     "execution_count": 111,
     "metadata": {},
     "output_type": "execute_result"
    }
   ],
   "source": [
    "assets.mean() * 12 "
   ]
  },
  {
   "cell_type": "markdown",
   "metadata": {},
   "source": [
    "1. (c) Relative to the mean returns of the assets. I think this MAE is relatively large and this will make the pricing not so reliable. "
   ]
  },
  {
   "cell_type": "markdown",
   "metadata": {},
   "source": [
    "Cross-sectional Test"
   ]
  },
  {
   "cell_type": "code",
   "execution_count": 112,
   "metadata": {},
   "outputs": [],
   "source": [
    "y = pd.DataFrame(assets.mean(), index=assets.columns, columns = ['Mean'])\n",
    "X = sm.add_constant(ts[['MKT', 'RMW']].astype(float))\n",
    "reg = sm.OLS(y,X,missing='drop').fit() "
   ]
  },
  {
   "cell_type": "code",
   "execution_count": 113,
   "metadata": {},
   "outputs": [
    {
     "data": {
      "text/plain": [
       "-0.0017850143349516577"
      ]
     },
     "execution_count": 113,
     "metadata": {},
     "output_type": "execute_result"
    }
   ],
   "source": [
    "reg.params[0] * 12 "
   ]
  },
  {
   "cell_type": "code",
   "execution_count": 117,
   "metadata": {},
   "outputs": [
    {
     "data": {
      "text/plain": [
       "MKT    0.1186\n",
       "RMW    0.2101\n",
       "dtype: float64"
      ]
     },
     "execution_count": 117,
     "metadata": {},
     "output_type": "execute_result"
    }
   ],
   "source": [
    "reg.params[1:] * 12"
   ]
  },
  {
   "cell_type": "code",
   "execution_count": 115,
   "metadata": {},
   "outputs": [
    {
     "data": {
      "text/plain": [
       "0.905532790584489"
      ]
     },
     "execution_count": 115,
     "metadata": {},
     "output_type": "execute_result"
    }
   ],
   "source": [
    "reg.rsquared"
   ]
  },
  {
   "cell_type": "code",
   "execution_count": 116,
   "metadata": {},
   "outputs": [
    {
     "name": "stdout",
     "output_type": "stream",
     "text": [
      "MAE = 1.09 %\n"
     ]
    }
   ],
   "source": [
    "pred_cs = reg.params[0] + ts[['MKT', 'RMW']] @ reg.params[1:] \n",
    "mae = (assets.mean() - pred_cs).abs().mean() \n",
    "print('MAE = {:.2f} %'.format(mae*12*100))"
   ]
  },
  {
   "cell_type": "markdown",
   "metadata": {},
   "source": [
    "2. (b) The intercept and the MAE should both be 0. The factor premia should be the corresponding expected excess return. R^2 should be 1. "
   ]
  },
  {
   "cell_type": "markdown",
   "metadata": {},
   "source": [
    "2. (c) I think this model could price the assets pretty good. The intercept is significantly small and the R^2 show that the beta represent well of the asset returns. The MAE also decreased comparing to time-series test. Although the MAE must decrease but this is still a good sign for the model fit. "
   ]
  },
  {
   "cell_type": "markdown",
   "metadata": {},
   "source": [
    "3. I think that RMW is more lucrative according to the Cross-sectional test as its beta in this test is even larger than the market factor. "
   ]
  },
  {
   "cell_type": "code",
   "execution_count": 136,
   "metadata": {},
   "outputs": [
    {
     "data": {
      "text/html": [
       "<div>\n",
       "<style scoped>\n",
       "    .dataframe tbody tr th:only-of-type {\n",
       "        vertical-align: middle;\n",
       "    }\n",
       "\n",
       "    .dataframe tbody tr th {\n",
       "        vertical-align: top;\n",
       "    }\n",
       "\n",
       "    .dataframe thead th {\n",
       "        text-align: right;\n",
       "    }\n",
       "</style>\n",
       "<table border=\"1\" class=\"dataframe\">\n",
       "  <thead>\n",
       "    <tr style=\"text-align: right;\">\n",
       "      <th></th>\n",
       "      <th>Sample Average</th>\n",
       "      <th>LFPM TS</th>\n",
       "      <th>LFPM CS</th>\n",
       "    </tr>\n",
       "  </thead>\n",
       "  <tbody>\n",
       "    <tr>\n",
       "      <th>BWX</th>\n",
       "      <td>-0.0051</td>\n",
       "      <td>0.0355</td>\n",
       "      <td>0.0495</td>\n",
       "    </tr>\n",
       "    <tr>\n",
       "      <th>DBC</th>\n",
       "      <td>0.0272</td>\n",
       "      <td>0.0792</td>\n",
       "      <td>0.0476</td>\n",
       "    </tr>\n",
       "    <tr>\n",
       "      <th>EEM</th>\n",
       "      <td>0.0592</td>\n",
       "      <td>0.1281</td>\n",
       "      <td>0.092</td>\n",
       "    </tr>\n",
       "    <tr>\n",
       "      <th>EFA</th>\n",
       "      <td>0.0687</td>\n",
       "      <td>0.1269</td>\n",
       "      <td>0.0942</td>\n",
       "    </tr>\n",
       "    <tr>\n",
       "      <th>HYG</th>\n",
       "      <td>0.0633</td>\n",
       "      <td>0.0637</td>\n",
       "      <td>0.0614</td>\n",
       "    </tr>\n",
       "    <tr>\n",
       "      <th>IEF</th>\n",
       "      <td>0.0172</td>\n",
       "      <td>-0.0068</td>\n",
       "      <td>0.0259</td>\n",
       "    </tr>\n",
       "    <tr>\n",
       "      <th>IYR</th>\n",
       "      <td>0.1349</td>\n",
       "      <td>0.1339</td>\n",
       "      <td>0.1657</td>\n",
       "    </tr>\n",
       "    <tr>\n",
       "      <th>PSP</th>\n",
       "      <td>0.1168</td>\n",
       "      <td>0.1827</td>\n",
       "      <td>0.136</td>\n",
       "    </tr>\n",
       "    <tr>\n",
       "      <th>QAI</th>\n",
       "      <td>0.0149</td>\n",
       "      <td>0.0386</td>\n",
       "      <td>0.0336</td>\n",
       "    </tr>\n",
       "    <tr>\n",
       "      <th>SPY</th>\n",
       "      <td>0.1373</td>\n",
       "      <td>0.1367</td>\n",
       "      <td>0.1407</td>\n",
       "    </tr>\n",
       "    <tr>\n",
       "      <th>TIP</th>\n",
       "      <td>0.0245</td>\n",
       "      <td>0.0176</td>\n",
       "      <td>0.0479</td>\n",
       "    </tr>\n",
       "  </tbody>\n",
       "</table>\n",
       "</div>"
      ],
      "text/plain": [
       "     Sample Average  LFPM TS LFPM CS\n",
       "BWX         -0.0051   0.0355  0.0495\n",
       "DBC          0.0272   0.0792  0.0476\n",
       "EEM          0.0592   0.1281   0.092\n",
       "EFA          0.0687   0.1269  0.0942\n",
       "HYG          0.0633   0.0637  0.0614\n",
       "IEF          0.0172  -0.0068  0.0259\n",
       "IYR          0.1349   0.1339  0.1657\n",
       "PSP          0.1168   0.1827   0.136\n",
       "QAI          0.0149   0.0386  0.0336\n",
       "SPY          0.1373   0.1367  0.1407\n",
       "TIP          0.0245   0.0176  0.0479"
      ]
     },
     "execution_count": 136,
     "metadata": {},
     "output_type": "execute_result"
    }
   ],
   "source": [
    "asset_pre = pd.DataFrame(data = assets.mean()*12, index = assets.columns, columns = ['Sample Average'])\n",
    "pred_ts = (factors.mean() * ts[['MKT','RMW']]).sum(axis = 1)\n",
    "asset_pre['LFPM TS'] = pred_ts *12\n",
    "pred_cs_no_inter = ts[['MKT', 'RMW']] @ reg.params[1:] \n",
    "asset_pre['LFPM CS'] = pred_cs_no_inter *12\n",
    "asset_pre"
   ]
  },
  {
   "cell_type": "markdown",
   "metadata": {},
   "source": [
    "## Q3"
   ]
  },
  {
   "cell_type": "code",
   "execution_count": 101,
   "metadata": {},
   "outputs": [],
   "source": [
    "def tangency_portfolio_rfr(asset_return,cov_matrix, cov_diagnolize = False):\n",
    "    \"\"\" \n",
    "        Returns the tangency portfolio weights in a (1 x n) vector\n",
    "        Inputs: \n",
    "            asset_return - return for each asset (n x 1) Vector\n",
    "            cov_matrix = nxn covariance matrix for the assets\n",
    "    \"\"\"\n",
    "    if cov_diagnolize:\n",
    "        asset_cov = np.diag(np.diag(cov_matrix))\n",
    "    else:\n",
    "        asset_cov = np.array(cov_matrix)\n",
    "    inverted_cov= np.linalg.inv(asset_cov)\n",
    "    one_vector = np.ones(len(cov_matrix.index))\n",
    "    \n",
    "    den = (one_vector @ inverted_cov) @ (asset_return)\n",
    "    num =  inverted_cov @ asset_return\n",
    "    return (1/den) * num"
   ]
  },
  {
   "cell_type": "code",
   "execution_count": 138,
   "metadata": {},
   "outputs": [
    {
     "data": {
      "text/html": [
       "<div>\n",
       "<style scoped>\n",
       "    .dataframe tbody tr th:only-of-type {\n",
       "        vertical-align: middle;\n",
       "    }\n",
       "\n",
       "    .dataframe tbody tr th {\n",
       "        vertical-align: top;\n",
       "    }\n",
       "\n",
       "    .dataframe thead th {\n",
       "        text-align: right;\n",
       "    }\n",
       "</style>\n",
       "<table border=\"1\" class=\"dataframe\">\n",
       "  <thead>\n",
       "    <tr style=\"text-align: right;\">\n",
       "      <th></th>\n",
       "      <th>Weight</th>\n",
       "    </tr>\n",
       "  </thead>\n",
       "  <tbody>\n",
       "    <tr>\n",
       "      <th>BWX</th>\n",
       "      <td>-16.6834</td>\n",
       "    </tr>\n",
       "    <tr>\n",
       "      <th>DBC</th>\n",
       "      <td>2.6617</td>\n",
       "    </tr>\n",
       "    <tr>\n",
       "      <th>EEM</th>\n",
       "      <td>5.0023</td>\n",
       "    </tr>\n",
       "    <tr>\n",
       "      <th>EFA</th>\n",
       "      <td>-1.6528</td>\n",
       "    </tr>\n",
       "    <tr>\n",
       "      <th>HYG</th>\n",
       "      <td>15.8455</td>\n",
       "    </tr>\n",
       "    <tr>\n",
       "      <th>IEF</th>\n",
       "      <td>31.6714</td>\n",
       "    </tr>\n",
       "    <tr>\n",
       "      <th>IYR</th>\n",
       "      <td>-4.2510</td>\n",
       "    </tr>\n",
       "    <tr>\n",
       "      <th>PSP</th>\n",
       "      <td>-6.9802</td>\n",
       "    </tr>\n",
       "    <tr>\n",
       "      <th>QAI</th>\n",
       "      <td>-60.2653</td>\n",
       "    </tr>\n",
       "    <tr>\n",
       "      <th>SPY</th>\n",
       "      <td>33.1711</td>\n",
       "    </tr>\n",
       "    <tr>\n",
       "      <th>TIP</th>\n",
       "      <td>2.4806</td>\n",
       "    </tr>\n",
       "  </tbody>\n",
       "</table>\n",
       "</div>"
      ],
      "text/plain": [
       "      Weight\n",
       "BWX -16.6834\n",
       "DBC   2.6617\n",
       "EEM   5.0023\n",
       "EFA  -1.6528\n",
       "HYG  15.8455\n",
       "IEF  31.6714\n",
       "IYR  -4.2510\n",
       "PSP  -6.9802\n",
       "QAI -60.2653\n",
       "SPY  33.1711\n",
       "TIP   2.4806"
      ]
     },
     "execution_count": 138,
     "metadata": {},
     "output_type": "execute_result"
    }
   ],
   "source": [
    "tan_wt = pd.DataFrame(data = tangency_portfolio_rfr(assets.mean(), assets.cov()), index = assets.columns, columns = ['Weight']) \n",
    "tan_wt"
   ]
  },
  {
   "cell_type": "code",
   "execution_count": 135,
   "metadata": {},
   "outputs": [
    {
     "data": {
      "text/plain": [
       "1.8412625675044252"
      ]
     },
     "execution_count": 135,
     "metadata": {},
     "output_type": "execute_result"
    }
   ],
   "source": [
    "ret = np.dot(tan_wt['Weight'],assets.mean()*12) \n",
    "vol = np.sqrt(tan_wt['Weight'] @ assets.cov() @ tan_wt['Weight'].T)*np.sqrt(12)\n",
    "sharpe = ret/vol \n",
    "sharpe"
   ]
  },
  {
   "cell_type": "code",
   "execution_count": 139,
   "metadata": {},
   "outputs": [
    {
     "data": {
      "text/html": [
       "<div>\n",
       "<style scoped>\n",
       "    .dataframe tbody tr th:only-of-type {\n",
       "        vertical-align: middle;\n",
       "    }\n",
       "\n",
       "    .dataframe tbody tr th {\n",
       "        vertical-align: top;\n",
       "    }\n",
       "\n",
       "    .dataframe thead th {\n",
       "        text-align: right;\n",
       "    }\n",
       "</style>\n",
       "<table border=\"1\" class=\"dataframe\">\n",
       "  <thead>\n",
       "    <tr style=\"text-align: right;\">\n",
       "      <th></th>\n",
       "      <th>Weight</th>\n",
       "    </tr>\n",
       "  </thead>\n",
       "  <tbody>\n",
       "    <tr>\n",
       "      <th>BWX</th>\n",
       "      <td>0.337</td>\n",
       "    </tr>\n",
       "    <tr>\n",
       "      <th>DBC</th>\n",
       "      <td>-0.0287</td>\n",
       "    </tr>\n",
       "    <tr>\n",
       "      <th>EEM</th>\n",
       "      <td>-0.0203</td>\n",
       "    </tr>\n",
       "    <tr>\n",
       "      <th>EFA</th>\n",
       "      <td>-0.1755</td>\n",
       "    </tr>\n",
       "    <tr>\n",
       "      <th>HYG</th>\n",
       "      <td>0.2264</td>\n",
       "    </tr>\n",
       "    <tr>\n",
       "      <th>IEF</th>\n",
       "      <td>-0.1946</td>\n",
       "    </tr>\n",
       "    <tr>\n",
       "      <th>IYR</th>\n",
       "      <td>0.0735</td>\n",
       "    </tr>\n",
       "    <tr>\n",
       "      <th>PSP</th>\n",
       "      <td>-0.5109</td>\n",
       "    </tr>\n",
       "    <tr>\n",
       "      <th>QAI</th>\n",
       "      <td>-1.3843</td>\n",
       "    </tr>\n",
       "    <tr>\n",
       "      <th>SPY</th>\n",
       "      <td>1.3865</td>\n",
       "    </tr>\n",
       "    <tr>\n",
       "      <th>TIP</th>\n",
       "      <td>1.2908</td>\n",
       "    </tr>\n",
       "  </tbody>\n",
       "</table>\n",
       "</div>"
      ],
      "text/plain": [
       "     Weight\n",
       "BWX   0.337\n",
       "DBC -0.0287\n",
       "EEM -0.0203\n",
       "EFA -0.1755\n",
       "HYG  0.2264\n",
       "IEF -0.1946\n",
       "IYR  0.0735\n",
       "PSP -0.5109\n",
       "QAI -1.3843\n",
       "SPY  1.3865\n",
       "TIP  1.2908"
      ]
     },
     "execution_count": 139,
     "metadata": {},
     "output_type": "execute_result"
    }
   ],
   "source": [
    "tan_wt_cs = pd.DataFrame(data = tangency_portfolio_rfr(pred_cs_no_inter, assets.cov()), index = assets.columns, columns = ['Weight']) \n",
    "tan_wt_cs"
   ]
  },
  {
   "cell_type": "code",
   "execution_count": 145,
   "metadata": {},
   "outputs": [
    {
     "data": {
      "text/plain": [
       "0.6658824291023754"
      ]
     },
     "execution_count": 145,
     "metadata": {},
     "output_type": "execute_result"
    }
   ],
   "source": [
    "normal = 1 - stats.norm().cdf(-3/7) \n",
    "normal"
   ]
  }
 ],
 "metadata": {
  "kernelspec": {
   "display_name": "Python 3.9.12 ('base')",
   "language": "python",
   "name": "python3"
  },
  "language_info": {
   "codemirror_mode": {
    "name": "ipython",
    "version": 3
   },
   "file_extension": ".py",
   "mimetype": "text/x-python",
   "name": "python",
   "nbconvert_exporter": "python",
   "pygments_lexer": "ipython3",
   "version": "3.9.12"
  },
  "orig_nbformat": 4,
  "vscode": {
   "interpreter": {
    "hash": "a71391375be2dac210dad05811dc4f7c8d6999b7d96e27484516d89849182552"
   }
  }
 },
 "nbformat": 4,
 "nbformat_minor": 2
}
