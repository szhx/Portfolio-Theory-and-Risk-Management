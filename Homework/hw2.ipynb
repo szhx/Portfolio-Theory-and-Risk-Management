{
 "cells": [
  {
   "cell_type": "code",
   "execution_count": 1,
   "metadata": {},
   "outputs": [],
   "source": [
    "import numpy as np\n",
    "import pandas as pd\n",
    "import matplotlib.pyplot as plt\n",
    "import seaborn as sns\n",
    "import statsmodels.api as sm\n",
    "from pandas_datareader import data \n",
    "import datetime as dt"
   ]
  },
  {
   "cell_type": "code",
   "execution_count": 2,
   "metadata": {},
   "outputs": [],
   "source": [
    "info = pd.read_excel('proshares_analysis_data.xlsx', sheet_name='descriptions', header=0)   \n",
    "hf = pd.read_excel('proshares_analysis_data.xlsx', sheet_name='hedge_fund_series', header=0, index_col=0)\n",
    "mf = pd.read_excel('proshares_analysis_data.xlsx', sheet_name='merrill_factors', header=0, index_col=0)\n",
    "other = pd.read_excel('proshares_analysis_data.xlsx', sheet_name = 'other_data', header=0, index_col=0)"
   ]
  },
  {
   "cell_type": "code",
   "execution_count": 7,
   "metadata": {},
   "outputs": [],
   "source": [
    "def summaryStat(data, factor = 12): \n",
    "    mean = np.mean(data, axis=0) * factor \n",
    "    volatility = np.std(data,axis=0) * np.sqrt(factor) \n",
    "    sharpe = mean/volatility \n",
    "    summary = pd.concat([mean,volatility,sharpe], axis = 1) \n",
    "    summary.columns = ['Mean', 'Volatility', 'Sharpe Ratio'] \n",
    "    return summary "
   ]
  },
  {
   "cell_type": "code",
   "execution_count": 8,
   "metadata": {},
   "outputs": [
    {
     "data": {
      "text/html": [
       "<div>\n",
       "<style scoped>\n",
       "    .dataframe tbody tr th:only-of-type {\n",
       "        vertical-align: middle;\n",
       "    }\n",
       "\n",
       "    .dataframe tbody tr th {\n",
       "        vertical-align: top;\n",
       "    }\n",
       "\n",
       "    .dataframe thead th {\n",
       "        text-align: right;\n",
       "    }\n",
       "</style>\n",
       "<table border=\"1\" class=\"dataframe\">\n",
       "  <thead>\n",
       "    <tr style=\"text-align: right;\">\n",
       "      <th></th>\n",
       "      <th>Mean</th>\n",
       "      <th>Volatility</th>\n",
       "      <th>Sharpe Ratio</th>\n",
       "    </tr>\n",
       "  </thead>\n",
       "  <tbody>\n",
       "    <tr>\n",
       "      <th>HFRIFWI Index</th>\n",
       "      <td>0.042867</td>\n",
       "      <td>0.060684</td>\n",
       "      <td>0.706399</td>\n",
       "    </tr>\n",
       "    <tr>\n",
       "      <th>MLEIFCTR Index</th>\n",
       "      <td>0.025665</td>\n",
       "      <td>0.056655</td>\n",
       "      <td>0.453001</td>\n",
       "    </tr>\n",
       "    <tr>\n",
       "      <th>MLEIFCTX Index</th>\n",
       "      <td>0.024278</td>\n",
       "      <td>0.056473</td>\n",
       "      <td>0.429901</td>\n",
       "    </tr>\n",
       "    <tr>\n",
       "      <th>HDG US Equity</th>\n",
       "      <td>0.014007</td>\n",
       "      <td>0.059017</td>\n",
       "      <td>0.237342</td>\n",
       "    </tr>\n",
       "    <tr>\n",
       "      <th>QAI US Equity</th>\n",
       "      <td>0.011576</td>\n",
       "      <td>0.048732</td>\n",
       "      <td>0.237537</td>\n",
       "    </tr>\n",
       "  </tbody>\n",
       "</table>\n",
       "</div>"
      ],
      "text/plain": [
       "                    Mean  Volatility  Sharpe Ratio\n",
       "HFRIFWI Index   0.042867    0.060684      0.706399\n",
       "MLEIFCTR Index  0.025665    0.056655      0.453001\n",
       "MLEIFCTX Index  0.024278    0.056473      0.429901\n",
       "HDG US Equity   0.014007    0.059017      0.237342\n",
       "QAI US Equity   0.011576    0.048732      0.237537"
      ]
     },
     "execution_count": 8,
     "metadata": {},
     "output_type": "execute_result"
    }
   ],
   "source": [
    "summaryStat(hf)"
   ]
  },
  {
   "cell_type": "code",
   "execution_count": null,
   "metadata": {},
   "outputs": [],
   "source": [
    "def tailRisk(data): \n",
    "    skewness = data.skew(axis=0) \n",
    "    kurtosis = data.k"
   ]
  }
 ],
 "metadata": {
  "kernelspec": {
   "display_name": "Python 3.9.12 ('base')",
   "language": "python",
   "name": "python3"
  },
  "language_info": {
   "codemirror_mode": {
    "name": "ipython",
    "version": 3
   },
   "file_extension": ".py",
   "mimetype": "text/x-python",
   "name": "python",
   "nbconvert_exporter": "python",
   "pygments_lexer": "ipython3",
   "version": "3.9.12"
  },
  "orig_nbformat": 4,
  "vscode": {
   "interpreter": {
    "hash": "a71391375be2dac210dad05811dc4f7c8d6999b7d96e27484516d89849182552"
   }
  }
 },
 "nbformat": 4,
 "nbformat_minor": 2
}
