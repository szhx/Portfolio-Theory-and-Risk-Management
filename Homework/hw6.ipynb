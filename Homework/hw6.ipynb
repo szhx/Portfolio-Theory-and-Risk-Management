{
 "cells": [
  {
   "cell_type": "code",
   "execution_count": 1,
   "metadata": {},
   "outputs": [],
   "source": [
    "import pandas as pd\n",
    "import numpy as np\n",
    "import matplotlib.pyplot as plt\n",
    "import statsmodels.api as sm\n",
    "from sklearn import linear_model\n",
    "import scipy.stats as stats\n",
    "import seaborn as sns\n",
    "import warnings\n",
    "warnings.filterwarnings(\"ignore\")\n",
    "pd.set_option(\"display.precision\", 4)"
   ]
  },
  {
   "cell_type": "markdown",
   "metadata": {},
   "source": [
    "SMB Size\n",
    "HML Value \n",
    "RMW Profitability \n",
    "CMA Investment \n",
    "UMD Momentum "
   ]
  },
  {
   "cell_type": "code",
   "execution_count": 2,
   "metadata": {},
   "outputs": [],
   "source": [
    "path = 'momentum_data.xlsx'\n",
    "df_mom_size = pd.read_excel(path, sheet_name=4).set_index('Date')\n",
    "df_factors = pd.read_excel(path, sheet_name=1).set_index('Date')\n",
    "df_mom_size = df_mom_size.join(df_factors)\n",
    "\n",
    "rf = pd.read_excel(path, sheet_name=5).set_index('Date')\n",
    "df_mom_size = df_mom_size.join(rf)\n",
    "\n",
    "df_momentum = pd.read_excel(path, sheet_name=3).set_index('Date')\n",
    "df_momentum = df_momentum.join(rf)"
   ]
  },
  {
   "cell_type": "code",
   "execution_count": 3,
   "metadata": {},
   "outputs": [
    {
     "data": {
      "text/plain": [
       "Date\n",
       "1927-01-31    0.0036\n",
       "1927-02-28   -0.0215\n",
       "1927-03-31    0.0362\n",
       "1927-04-30    0.0430\n",
       "1927-05-31    0.0301\n",
       "               ...  \n",
       "2022-05-31    0.0248\n",
       "2022-06-30    0.0080\n",
       "2022-07-31   -0.0397\n",
       "2022-08-31    0.0210\n",
       "2022-09-30    0.0353\n",
       "Name: rx_mom_FF, Length: 1149, dtype: float64"
      ]
     },
     "execution_count": 3,
     "metadata": {},
     "output_type": "execute_result"
    }
   ],
   "source": [
    "df_mom_size['rx_mom_FF'] = (1/2 *(df_mom_size['BIG HiPRIOR'] + df_mom_size['SMALL HiPRIOR']) -\n",
    "  1/2 * (df_mom_size['BIG LoPRIOR'] + df_mom_size['SMALL LoPRIOR'])) # same as UMD \n",
    "df_mom_size['rx_mom_FF']"
   ]
  },
  {
   "cell_type": "code",
   "execution_count": 7,
   "metadata": {},
   "outputs": [
    {
     "data": {
      "text/html": [
       "<style type=\"text/css\">\n",
       "</style>\n",
       "<table id=\"T_884f2\">\n",
       "  <caption>Solution Table 1: Momentum performance over time.</caption>\n",
       "  <thead>\n",
       "    <tr>\n",
       "      <th class=\"blank level0\" >&nbsp;</th>\n",
       "      <th id=\"T_884f2_level0_col0\" class=\"col_heading level0 col0\" >mean </th>\n",
       "      <th id=\"T_884f2_level0_col1\" class=\"col_heading level0 col1\" >vol </th>\n",
       "      <th id=\"T_884f2_level0_col2\" class=\"col_heading level0 col2\" >sharpe_ratio </th>\n",
       "      <th id=\"T_884f2_level0_col3\" class=\"col_heading level0 col3\" >skew </th>\n",
       "      <th id=\"T_884f2_level0_col4\" class=\"col_heading level0 col4\" >corr_to_mkt </th>\n",
       "      <th id=\"T_884f2_level0_col5\" class=\"col_heading level0 col5\" >corr_to_value</th>\n",
       "    </tr>\n",
       "  </thead>\n",
       "  <tbody>\n",
       "    <tr>\n",
       "      <th id=\"T_884f2_level0_row0\" class=\"row_heading level0 row0\" >1927-2022</th>\n",
       "      <td id=\"T_884f2_row0_col0\" class=\"data row0 col0\" >0.077240</td>\n",
       "      <td id=\"T_884f2_row0_col1\" class=\"data row0 col1\" >0.162646</td>\n",
       "      <td id=\"T_884f2_row0_col2\" class=\"data row0 col2\" >0.474897</td>\n",
       "      <td id=\"T_884f2_row0_col3\" class=\"data row0 col3\" >-3.015709</td>\n",
       "      <td id=\"T_884f2_row0_col4\" class=\"data row0 col4\" >-0.344779</td>\n",
       "      <td id=\"T_884f2_row0_col5\" class=\"data row0 col5\" >-0.417589</td>\n",
       "    </tr>\n",
       "    <tr>\n",
       "      <th id=\"T_884f2_level0_row1\" class=\"row_heading level0 row1\" >1927-1993</th>\n",
       "      <td id=\"T_884f2_row1_col0\" class=\"data row1 col0\" >0.090075</td>\n",
       "      <td id=\"T_884f2_row1_col1\" class=\"data row1 col1\" >0.159987</td>\n",
       "      <td id=\"T_884f2_row1_col2\" class=\"data row1 col2\" >0.563018</td>\n",
       "      <td id=\"T_884f2_row1_col3\" class=\"data row1 col3\" >-3.809269</td>\n",
       "      <td id=\"T_884f2_row1_col4\" class=\"data row1 col4\" >-0.362513</td>\n",
       "      <td id=\"T_884f2_row1_col5\" class=\"data row1 col5\" >-0.494935</td>\n",
       "    </tr>\n",
       "    <tr>\n",
       "      <th id=\"T_884f2_level0_row2\" class=\"row_heading level0 row2\" >1994-2008</th>\n",
       "      <td id=\"T_884f2_row2_col0\" class=\"data row2 col0\" >0.104327</td>\n",
       "      <td id=\"T_884f2_row2_col1\" class=\"data row2 col1\" >0.175548</td>\n",
       "      <td id=\"T_884f2_row2_col2\" class=\"data row2 col2\" >0.594291</td>\n",
       "      <td id=\"T_884f2_row2_col3\" class=\"data row2 col3\" >-0.582412</td>\n",
       "      <td id=\"T_884f2_row2_col4\" class=\"data row2 col4\" >-0.234513</td>\n",
       "      <td id=\"T_884f2_row2_col5\" class=\"data row2 col5\" >-0.130661</td>\n",
       "    </tr>\n",
       "    <tr>\n",
       "      <th id=\"T_884f2_level0_row3\" class=\"row_heading level0 row3\" >2009-2022</th>\n",
       "      <td id=\"T_884f2_row3_col0\" class=\"data row3 col0\" >-0.014851</td>\n",
       "      <td id=\"T_884f2_row3_col1\" class=\"data row3 col1\" >0.159281</td>\n",
       "      <td id=\"T_884f2_row3_col2\" class=\"data row3 col2\" >-0.093237</td>\n",
       "      <td id=\"T_884f2_row3_col3\" class=\"data row3 col3\" >-2.811279</td>\n",
       "      <td id=\"T_884f2_row3_col4\" class=\"data row3 col4\" >-0.377895</td>\n",
       "      <td id=\"T_884f2_row3_col5\" class=\"data row3 col5\" >-0.385130</td>\n",
       "    </tr>\n",
       "  </tbody>\n",
       "</table>\n"
      ],
      "text/plain": [
       "<pandas.io.formats.style.Styler at 0x7fba4b2880a0>"
      ]
     },
     "execution_count": 7,
     "metadata": {},
     "output_type": "execute_result"
    }
   ],
   "source": [
    "def table_row(df, portfolio, annualize_factor=12):\n",
    "    mean = df[portfolio].mean() * annualize_factor\n",
    "    vol = df[portfolio].std() * np.sqrt(annualize_factor)\n",
    "    sharpe_ratio = mean/vol\n",
    "    skew = df[portfolio].skew() #unscaled\n",
    "    corr = df[[portfolio, 'MKT', 'HML']].corr()\n",
    "    corr_to_mkt = corr.loc[portfolio, 'MKT']\n",
    "    corr_to_value = corr.loc[portfolio, 'HML']\n",
    "    return [mean, vol, sharpe_ratio, skew, corr_to_mkt, corr_to_value]\n",
    "\n",
    "\n",
    "table1 = pd.DataFrame(index=['1927-2022', '1927-1993', '1994-2008', '2009-2022'],\n",
    "    columns=['mean ', 'vol ', 'sharpe_ratio ', 'skew ', 'corr_to_mkt ', 'corr_to_value', ])\n",
    "\n",
    "table1.loc['1927-2022', :] = table_row(df_mom_size.loc['1927':'2022',:], portfolio='rx_mom_FF')\n",
    "table1.loc['1927-1993', :] = table_row(df_mom_size.loc['1927':'1993',:], portfolio='rx_mom_FF')\n",
    "table1.loc['1994-2008', :] = table_row(df_mom_size.loc['1994':'2008',:], portfolio='rx_mom_FF')\n",
    "table1.loc['2009-2022', :] = table_row(df_mom_size.loc['2009':'2022',:], portfolio='rx_mom_FF')\n",
    "table1.style.set_caption('Solution Table 1: Momentum performance over time.')"
   ]
  },
  {
   "cell_type": "markdown",
   "metadata": {},
   "source": [
    "(b) Momentum's performance has been fairly consistent over the entire sample except that in the past 12 years the mean return has been very poor. This is driven mostly by the year 2009. Note that even in the final subsample the correlations to the market and value are close to their usual values, and the overall volatility is close to the usual.\n",
    "\n",
    "It's also noticeable that in the subperiod 1994-2008, the momentum has the best performance. The sharpe ratio is the highest, and the sknewness is only slightly negative. The correlations to the market and the value factor are the lowest. And this is exactly the period that momentum was published and well-practiced.\n",
    "\n",
    "(c) The persistent performance over time (except for the 2009 crash which causes low mean return in 2009-2022) seems to support the idea that momentum is not just a statistical anomaly. Even in the final subsample, it gives negative correlation to the market and value to the point it is valuable to a mean-variance investor even with a mean return near zero."
   ]
  },
  {
   "cell_type": "code",
   "execution_count": 8,
   "metadata": {},
   "outputs": [
    {
     "data": {
      "text/html": [
       "<style type=\"text/css\">\n",
       "</style>\n",
       "<table id=\"T_10aae\">\n",
       "  <caption>Solution Table 2: Long-only momentum performance.</caption>\n",
       "  <thead>\n",
       "    <tr>\n",
       "      <th class=\"blank level0\" >&nbsp;</th>\n",
       "      <th id=\"T_10aae_level0_col0\" class=\"col_heading level0 col0\" >mean </th>\n",
       "      <th id=\"T_10aae_level0_col1\" class=\"col_heading level0 col1\" >vol </th>\n",
       "      <th id=\"T_10aae_level0_col2\" class=\"col_heading level0 col2\" >sharpe_ratio </th>\n",
       "      <th id=\"T_10aae_level0_col3\" class=\"col_heading level0 col3\" >skew </th>\n",
       "      <th id=\"T_10aae_level0_col4\" class=\"col_heading level0 col4\" >corr_to_mkt </th>\n",
       "      <th id=\"T_10aae_level0_col5\" class=\"col_heading level0 col5\" >corr_to_value</th>\n",
       "    </tr>\n",
       "  </thead>\n",
       "  <tbody>\n",
       "    <tr>\n",
       "      <th id=\"T_10aae_level0_row0\" class=\"row_heading level0 row0\" >long_short</th>\n",
       "      <td id=\"T_10aae_row0_col0\" class=\"data row0 col0\" >0.047329</td>\n",
       "      <td id=\"T_10aae_row0_col1\" class=\"data row0 col1\" >0.168603</td>\n",
       "      <td id=\"T_10aae_row0_col2\" class=\"data row0 col2\" >0.280711</td>\n",
       "      <td id=\"T_10aae_row0_col3\" class=\"data row0 col3\" >-1.433724</td>\n",
       "      <td id=\"T_10aae_row0_col4\" class=\"data row0 col4\" >-0.306118</td>\n",
       "      <td id=\"T_10aae_row0_col5\" class=\"data row0 col5\" >-0.238548</td>\n",
       "    </tr>\n",
       "    <tr>\n",
       "      <th id=\"T_10aae_level0_row1\" class=\"row_heading level0 row1\" >long_only</th>\n",
       "      <td id=\"T_10aae_row1_col0\" class=\"data row1 col0\" >0.112783</td>\n",
       "      <td id=\"T_10aae_row1_col1\" class=\"data row1 col1\" >0.178903</td>\n",
       "      <td id=\"T_10aae_row1_col2\" class=\"data row1 col2\" >0.630411</td>\n",
       "      <td id=\"T_10aae_row1_col3\" class=\"data row1 col3\" >-0.482872</td>\n",
       "      <td id=\"T_10aae_row1_col4\" class=\"data row1 col4\" >0.903499</td>\n",
       "      <td id=\"T_10aae_row1_col5\" class=\"data row1 col5\" >-0.154667</td>\n",
       "    </tr>\n",
       "  </tbody>\n",
       "</table>\n"
      ],
      "text/plain": [
       "<pandas.io.formats.style.Styler at 0x7fba4af27af0>"
      ]
     },
     "execution_count": 8,
     "metadata": {},
     "output_type": "execute_result"
    }
   ],
   "source": [
    "df_mom_size['rx_mom_U_FF'] = (1/2 * (df_mom_size['BIG HiPRIOR'] + df_mom_size['SMALL HiPRIOR']) -\n",
    "    df_mom_size['RF'])\n",
    "\n",
    "table2 = pd.DataFrame(index=['long_short', 'long_only'],\n",
    "    columns=['mean ', 'vol ', 'sharpe_ratio ', 'skew ', 'corr_to_mkt ', 'corr_to_value', ])\n",
    "\n",
    "table2.loc['long_short', :] = table_row(df_mom_size['1994':], portfolio='rx_mom_FF')\n",
    "table2.loc['long_only', :] = table_row(df_mom_size['1994':], portfolio='rx_mom_U_FF')\n",
    "table2.style.set_caption('Solution Table 2: Long-only momentum performance.')"
   ]
  },
  {
   "cell_type": "code",
   "execution_count": 9,
   "metadata": {},
   "outputs": [
    {
     "data": {
      "image/png": "[encoded data removed]",
      "text/plain": [
       "<Figure size 1152x288 with 1 Axes>"
      ]
     },
     "metadata": {},
     "output_type": "display_data"
    }
   ],
   "source": [
    "sns.set_style(\"whitegrid\")\n",
    "(df_mom_size.loc['1994':'2021', 'rx_mom_FF'] + 1).cumprod().plot(figsize=(16,4))\n",
    "(df_mom_size.loc['1994':'2021', 'rx_mom_U_FF'] + 1).cumprod().plot(figsize=(16,4))\n",
    "plt.title('Figure 1: Cumulative excess return on baseline momentum and long-only momentum strategies.')\n",
    "plt.legend();"
   ]
  },
  {
   "cell_type": "markdown",
   "metadata": {},
   "source": [
    "(b) During the period of 1994-2021, the mean, and Sharpe ratio are much higher in the long-only strategy, while the vol is about the same. It also has much less skewness. On these measures, it looks even more attractive.\n",
    "\n",
    "(c) The long-only strategy is extremely correlated with the market and thus should not be promoted based on its diversification to the market. The long-short strategy has almost no market correlation and substantially negative correlation to value.\n",
    "\n",
    "(d) See Figure 1. From 1994 to 2021, the long-and-short momentum stratery only out-performed the long-only strategy in 2003 and 2009. There one sees that the long-and-short momentum strategy suffered massive losses in 2009, (roughly -80% return,) while the long-only strategy was down about 50% in 2008 and up in 2009. This is a good illustration of the long-only strategy having less skewness. After 2009, the performance of long-and-short stratery was quite stable, and it has never returned to the previous level. On the other hand, the long-only strategy has recovered and soared after 2009."
   ]
  },
  {
   "cell_type": "code",
   "execution_count": 10,
   "metadata": {},
   "outputs": [
    {
     "data": {
      "text/html": [
       "<style type=\"text/css\">\n",
       "</style>\n",
       "<table id=\"T_261d7\">\n",
       "  <caption>Table 3: Robustness of momentum construction.</caption>\n",
       "  <thead>\n",
       "    <tr>\n",
       "      <th class=\"blank level0\" >&nbsp;</th>\n",
       "      <th id=\"T_261d7_level0_col0\" class=\"col_heading level0 col0\" >mean </th>\n",
       "      <th id=\"T_261d7_level0_col1\" class=\"col_heading level0 col1\" >vol </th>\n",
       "      <th id=\"T_261d7_level0_col2\" class=\"col_heading level0 col2\" >sharpe_ratio </th>\n",
       "      <th id=\"T_261d7_level0_col3\" class=\"col_heading level0 col3\" >skew </th>\n",
       "      <th id=\"T_261d7_level0_col4\" class=\"col_heading level0 col4\" >corr_to_mkt </th>\n",
       "      <th id=\"T_261d7_level0_col5\" class=\"col_heading level0 col5\" >corr_to_value</th>\n",
       "    </tr>\n",
       "  </thead>\n",
       "  <tbody>\n",
       "    <tr>\n",
       "      <th id=\"T_261d7_level0_row0\" class=\"row_heading level0 row0\" >rx_mom_D1</th>\n",
       "      <td id=\"T_261d7_row0_col0\" class=\"data row0 col0\" >0.079409</td>\n",
       "      <td id=\"T_261d7_row0_col1\" class=\"data row0 col1\" >0.297952</td>\n",
       "      <td id=\"T_261d7_row0_col2\" class=\"data row0 col2\" >0.266515</td>\n",
       "      <td id=\"T_261d7_row0_col3\" class=\"data row0 col3\" >-1.323613</td>\n",
       "      <td id=\"T_261d7_row0_col4\" class=\"data row0 col4\" >-0.335574</td>\n",
       "      <td id=\"T_261d7_row0_col5\" class=\"data row0 col5\" >-0.236392</td>\n",
       "    </tr>\n",
       "    <tr>\n",
       "      <th id=\"T_261d7_level0_row1\" class=\"row_heading level0 row1\" >rx_mom_D3</th>\n",
       "      <td id=\"T_261d7_row1_col0\" class=\"data row1 col0\" >0.034203</td>\n",
       "      <td id=\"T_261d7_row1_col1\" class=\"data row1 col1\" >0.192568</td>\n",
       "      <td id=\"T_261d7_row1_col2\" class=\"data row1 col2\" >0.177615</td>\n",
       "      <td id=\"T_261d7_row1_col3\" class=\"data row1 col3\" >-1.355380</td>\n",
       "      <td id=\"T_261d7_row1_col4\" class=\"data row1 col4\" >-0.365386</td>\n",
       "      <td id=\"T_261d7_row1_col5\" class=\"data row1 col5\" >-0.229882</td>\n",
       "    </tr>\n",
       "    <tr>\n",
       "      <th id=\"T_261d7_level0_row2\" class=\"row_heading level0 row2\" >rx_mom_D5</th>\n",
       "      <td id=\"T_261d7_row2_col0\" class=\"data row2 col0\" >0.018031</td>\n",
       "      <td id=\"T_261d7_row2_col1\" class=\"data row2 col1\" >0.134026</td>\n",
       "      <td id=\"T_261d7_row2_col2\" class=\"data row2 col2\" >0.134536</td>\n",
       "      <td id=\"T_261d7_row2_col3\" class=\"data row2 col3\" >-1.435409</td>\n",
       "      <td id=\"T_261d7_row2_col4\" class=\"data row2 col4\" >-0.357936</td>\n",
       "      <td id=\"T_261d7_row2_col5\" class=\"data row2 col5\" >-0.227501</td>\n",
       "    </tr>\n",
       "  </tbody>\n",
       "</table>\n"
      ],
      "text/plain": [
       "<pandas.io.formats.style.Styler at 0x7fba4a817c10>"
      ]
     },
     "execution_count": 10,
     "metadata": {},
     "output_type": "execute_result"
    }
   ],
   "source": [
    "df_momentum['rx_mom_D1'] = df_momentum['Hi PRIOR'] - df_momentum['Lo PRIOR']\n",
    "table3 = pd.DataFrame(columns=['mean ', 'vol ', 'sharpe_ratio ', 'skew ', 'corr_to_mkt ', 'corr_to_value', ])\n",
    "\n",
    "df = df_mom_size.join(df_momentum, rsuffix='momentum_')\n",
    "df['rx_mom_D3'] = (1/3 * (df['PRIOR 8'] + df['PRIOR 9'] + df['Hi PRIOR']) -\\\n",
    "                1/3 * (df['Lo PRIOR'] + df['PRIOR 2'] + df['PRIOR 3']))\n",
    "df['rx_mom_D5'] = (1/5 * (df['PRIOR 6'] + df['PRIOR 7'] + df['PRIOR 8'] + df['PRIOR 9'] + df['Hi PRIOR']) -\\\n",
    "                1/5 * (df['Lo PRIOR'] + df['PRIOR 2'] + df['PRIOR 3'] + df['PRIOR 4'] + df['PRIOR 5']))\n",
    "table3.loc['rx_mom_D1', :] = table_row(df['1994':], portfolio='rx_mom_D1')\n",
    "table3.loc['rx_mom_D3', :] = table_row(df['1994':], portfolio='rx_mom_D3')\n",
    "table3.loc['rx_mom_D5', :] = table_row(df['1994':], portfolio='rx_mom_D5')\n",
    "\n",
    "table3.style.set_caption('Table 3: Robustness of momentum construction.')"
   ]
  },
  {
   "cell_type": "code",
   "execution_count": 11,
   "metadata": {},
   "outputs": [
    {
     "data": {
      "text/html": [
       "<style type=\"text/css\">\n",
       "</style>\n",
       "<table id=\"T_391ef\">\n",
       "  <caption>Solution Table 2: Long-only momentum performance.</caption>\n",
       "  <thead>\n",
       "    <tr>\n",
       "      <th class=\"blank level0\" >&nbsp;</th>\n",
       "      <th id=\"T_391ef_level0_col0\" class=\"col_heading level0 col0\" >mean </th>\n",
       "      <th id=\"T_391ef_level0_col1\" class=\"col_heading level0 col1\" >vol </th>\n",
       "      <th id=\"T_391ef_level0_col2\" class=\"col_heading level0 col2\" >sharpe_ratio </th>\n",
       "      <th id=\"T_391ef_level0_col3\" class=\"col_heading level0 col3\" >skew </th>\n",
       "      <th id=\"T_391ef_level0_col4\" class=\"col_heading level0 col4\" >corr_to_mkt </th>\n",
       "      <th id=\"T_391ef_level0_col5\" class=\"col_heading level0 col5\" >corr_to_value</th>\n",
       "    </tr>\n",
       "  </thead>\n",
       "  <tbody>\n",
       "    <tr>\n",
       "      <th id=\"T_391ef_level0_row0\" class=\"row_heading level0 row0\" >long_short</th>\n",
       "      <td id=\"T_391ef_row0_col0\" class=\"data row0 col0\" >0.047329</td>\n",
       "      <td id=\"T_391ef_row0_col1\" class=\"data row0 col1\" >0.168603</td>\n",
       "      <td id=\"T_391ef_row0_col2\" class=\"data row0 col2\" >0.280711</td>\n",
       "      <td id=\"T_391ef_row0_col3\" class=\"data row0 col3\" >-1.433724</td>\n",
       "      <td id=\"T_391ef_row0_col4\" class=\"data row0 col4\" >-0.306118</td>\n",
       "      <td id=\"T_391ef_row0_col5\" class=\"data row0 col5\" >-0.238548</td>\n",
       "    </tr>\n",
       "    <tr>\n",
       "      <th id=\"T_391ef_level0_row1\" class=\"row_heading level0 row1\" >long_only</th>\n",
       "      <td id=\"T_391ef_row1_col0\" class=\"data row1 col0\" >0.112783</td>\n",
       "      <td id=\"T_391ef_row1_col1\" class=\"data row1 col1\" >0.178903</td>\n",
       "      <td id=\"T_391ef_row1_col2\" class=\"data row1 col2\" >0.630411</td>\n",
       "      <td id=\"T_391ef_row1_col3\" class=\"data row1 col3\" >-0.482872</td>\n",
       "      <td id=\"T_391ef_row1_col4\" class=\"data row1 col4\" >0.903499</td>\n",
       "      <td id=\"T_391ef_row1_col5\" class=\"data row1 col5\" >-0.154667</td>\n",
       "    </tr>\n",
       "  </tbody>\n",
       "</table>\n"
      ],
      "text/plain": [
       "<pandas.io.formats.style.Styler at 0x7fba4b555460>"
      ]
     },
     "execution_count": 11,
     "metadata": {},
     "output_type": "execute_result"
    }
   ],
   "source": [
    "table2.style.set_caption('Solution Table 2: Long-only momentum performance.')"
   ]
  },
  {
   "cell_type": "markdown",
   "metadata": {},
   "source": [
    "(b) The lecture implies that the more extreme the cutoff for the \"winners\", the higher the mean return of the momentum portfolio. The downside is that we would expect higher volatility. This is consistent with what we see here.\n",
    "\n",
    "(c) If AQR can accept a higher volality and take on high concentrations in individual stocks, it can consider the 1-decile contruction as a retail product as the performance of the 1-decile construction is stronger. If AQR chooses the 5-decile construction, it means that it will hold all securities on the market, the trading costs from the rebalancing would be huge and the premium would be smaller too, but it has a smaller volality and a very diversified portfolio. I don't think AQR will choose either option.\n",
    "\n",
    "(d) The Fama-French construction has a larger mean, a smaller vol, and thus a higher sharpe ratio. Other measures are on the same scale as those of the 3-decile construction. This shows that segment by size actually gives a better performance."
   ]
  },
  {
   "cell_type": "code",
   "execution_count": 12,
   "metadata": {},
   "outputs": [
    {
     "data": {
      "text/html": [
       "<style type=\"text/css\">\n",
       "</style>\n",
       "<table id=\"T_a5279\">\n",
       "  <caption>Table 4: Small stock momentum performance.</caption>\n",
       "  <thead>\n",
       "    <tr>\n",
       "      <th class=\"blank level0\" >&nbsp;</th>\n",
       "      <th id=\"T_a5279_level0_col0\" class=\"col_heading level0 col0\" >mean </th>\n",
       "      <th id=\"T_a5279_level0_col1\" class=\"col_heading level0 col1\" >vol </th>\n",
       "      <th id=\"T_a5279_level0_col2\" class=\"col_heading level0 col2\" >sharpe_ratio </th>\n",
       "      <th id=\"T_a5279_level0_col3\" class=\"col_heading level0 col3\" >skew </th>\n",
       "      <th id=\"T_a5279_level0_col4\" class=\"col_heading level0 col4\" >corr_to_mkt </th>\n",
       "      <th id=\"T_a5279_level0_col5\" class=\"col_heading level0 col5\" >corr_to_v</th>\n",
       "    </tr>\n",
       "  </thead>\n",
       "  <tbody>\n",
       "    <tr>\n",
       "      <th id=\"T_a5279_level0_row0\" class=\"row_heading level0 row0\" >rx_mom_FF</th>\n",
       "      <td id=\"T_a5279_row0_col0\" class=\"data row0 col0\" >0.047329</td>\n",
       "      <td id=\"T_a5279_row0_col1\" class=\"data row0 col1\" >0.168603</td>\n",
       "      <td id=\"T_a5279_row0_col2\" class=\"data row0 col2\" >0.280711</td>\n",
       "      <td id=\"T_a5279_row0_col3\" class=\"data row0 col3\" >-1.433724</td>\n",
       "      <td id=\"T_a5279_row0_col4\" class=\"data row0 col4\" >-0.306118</td>\n",
       "      <td id=\"T_a5279_row0_col5\" class=\"data row0 col5\" >-0.238548</td>\n",
       "    </tr>\n",
       "    <tr>\n",
       "      <th id=\"T_a5279_level0_row1\" class=\"row_heading level0 row1\" >rx_mom_S</th>\n",
       "      <td id=\"T_a5279_row1_col0\" class=\"data row1 col0\" >0.062737</td>\n",
       "      <td id=\"T_a5279_row1_col1\" class=\"data row1 col1\" >0.171615</td>\n",
       "      <td id=\"T_a5279_row1_col2\" class=\"data row1 col2\" >0.365571</td>\n",
       "      <td id=\"T_a5279_row1_col3\" class=\"data row1 col3\" >-1.750109</td>\n",
       "      <td id=\"T_a5279_row1_col4\" class=\"data row1 col4\" >-0.306908</td>\n",
       "      <td id=\"T_a5279_row1_col5\" class=\"data row1 col5\" >-0.164672</td>\n",
       "    </tr>\n",
       "    <tr>\n",
       "      <th id=\"T_a5279_level0_row2\" class=\"row_heading level0 row2\" >rx_mom_B</th>\n",
       "      <td id=\"T_a5279_row2_col0\" class=\"data row2 col0\" >0.031920</td>\n",
       "      <td id=\"T_a5279_row2_col1\" class=\"data row2 col1\" >0.181863</td>\n",
       "      <td id=\"T_a5279_row2_col2\" class=\"data row2 col2\" >0.175517</td>\n",
       "      <td id=\"T_a5279_row2_col3\" class=\"data row2 col3\" >-0.857615</td>\n",
       "      <td id=\"T_a5279_row2_col4\" class=\"data row2 col4\" >-0.277984</td>\n",
       "      <td id=\"T_a5279_row2_col5\" class=\"data row2 col5\" >-0.286919</td>\n",
       "    </tr>\n",
       "  </tbody>\n",
       "</table>\n"
      ],
      "text/plain": [
       "<pandas.io.formats.style.Styler at 0x7fba45f57c70>"
      ]
     },
     "execution_count": 12,
     "metadata": {},
     "output_type": "execute_result"
    }
   ],
   "source": [
    "df['rx_mom_S'] = df['SMALL HiPRIOR'] - df['SMALL LoPRIOR']\n",
    "df['rx_mom_B'] = df['BIG HiPRIOR'] - df['BIG LoPRIOR']\n",
    "table4 = pd.DataFrame(columns=['mean ', 'vol ', 'sharpe_ratio ', 'skew ', 'corr_to_mkt ','corr_to_v'])\n",
    "table4.loc['rx_mom_FF', :] = table_row(df['1994':], portfolio='rx_mom_FF')\n",
    "table4.loc['rx_mom_S', :] = table_row(df['1994':], portfolio='rx_mom_S')\n",
    "table4.loc['rx_mom_B', :] = table_row(df['1994':], portfolio='rx_mom_B')\n",
    "table4.style.set_caption('Table 4: Small stock momentum performance.')"
   ]
  },
  {
   "cell_type": "markdown",
   "metadata": {},
   "source": [
    "It doesn't seem like the attractiveness of the momentum strategy is mostly driven by the small stocks as the all three momentum constructions have comparable performance. However, when taking the regulatory and liquidity issue into consideration, a momentum strategy in large stocks still delivers excess returns at comparable risk."
   ]
  },
  {
   "cell_type": "markdown",
   "metadata": {},
   "source": [
    "5. \n",
    "The AQR retail product is substantially different from what we typically refer to as momentum. Though it has strong expected returns, it is almost all from market premium. This is a feature of being long-only and won't be fixed by modifying the exact constructions decile, sorting by size, etc."
   ]
  }
 ],
 "metadata": {
  "kernelspec": {
   "display_name": "Python 3.9.12 ('base')",
   "language": "python",
   "name": "python3"
  },
  "language_info": {
   "codemirror_mode": {
    "name": "ipython",
    "version": 3
   },
   "file_extension": ".py",
   "mimetype": "text/x-python",
   "name": "python",
   "nbconvert_exporter": "python",
   "pygments_lexer": "ipython3",
   "version": "3.9.12"
  },
  "orig_nbformat": 4,
  "vscode": {
   "interpreter": {
    "hash": "a71391375be2dac210dad05811dc4f7c8d6999b7d96e27484516d89849182552"
   }
  }
 },
 "nbformat": 4,
 "nbformat_minor": 2
}
